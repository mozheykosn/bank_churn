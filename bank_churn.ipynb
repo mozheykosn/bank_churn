{
 "cells": [
  {
   "cell_type": "markdown",
   "metadata": {},
   "source": [
    "# Customer Churn Analysis"
   ]
  },
  {
   "cell_type": "markdown",
   "metadata": {},
   "source": [
    "**Project Description**\n",
    "\n",
    "*Client*: Marketing department of \"Metanprom\" bank. The bank is experiencing an increased customer churn, which poses a threat to the bank's existence.\n",
    "\n",
    "*Objective*: Identify homogeneous and highly accurate segments of churned customers, on which interventions should be focused to improve the bank's performance.\n",
    "\n",
    "*Data Description*:\n",
    "The dataset contains data about customers of \"Metanprom\" bank. The bank is located in Yaroslavl and the regional cities: Rostov Veliky and Rybinsk.\n",
    "\n",
    "Columns:\n",
    "\n",
    "- `userid` — user identifier,\n",
    "- `score` — credit score,\n",
    "- `City` — city,\n",
    "- `Gender` — gender,\n",
    "- `Age` — age,\n",
    "- `equity` — equity score,\n",
    "- `Balance` — account balance,\n",
    "- `Products` — number of products used by the customer,\n",
    "- `CreditCard` — whether the customer has a credit card,\n",
    "- `last_activity` — active customer indicator,\n",
    "- `estimated_salary` — customer's estimated salary,\n",
    "- `Churn` — churn status (whether the customer has churned or not).\n",
    "\n",
    "*Contents*:\n",
    "1. Data Loading and Preprocessing\n",
    "   - Check the correctness of column names and rename them if needed.\n",
    "   - Data encoding.\n",
    "   - Check data types and convert them if necessary.\n",
    "   - Handle missing values.\n",
    "   - Handle duplicates.\n",
    "2. Exploratory Data Analysis. Explore correlations and customer profiles.\n",
    "3. Identify features that influence churn. Draw conclusions.\n",
    "4. Identify segments that are most prone to churn. Prioritize them.\n",
    "5. Hypothesis Testing:\n",
    "   1. Hypothesis on the difference in income between churned and retained customers.\n",
    "   2. Hypothesis on the difference in churn rate based on the number of products used.\n"
   ]
  },
  {
   "cell_type": "markdown",
   "metadata": {},
   "source": [
    "## Data Loading and Preprocessing"
   ]
  },
  {
   "cell_type": "markdown",
   "metadata": {},
   "source": [
    "### Data Loading"
   ]
  },
  {
   "cell_type": "code",
   "execution_count": 1,
   "metadata": {},
   "outputs": [],
   "source": [
    "#импорт библиотек\n",
    "import pandas as pd\n",
    "import numpy as np\n",
    "import matplotlib.pyplot as plt\n",
    "from scipy import stats as st\n",
    "import datetime\n",
    "import math as mth\n",
    "import seaborn as sns"
   ]
  },
  {
   "cell_type": "code",
   "execution_count": 2,
   "metadata": {},
   "outputs": [],
   "source": [
    "# чтение файла bank_scrooge.csv с данными и сохранение его в переменную \n",
    "path = \"https://drive.google.com/uc?export=download&id=1-U61mhTz_N1ARjy2XSAZ7IlQqGjeqP0F\" \n",
    "df = pd.read_csv(path)"
   ]
  },
  {
   "cell_type": "code",
   "execution_count": 3,
   "metadata": {},
   "outputs": [
    {
     "data": {
      "text/html": [
       "<div>\n",
       "<style scoped>\n",
       "    .dataframe tbody tr th:only-of-type {\n",
       "        vertical-align: middle;\n",
       "    }\n",
       "\n",
       "    .dataframe tbody tr th {\n",
       "        vertical-align: top;\n",
       "    }\n",
       "\n",
       "    .dataframe thead th {\n",
       "        text-align: right;\n",
       "    }\n",
       "</style>\n",
       "<table border=\"1\" class=\"dataframe\">\n",
       "  <thead>\n",
       "    <tr style=\"text-align: right;\">\n",
       "      <th></th>\n",
       "      <th>USERID</th>\n",
       "      <th>score</th>\n",
       "      <th>city</th>\n",
       "      <th>gender</th>\n",
       "      <th>age</th>\n",
       "      <th>equity</th>\n",
       "      <th>balance</th>\n",
       "      <th>products</th>\n",
       "      <th>credit_card</th>\n",
       "      <th>last_activity</th>\n",
       "      <th>EST_SALARY</th>\n",
       "      <th>churn</th>\n",
       "    </tr>\n",
       "  </thead>\n",
       "  <tbody>\n",
       "    <tr>\n",
       "      <th>0</th>\n",
       "      <td>183012</td>\n",
       "      <td>850.0</td>\n",
       "      <td>Рыбинск</td>\n",
       "      <td>Ж</td>\n",
       "      <td>25.0</td>\n",
       "      <td>1</td>\n",
       "      <td>59214.82</td>\n",
       "      <td>2</td>\n",
       "      <td>0</td>\n",
       "      <td>1</td>\n",
       "      <td>75719.14</td>\n",
       "      <td>1</td>\n",
       "    </tr>\n",
       "    <tr>\n",
       "      <th>1</th>\n",
       "      <td>146556</td>\n",
       "      <td>861.0</td>\n",
       "      <td>Рыбинск</td>\n",
       "      <td>Ж</td>\n",
       "      <td>37.0</td>\n",
       "      <td>5</td>\n",
       "      <td>850594.33</td>\n",
       "      <td>3</td>\n",
       "      <td>1</td>\n",
       "      <td>0</td>\n",
       "      <td>86621.77</td>\n",
       "      <td>0</td>\n",
       "    </tr>\n",
       "    <tr>\n",
       "      <th>2</th>\n",
       "      <td>120722</td>\n",
       "      <td>892.0</td>\n",
       "      <td>Рыбинск</td>\n",
       "      <td>Ж</td>\n",
       "      <td>30.0</td>\n",
       "      <td>0</td>\n",
       "      <td>NaN</td>\n",
       "      <td>1</td>\n",
       "      <td>1</td>\n",
       "      <td>1</td>\n",
       "      <td>107683.34</td>\n",
       "      <td>0</td>\n",
       "    </tr>\n",
       "    <tr>\n",
       "      <th>3</th>\n",
       "      <td>225363</td>\n",
       "      <td>866.0</td>\n",
       "      <td>Ярославль</td>\n",
       "      <td>Ж</td>\n",
       "      <td>51.0</td>\n",
       "      <td>5</td>\n",
       "      <td>1524746.26</td>\n",
       "      <td>2</td>\n",
       "      <td>0</td>\n",
       "      <td>1</td>\n",
       "      <td>174423.53</td>\n",
       "      <td>1</td>\n",
       "    </tr>\n",
       "    <tr>\n",
       "      <th>4</th>\n",
       "      <td>157978</td>\n",
       "      <td>730.0</td>\n",
       "      <td>Ярославль</td>\n",
       "      <td>М</td>\n",
       "      <td>34.0</td>\n",
       "      <td>5</td>\n",
       "      <td>174.00</td>\n",
       "      <td>1</td>\n",
       "      <td>1</td>\n",
       "      <td>0</td>\n",
       "      <td>67353.16</td>\n",
       "      <td>1</td>\n",
       "    </tr>\n",
       "  </tbody>\n",
       "</table>\n",
       "</div>"
      ],
      "text/plain": [
       "   USERID  score       city gender   age  equity     balance  products  \\\n",
       "0  183012  850.0    Рыбинск      Ж  25.0       1    59214.82         2   \n",
       "1  146556  861.0    Рыбинск      Ж  37.0       5   850594.33         3   \n",
       "2  120722  892.0    Рыбинск      Ж  30.0       0         NaN         1   \n",
       "3  225363  866.0  Ярославль      Ж  51.0       5  1524746.26         2   \n",
       "4  157978  730.0  Ярославль      М  34.0       5      174.00         1   \n",
       "\n",
       "   credit_card  last_activity  EST_SALARY  churn  \n",
       "0            0              1    75719.14      1  \n",
       "1            1              0    86621.77      0  \n",
       "2            1              1   107683.34      0  \n",
       "3            0              1   174423.53      1  \n",
       "4            1              0    67353.16      1  "
      ]
     },
     "execution_count": 3,
     "metadata": {},
     "output_type": "execute_result"
    }
   ],
   "source": [
    "#выведем первые строки\n",
    "df.head()"
   ]
  },
  {
   "cell_type": "markdown",
   "metadata": {},
   "source": [
    "### Handling Missing Values and Data Type Conversion"
   ]
  },
  {
   "cell_type": "markdown",
   "metadata": {},
   "source": [
    "The first step is to modify column names and bring them into the correct format."
   ]
  },
  {
   "cell_type": "code",
   "execution_count": 4,
   "metadata": {},
   "outputs": [],
   "source": [
    "df.rename(columns = {'USERID':'user_id', \n",
    "                     'EST_SALARY':'salary'}, \n",
    "          inplace = True )"
   ]
  },
  {
   "cell_type": "markdown",
   "metadata": {},
   "source": [
    "Let's examine missing values and data types:"
   ]
  },
  {
   "cell_type": "code",
   "execution_count": 5,
   "metadata": {},
   "outputs": [
    {
     "name": "stdout",
     "output_type": "stream",
     "text": [
      "<class 'pandas.core.frame.DataFrame'>\n",
      "RangeIndex: 10000 entries, 0 to 9999\n",
      "Data columns (total 12 columns):\n",
      " #   Column         Non-Null Count  Dtype  \n",
      "---  ------         --------------  -----  \n",
      " 0   user_id        10000 non-null  int64  \n",
      " 1   score          10000 non-null  float64\n",
      " 2   city           10000 non-null  object \n",
      " 3   gender         10000 non-null  object \n",
      " 4   age            9974 non-null   float64\n",
      " 5   equity         10000 non-null  int64  \n",
      " 6   balance        7705 non-null   float64\n",
      " 7   products       10000 non-null  int64  \n",
      " 8   credit_card    10000 non-null  int64  \n",
      " 9   last_activity  10000 non-null  int64  \n",
      " 10  salary         10000 non-null  float64\n",
      " 11  churn          10000 non-null  int64  \n",
      "dtypes: float64(4), int64(6), object(2)\n",
      "memory usage: 937.6+ KB\n"
     ]
    }
   ],
   "source": [
    "df.info()"
   ]
  },
  {
   "cell_type": "markdown",
   "metadata": {},
   "source": [
    "There is an incorrect data type in the \"age\" column, which should be changed to integer. We will remove the missing values in this column since there are only a few (26) and replacing them with other data is not feasible."
   ]
  },
  {
   "cell_type": "code",
   "execution_count": 6,
   "metadata": {},
   "outputs": [],
   "source": [
    "# Удаляем все NaN значения\n",
    "df.dropna(subset=['age'], inplace=True)\n",
    "\n",
    "# Преобразуем столбец 'age' в тип int\n",
    "df['age'] = df['age'].astype(int)"
   ]
  },
  {
   "cell_type": "markdown",
   "metadata": {},
   "source": [
    "\n",
    "\n",
    "We also notice that there are missing values in the \"balance\" column. It's possible that these missing values represent zero balances, so let's check if there are any customers with zero balances."
   ]
  },
  {
   "cell_type": "code",
   "execution_count": 7,
   "metadata": {},
   "outputs": [
    {
     "data": {
      "text/html": [
       "<div>\n",
       "<style scoped>\n",
       "    .dataframe tbody tr th:only-of-type {\n",
       "        vertical-align: middle;\n",
       "    }\n",
       "\n",
       "    .dataframe tbody tr th {\n",
       "        vertical-align: top;\n",
       "    }\n",
       "\n",
       "    .dataframe thead th {\n",
       "        text-align: right;\n",
       "    }\n",
       "</style>\n",
       "<table border=\"1\" class=\"dataframe\">\n",
       "  <thead>\n",
       "    <tr style=\"text-align: right;\">\n",
       "      <th></th>\n",
       "      <th>user_id</th>\n",
       "      <th>score</th>\n",
       "      <th>city</th>\n",
       "      <th>gender</th>\n",
       "      <th>age</th>\n",
       "      <th>equity</th>\n",
       "      <th>balance</th>\n",
       "      <th>products</th>\n",
       "      <th>credit_card</th>\n",
       "      <th>last_activity</th>\n",
       "      <th>salary</th>\n",
       "      <th>churn</th>\n",
       "    </tr>\n",
       "  </thead>\n",
       "  <tbody>\n",
       "    <tr>\n",
       "      <th>3900</th>\n",
       "      <td>179831</td>\n",
       "      <td>730.0</td>\n",
       "      <td>Ярославль</td>\n",
       "      <td>М</td>\n",
       "      <td>18</td>\n",
       "      <td>0</td>\n",
       "      <td>0.0</td>\n",
       "      <td>2</td>\n",
       "      <td>1</td>\n",
       "      <td>1</td>\n",
       "      <td>64548.33</td>\n",
       "      <td>0</td>\n",
       "    </tr>\n",
       "    <tr>\n",
       "      <th>6757</th>\n",
       "      <td>148456</td>\n",
       "      <td>813.0</td>\n",
       "      <td>Ярославль</td>\n",
       "      <td>М</td>\n",
       "      <td>20</td>\n",
       "      <td>2</td>\n",
       "      <td>0.0</td>\n",
       "      <td>2</td>\n",
       "      <td>1</td>\n",
       "      <td>0</td>\n",
       "      <td>23876.51</td>\n",
       "      <td>0</td>\n",
       "    </tr>\n",
       "  </tbody>\n",
       "</table>\n",
       "</div>"
      ],
      "text/plain": [
       "      user_id  score       city gender  age  equity  balance  products  \\\n",
       "3900   179831  730.0  Ярославль      М   18       0      0.0         2   \n",
       "6757   148456  813.0  Ярославль      М   20       2      0.0         2   \n",
       "\n",
       "      credit_card  last_activity    salary  churn  \n",
       "3900            1              1  64548.33      0  \n",
       "6757            1              0  23876.51      0  "
      ]
     },
     "execution_count": 7,
     "metadata": {},
     "output_type": "execute_result"
    }
   ],
   "source": [
    "df.query('balance == 0')"
   ]
  },
  {
   "cell_type": "markdown",
   "metadata": {},
   "source": [
    "Unfortunately, the theory is not confirmed as there are customers with zero balances in the database. It's likely that the missing values appeared due to a different reason. Let's explore the missing values in the \"balance\" column using alternative methods."
   ]
  },
  {
   "cell_type": "code",
   "execution_count": 8,
   "metadata": {},
   "outputs": [
    {
     "name": "stdout",
     "output_type": "stream",
     "text": [
      "city\n",
      "Ярославль    0.64\n",
      "Рыбинск      0.26\n",
      "Ростов       0.10\n",
      "Name: city, dtype: float64\n",
      "\n",
      "gender\n",
      "М    0.56\n",
      "Ж    0.44\n",
      "Name: gender, dtype: float64\n",
      "\n",
      "equity\n",
      "0    0.95\n",
      "1    0.05\n",
      "3    0.00\n",
      "Name: equity, dtype: float64\n",
      "\n",
      "products\n",
      "1    0.85\n",
      "2    0.14\n",
      "3    0.01\n",
      "0    0.00\n",
      "Name: products, dtype: float64\n",
      "\n",
      "credit_card\n",
      "1    0.82\n",
      "0    0.18\n",
      "Name: credit_card, dtype: float64\n",
      "\n",
      "churn\n",
      "0    0.99\n",
      "1    0.01\n",
      "Name: churn, dtype: float64\n",
      "\n"
     ]
    }
   ],
   "source": [
    "new_df = df.query('balance.isna()')\n",
    "\n",
    "for column in ['city', 'gender', 'equity', 'products','credit_card', 'churn']:\n",
    "    print(column)\n",
    "    print(round(new_df[column].value_counts(normalize=True),2))\n",
    "    print()    \n"
   ]
  },
  {
   "cell_type": "markdown",
   "metadata": {},
   "source": [
    "As we can see, missing values are more common among customers from Yaroslavl, but this is not an argument since there are simply more customers from Yaroslavl in general. Gender does not affect the presence of missing values.\n",
    "\n",
    "However, we can note that among customers with missing values in the \"balance\" column, most of them have 1 product, and it is often a credit card. Additionally, around 80% of them are churned customers.\n",
    "\n",
    "In my opinion, there are too many missing values to simply remove them, so let's leave them as they are. Furthermore, there is no clear dependency to impute the missing values."
   ]
  },
  {
   "cell_type": "markdown",
   "metadata": {},
   "source": [
    "### Duplicates handling"
   ]
  },
  {
   "cell_type": "markdown",
   "metadata": {},
   "source": [
    "Let's check for obvious duplicates."
   ]
  },
  {
   "cell_type": "code",
   "execution_count": 9,
   "metadata": {},
   "outputs": [
    {
     "data": {
      "text/plain": [
       "0"
      ]
     },
     "execution_count": 9,
     "metadata": {},
     "output_type": "execute_result"
    }
   ],
   "source": [
    "df.duplicated().sum()"
   ]
  },
  {
   "cell_type": "markdown",
   "metadata": {},
   "source": [
    "\n",
    "\n",
    "There are no exact duplicates. Let's check if there are any duplicates in the user IDs."
   ]
  },
  {
   "cell_type": "code",
   "execution_count": 10,
   "metadata": {},
   "outputs": [
    {
     "data": {
      "text/plain": [
       "50"
      ]
     },
     "execution_count": 10,
     "metadata": {},
     "output_type": "execute_result"
    }
   ],
   "source": [
    "df['user_id'].duplicated().sum()"
   ]
  },
  {
   "cell_type": "markdown",
   "metadata": {},
   "source": [
    "\n",
    "\n",
    "We found 50 such users. Let's remove them since all IDs should be unique."
   ]
  },
  {
   "cell_type": "code",
   "execution_count": 11,
   "metadata": {},
   "outputs": [],
   "source": [
    "df.drop_duplicates(subset='user_id', keep='first', inplace=True)\n"
   ]
  },
  {
   "cell_type": "markdown",
   "metadata": {},
   "source": [
    "Now let's check for duplicates in the \"salary\" column."
   ]
  },
  {
   "cell_type": "code",
   "execution_count": 12,
   "metadata": {},
   "outputs": [
    {
     "data": {
      "text/plain": [
       "3"
      ]
     },
     "execution_count": 12,
     "metadata": {},
     "output_type": "execute_result"
    }
   ],
   "source": [
    "df['salary'].duplicated().sum()"
   ]
  },
  {
   "cell_type": "markdown",
   "metadata": {},
   "source": [
    "\n",
    "\n",
    "We found 3 duplicates. Let's examine them."
   ]
  },
  {
   "cell_type": "code",
   "execution_count": 13,
   "metadata": {},
   "outputs": [
    {
     "name": "stdout",
     "output_type": "stream",
     "text": [
      "      user_id  score       city gender  age  equity    balance  products  \\\n",
      "513    120675  832.0    Рыбинск      Ж   37       2  430220.82         2   \n",
      "884    214629  772.0  Ярославль      М   53       2  335295.37         2   \n",
      "2442   152240  861.0     Ростов      Ж   60       3  599546.80         2   \n",
      "4642   133759  831.0  Ярославль      М   50       5  560145.71         2   \n",
      "6050   202056  979.0    Рыбинск      Ж   30       2  820572.71         3   \n",
      "8376   217828  947.0  Ярославль      М   30       5  393215.11         1   \n",
      "\n",
      "      credit_card  last_activity     salary  churn  \n",
      "513             1              1   49742.87      0  \n",
      "884             1              1  176348.18      0  \n",
      "2442            0              1   49742.87      0  \n",
      "4642            1              1  108250.17      0  \n",
      "6050            1              0  108250.17      0  \n",
      "8376            1              0  176348.18      0  \n"
     ]
    }
   ],
   "source": [
    "duplicates = df[df['salary'].duplicated(keep=False)]\n",
    "print(duplicates)\n"
   ]
  },
  {
   "cell_type": "markdown",
   "metadata": {},
   "source": [
    "\n",
    "\n",
    "The remaining data is completely different, so it's likely just a coincidence in the numbers. We'll leave them as they are.\n",
    "\n",
    "Next, let's check the accuracy of the data in the \"products\" and \"credit_card\" columns. If we find any rows where \"products\" is listed as 0 but \"credit_card\" is listed as 1, it indicates an error."
   ]
  },
  {
   "cell_type": "code",
   "execution_count": 14,
   "metadata": {},
   "outputs": [
    {
     "data": {
      "text/html": [
       "<div>\n",
       "<style scoped>\n",
       "    .dataframe tbody tr th:only-of-type {\n",
       "        vertical-align: middle;\n",
       "    }\n",
       "\n",
       "    .dataframe tbody tr th {\n",
       "        vertical-align: top;\n",
       "    }\n",
       "\n",
       "    .dataframe thead th {\n",
       "        text-align: right;\n",
       "    }\n",
       "</style>\n",
       "<table border=\"1\" class=\"dataframe\">\n",
       "  <thead>\n",
       "    <tr style=\"text-align: right;\">\n",
       "      <th></th>\n",
       "      <th>user_id</th>\n",
       "      <th>score</th>\n",
       "      <th>city</th>\n",
       "      <th>gender</th>\n",
       "      <th>age</th>\n",
       "      <th>equity</th>\n",
       "      <th>balance</th>\n",
       "      <th>products</th>\n",
       "      <th>credit_card</th>\n",
       "      <th>last_activity</th>\n",
       "      <th>salary</th>\n",
       "      <th>churn</th>\n",
       "    </tr>\n",
       "  </thead>\n",
       "  <tbody>\n",
       "  </tbody>\n",
       "</table>\n",
       "</div>"
      ],
      "text/plain": [
       "Empty DataFrame\n",
       "Columns: [user_id, score, city, gender, age, equity, balance, products, credit_card, last_activity, salary, churn]\n",
       "Index: []"
      ]
     },
     "execution_count": 14,
     "metadata": {},
     "output_type": "execute_result"
    }
   ],
   "source": [
    "df.query('(products == 0) & (credit_card == 1)')"
   ]
  },
  {
   "cell_type": "markdown",
   "metadata": {},
   "source": [
    "\n",
    "\n",
    "There are no such rows."
   ]
  },
  {
   "cell_type": "markdown",
   "metadata": {},
   "source": [
    "### Outlier Handling"
   ]
  },
  {
   "cell_type": "markdown",
   "metadata": {},
   "source": [
    "\n",
    "Now let's examine the data for the presence of abnormal values."
   ]
  },
  {
   "cell_type": "code",
   "execution_count": 15,
   "metadata": {},
   "outputs": [
    {
     "data": {
      "text/html": [
       "<div>\n",
       "<style scoped>\n",
       "    .dataframe tbody tr th:only-of-type {\n",
       "        vertical-align: middle;\n",
       "    }\n",
       "\n",
       "    .dataframe tbody tr th {\n",
       "        vertical-align: top;\n",
       "    }\n",
       "\n",
       "    .dataframe thead th {\n",
       "        text-align: right;\n",
       "    }\n",
       "</style>\n",
       "<table border=\"1\" class=\"dataframe\">\n",
       "  <thead>\n",
       "    <tr style=\"text-align: right;\">\n",
       "      <th></th>\n",
       "      <th>user_id</th>\n",
       "      <th>score</th>\n",
       "      <th>age</th>\n",
       "      <th>equity</th>\n",
       "      <th>balance</th>\n",
       "      <th>products</th>\n",
       "      <th>credit_card</th>\n",
       "      <th>last_activity</th>\n",
       "      <th>salary</th>\n",
       "      <th>churn</th>\n",
       "    </tr>\n",
       "  </thead>\n",
       "  <tbody>\n",
       "    <tr>\n",
       "      <th>count</th>\n",
       "      <td>9924.000000</td>\n",
       "      <td>9924.000000</td>\n",
       "      <td>9924.000000</td>\n",
       "      <td>9924.000000</td>\n",
       "      <td>7.664000e+03</td>\n",
       "      <td>9924.000000</td>\n",
       "      <td>9924.000000</td>\n",
       "      <td>9924.000000</td>\n",
       "      <td>9.924000e+03</td>\n",
       "      <td>9924.000000</td>\n",
       "    </tr>\n",
       "    <tr>\n",
       "      <th>mean</th>\n",
       "      <td>171737.158706</td>\n",
       "      <td>848.731358</td>\n",
       "      <td>42.728839</td>\n",
       "      <td>2.634522</td>\n",
       "      <td>8.282063e+05</td>\n",
       "      <td>1.871624</td>\n",
       "      <td>0.679968</td>\n",
       "      <td>0.523378</td>\n",
       "      <td>1.478802e+05</td>\n",
       "      <td>0.183293</td>\n",
       "    </tr>\n",
       "    <tr>\n",
       "      <th>std</th>\n",
       "      <td>33697.419981</td>\n",
       "      <td>65.396890</td>\n",
       "      <td>12.176452</td>\n",
       "      <td>1.979371</td>\n",
       "      <td>1.984122e+06</td>\n",
       "      <td>0.793151</td>\n",
       "      <td>0.466512</td>\n",
       "      <td>0.499478</td>\n",
       "      <td>1.393583e+05</td>\n",
       "      <td>0.386926</td>\n",
       "    </tr>\n",
       "    <tr>\n",
       "      <th>min</th>\n",
       "      <td>94561.000000</td>\n",
       "      <td>642.000000</td>\n",
       "      <td>18.000000</td>\n",
       "      <td>0.000000</td>\n",
       "      <td>0.000000e+00</td>\n",
       "      <td>0.000000</td>\n",
       "      <td>0.000000</td>\n",
       "      <td>0.000000</td>\n",
       "      <td>2.546300e+03</td>\n",
       "      <td>0.000000</td>\n",
       "    </tr>\n",
       "    <tr>\n",
       "      <th>25%</th>\n",
       "      <td>142725.000000</td>\n",
       "      <td>802.000000</td>\n",
       "      <td>33.000000</td>\n",
       "      <td>0.000000</td>\n",
       "      <td>2.955266e+05</td>\n",
       "      <td>1.000000</td>\n",
       "      <td>0.000000</td>\n",
       "      <td>0.000000</td>\n",
       "      <td>7.525218e+04</td>\n",
       "      <td>0.000000</td>\n",
       "    </tr>\n",
       "    <tr>\n",
       "      <th>50%</th>\n",
       "      <td>172643.000000</td>\n",
       "      <td>853.000000</td>\n",
       "      <td>40.000000</td>\n",
       "      <td>3.000000</td>\n",
       "      <td>5.249277e+05</td>\n",
       "      <td>2.000000</td>\n",
       "      <td>1.000000</td>\n",
       "      <td>1.000000</td>\n",
       "      <td>1.197154e+05</td>\n",
       "      <td>0.000000</td>\n",
       "    </tr>\n",
       "    <tr>\n",
       "      <th>75%</th>\n",
       "      <td>201159.250000</td>\n",
       "      <td>900.000000</td>\n",
       "      <td>51.000000</td>\n",
       "      <td>4.000000</td>\n",
       "      <td>9.807537e+05</td>\n",
       "      <td>2.000000</td>\n",
       "      <td>1.000000</td>\n",
       "      <td>1.000000</td>\n",
       "      <td>1.746669e+05</td>\n",
       "      <td>0.000000</td>\n",
       "    </tr>\n",
       "    <tr>\n",
       "      <th>max</th>\n",
       "      <td>229145.000000</td>\n",
       "      <td>1000.000000</td>\n",
       "      <td>86.000000</td>\n",
       "      <td>9.000000</td>\n",
       "      <td>1.191136e+08</td>\n",
       "      <td>5.000000</td>\n",
       "      <td>1.000000</td>\n",
       "      <td>1.000000</td>\n",
       "      <td>1.395064e+06</td>\n",
       "      <td>1.000000</td>\n",
       "    </tr>\n",
       "  </tbody>\n",
       "</table>\n",
       "</div>"
      ],
      "text/plain": [
       "             user_id        score          age       equity       balance  \\\n",
       "count    9924.000000  9924.000000  9924.000000  9924.000000  7.664000e+03   \n",
       "mean   171737.158706   848.731358    42.728839     2.634522  8.282063e+05   \n",
       "std     33697.419981    65.396890    12.176452     1.979371  1.984122e+06   \n",
       "min     94561.000000   642.000000    18.000000     0.000000  0.000000e+00   \n",
       "25%    142725.000000   802.000000    33.000000     0.000000  2.955266e+05   \n",
       "50%    172643.000000   853.000000    40.000000     3.000000  5.249277e+05   \n",
       "75%    201159.250000   900.000000    51.000000     4.000000  9.807537e+05   \n",
       "max    229145.000000  1000.000000    86.000000     9.000000  1.191136e+08   \n",
       "\n",
       "          products  credit_card  last_activity        salary        churn  \n",
       "count  9924.000000  9924.000000    9924.000000  9.924000e+03  9924.000000  \n",
       "mean      1.871624     0.679968       0.523378  1.478802e+05     0.183293  \n",
       "std       0.793151     0.466512       0.499478  1.393583e+05     0.386926  \n",
       "min       0.000000     0.000000       0.000000  2.546300e+03     0.000000  \n",
       "25%       1.000000     0.000000       0.000000  7.525218e+04     0.000000  \n",
       "50%       2.000000     1.000000       1.000000  1.197154e+05     0.000000  \n",
       "75%       2.000000     1.000000       1.000000  1.746669e+05     0.000000  \n",
       "max       5.000000     1.000000       1.000000  1.395064e+06     1.000000  "
      ]
     },
     "execution_count": 15,
     "metadata": {},
     "output_type": "execute_result"
    }
   ],
   "source": [
    "# посмотрим на минимальные и максимальные значения по каждому столбцу \n",
    "df.describe()"
   ]
  },
  {
   "cell_type": "markdown",
   "metadata": {},
   "source": [
    "\n",
    "\n",
    "- The \"score\" column ranges from 642 (minimum) to 1000 (maximum).\n",
    "- The \"age\" column ranges from 18 to 86, which seems plausible.\n",
    "- The \"equity\" column ranges from 0 to 9. We can assume that higher scores indicate a more favorable client status.\n",
    "- The \"balance\" column ranges from 0 to 120 million. Let's examine the distribution of these data.\n",
    "- The \"products\" column ranges from 0 to 5, which seems plausible.\n",
    "- The \"salary\" column ranges from 2500 to 1.4 million. Let's examine the distribution of these data."
   ]
  },
  {
   "cell_type": "code",
   "execution_count": 16,
   "metadata": {
    "scrolled": true
   },
   "outputs": [
    {
     "data": {
      "image/png": "[encoded data removed]",
      "text/plain": [
       "<Figure size 720x360 with 1 Axes>"
      ]
     },
     "metadata": {
      "needs_background": "light"
     },
     "output_type": "display_data"
    }
   ],
   "source": [
    "x_values = pd.Series(range(0,len(df['salary'])))\n",
    "plt.figure(figsize=(10,5))\n",
    "plt.scatter(x_values, df['salary'])\n",
    "plt.xlabel('Клиенты')\n",
    "plt.ylabel('Заработная плата')\n",
    "plt.title('График распределения заработной платы клиентов');"
   ]
  },
  {
   "cell_type": "markdown",
   "metadata": {},
   "source": [
    "\n",
    "\n",
    "The data is distributed normally. Low salaries are more common than high salaries, just like in real life.\n"
   ]
  },
  {
   "cell_type": "code",
   "execution_count": 17,
   "metadata": {},
   "outputs": [
    {
     "data": {
      "image/png": "[encoded data removed]",
      "text/plain": [
       "<Figure size 720x360 with 1 Axes>"
      ]
     },
     "metadata": {
      "needs_background": "light"
     },
     "output_type": "display_data"
    }
   ],
   "source": [
    "x_values = pd.Series(range(0,len(df['balance'])))\n",
    "plt.figure(figsize=(10,5))\n",
    "plt.scatter(x_values, df['balance'])\n",
    "plt.xlabel('Клиент')\n",
    "plt.ylabel('Баланс')\n",
    "plt.title('Распределение баланса клиентов банка');"
   ]
  },
  {
   "cell_type": "markdown",
   "metadata": {},
   "source": [
    "\n",
    "All the graphs and tables indicate that the only column with anomalous values is the \"balance\" column. However, these data are likely accurate; they are simply rare occurrences. To facilitate analysis, we will remove the most noticeable outliers."
   ]
  },
  {
   "cell_type": "code",
   "execution_count": 18,
   "metadata": {},
   "outputs": [
    {
     "data": {
      "text/plain": [
       "count    7.664000e+03\n",
       "mean     8.282063e+05\n",
       "std      1.984122e+06\n",
       "min      0.000000e+00\n",
       "25%      2.955266e+05\n",
       "50%      5.249277e+05\n",
       "75%      9.807537e+05\n",
       "max      1.191136e+08\n",
       "Name: balance, dtype: float64"
      ]
     },
     "execution_count": 18,
     "metadata": {},
     "output_type": "execute_result"
    }
   ],
   "source": [
    "df['balance'].describe()"
   ]
  },
  {
   "cell_type": "code",
   "execution_count": 19,
   "metadata": {},
   "outputs": [],
   "source": [
    "#исключим выбросы\n",
    "df['balance'] = df[(df['balance'] >= 0) & (df['balance'] <= 800000)]"
   ]
  },
  {
   "cell_type": "code",
   "execution_count": 20,
   "metadata": {},
   "outputs": [
    {
     "name": "stdout",
     "output_type": "stream",
     "text": [
      "<class 'pandas.core.frame.DataFrame'>\n",
      "Int64Index: 9924 entries, 0 to 9999\n",
      "Data columns (total 12 columns):\n",
      " #   Column         Non-Null Count  Dtype  \n",
      "---  ------         --------------  -----  \n",
      " 0   user_id        9924 non-null   int64  \n",
      " 1   score          9924 non-null   float64\n",
      " 2   city           9924 non-null   object \n",
      " 3   gender         9924 non-null   object \n",
      " 4   age            9924 non-null   int64  \n",
      " 5   equity         9924 non-null   int64  \n",
      " 6   balance        5165 non-null   object \n",
      " 7   products       9924 non-null   int64  \n",
      " 8   credit_card    9924 non-null   int64  \n",
      " 9   last_activity  9924 non-null   int64  \n",
      " 10  salary         9924 non-null   float64\n",
      " 11  churn          9924 non-null   int64  \n",
      "dtypes: float64(2), int64(7), object(3)\n",
      "memory usage: 1007.9+ KB\n"
     ]
    }
   ],
   "source": [
    "df.info()"
   ]
  },
  {
   "cell_type": "markdown",
   "metadata": {},
   "source": [
    "\n",
    "\n",
    "**Conclusion**\n",
    "\n",
    "During the data preprocessing stage, we changed the data type in the \"age\" column, removed duplicates, and handled missing values where possible. We also applied data encoding to the \"age\" and \"city\" columns. Lastly, we removed outliers from the dataset."
   ]
  },
  {
   "cell_type": "markdown",
   "metadata": {},
   "source": [
    "## Exploratory Data Analysis"
   ]
  },
  {
   "cell_type": "markdown",
   "metadata": {},
   "source": [
    "### Analysis of All Bank Customers"
   ]
  },
  {
   "cell_type": "markdown",
   "metadata": {},
   "source": [
    "Let's start by examining the overall profile of the bank's customers."
   ]
  },
  {
   "cell_type": "code",
   "execution_count": 21,
   "metadata": {},
   "outputs": [
    {
     "data": {
      "image/png": "[encoded data removed]",
      "text/plain": [
       "<Figure size 576x576 with 1 Axes>"
      ]
     },
     "metadata": {},
     "output_type": "display_data"
    },
    {
     "data": {
      "image/png": "[encoded data removed]",
      "text/plain": [
       "<Figure size 576x576 with 1 Axes>"
      ]
     },
     "metadata": {},
     "output_type": "display_data"
    },
    {
     "data": {
      "image/png": "[encoded data removed]",
      "text/plain": [
       "<Figure size 576x576 with 1 Axes>"
      ]
     },
     "metadata": {},
     "output_type": "display_data"
    },
    {
     "data": {
      "image/png": "[encoded data removed]",
      "text/plain": [
       "<Figure size 576x576 with 1 Axes>"
      ]
     },
     "metadata": {},
     "output_type": "display_data"
    }
   ],
   "source": [
    "for column in ['city', 'gender','credit_card','churn']:\n",
    "    new_df = df.groupby(column).agg({'user_id': 'count'})\n",
    "    fig1, ax1 = plt.subplots(figsize=(8, 8))\n",
    "    colors = sns.color_palette('pastel')[0:5]\n",
    "    ax1.pie(new_df['user_id'], labels=new_df.index, colors=colors, autopct='%1.1f%%', \n",
    "    shadow=True, startangle=90, wedgeprops={'linewidth': 3, 'edgecolor': 'white'})\n",
    "    ax1.set_title(f'Распределение клиентов по признаку {column}')\n",
    "    plt.show()"
   ]
  },
  {
   "cell_type": "markdown",
   "metadata": {},
   "source": [
    "Let's define the \"typical\" characteristics of customers at \"Metanprom\" bank:\n",
    "\n",
    "59% of customers are from Yaroslavl city.\n",
    "Gender is almost evenly split, but males are slightly more prevalent.\n",
    "68% of customers have a credit card.\n",
    "82% of customers are non-churned, while 18% represent the churned customer percentage."
   ]
  },
  {
   "cell_type": "code",
   "execution_count": 22,
   "metadata": {},
   "outputs": [
    {
     "data": {
      "image/png": "[encoded data removed]",
      "text/plain": [
       "<Figure size 720x360 with 1 Axes>"
      ]
     },
     "metadata": {
      "needs_background": "light"
     },
     "output_type": "display_data"
    },
    {
     "data": {
      "image/png": "[encoded data removed]",
      "text/plain": [
       "<Figure size 720x360 with 1 Axes>"
      ]
     },
     "metadata": {
      "needs_background": "light"
     },
     "output_type": "display_data"
    },
    {
     "data": {
      "image/png": "[encoded data removed]",
      "text/plain": [
       "<Figure size 720x360 with 1 Axes>"
      ]
     },
     "metadata": {
      "needs_background": "light"
     },
     "output_type": "display_data"
    }
   ],
   "source": [
    "for column in ['age', 'equity', 'products']:\n",
    "    plt.figure(figsize=(10, 5))\n",
    "    sns.countplot(data=df, x=column)\n",
    "    plt.title(f'Распределение клиентов по признаку {column}', fontsize=16)\n",
    "    plt.xlabel(column, fontsize=14)\n",
    "    plt.ylabel('Частота', fontsize=14)\n",
    "    plt.show()"
   ]
  },
  {
   "cell_type": "code",
   "execution_count": 23,
   "metadata": {},
   "outputs": [
    {
     "data": {
      "image/png": "[encoded data removed]",
      "text/plain": [
       "<Figure size 1440x432 with 1 Axes>"
      ]
     },
     "metadata": {
      "needs_background": "light"
     },
     "output_type": "display_data"
    },
    {
     "data": {
      "image/png": "[encoded data removed]",
      "text/plain": [
       "<Figure size 1440x432 with 1 Axes>"
      ]
     },
     "metadata": {},
     "output_type": "display_data"
    },
    {
     "data": {
      "image/png": "[encoded data removed]",
      "text/plain": [
       "<Figure size 1440x432 with 1 Axes>"
      ]
     },
     "metadata": {},
     "output_type": "display_data"
    }
   ],
   "source": [
    "light_green = (0.6, 0.8, 0.6)  \n",
    "\n",
    "for column in ['score', 'balance', 'salary']:\n",
    "    plt.figure(figsize=(20, 6))\n",
    "    sns.set_style(\"whitegrid\")\n",
    "    sns.histplot(data=df, x=column, bins=200, color=light_green, edgecolor='black')\n",
    "    plt.title(f'Распределение клиентов по признаку {column}')\n",
    "    plt.xlabel(column)\n",
    "    plt.ylabel('Частота')\n",
    "    sns.despine()\n",
    "    plt.show();"
   ]
  },
  {
   "cell_type": "markdown",
   "metadata": {},
   "source": [
    "Conclusions from the graphs:\n",
    "\n",
    "The most common age range is between 32 and 37.\n",
    "Ratings of 0, 4, and 5 are the most common property scores.\n",
    "Customers most frequently have 2 products.\n",
    "The majority of customers have a score value between 800 and 920.\n",
    "Balances for customers range from 120,000 to 220,000 rubles.\n",
    "The average salary for customers is between 70,000 and 180,000 rubles."
   ]
  },
  {
   "cell_type": "markdown",
   "metadata": {},
   "source": [
    "### Analysis of Churned Customers"
   ]
  },
  {
   "cell_type": "markdown",
   "metadata": {},
   "source": [
    "Let's examine the overall churn percentage:"
   ]
  },
  {
   "cell_type": "code",
   "execution_count": 24,
   "metadata": {},
   "outputs": [
    {
     "name": "stdout",
     "output_type": "stream",
     "text": [
      "Общий процент оттока по всем данным: 18.33\n"
     ]
    }
   ],
   "source": [
    "total_churn_percent = round((df['churn'].sum() / len(df)) * 100, 2)\n",
    "print(\"Общий процент оттока по всем данным:\", total_churn_percent)"
   ]
  },
  {
   "cell_type": "markdown",
   "metadata": {},
   "source": [
    "Let's analyze churn rates based on different factors:\n",
    "\n"
   ]
  },
  {
   "cell_type": "code",
   "execution_count": 25,
   "metadata": {},
   "outputs": [
    {
     "data": {
      "image/png": "[encoded data removed]",
      "text/plain": [
       "<Figure size 690.375x432 with 1 Axes>"
      ]
     },
     "metadata": {},
     "output_type": "display_data"
    },
    {
     "data": {
      "image/png": "[encoded data removed]",
      "text/plain": [
       "<Figure size 690.375x432 with 1 Axes>"
      ]
     },
     "metadata": {},
     "output_type": "display_data"
    },
    {
     "data": {
      "image/png": "[encoded data removed]",
      "text/plain": [
       "<Figure size 690.375x432 with 1 Axes>"
      ]
     },
     "metadata": {},
     "output_type": "display_data"
    }
   ],
   "source": [
    "for column in ['score', 'age', 'balance']:\n",
    "    sns.set_palette(\"muted\")\n",
    "    sns.displot(df, x=column, hue=df['churn'], stat=\"density\", common_norm=False, height=6, aspect=1.5)\n",
    "    plt.show();"
   ]
  },
  {
   "cell_type": "code",
   "execution_count": 26,
   "metadata": {},
   "outputs": [
    {
     "data": {
      "image/png": "[encoded data removed]",
      "text/plain": [
       "<Figure size 690.375x432 with 1 Axes>"
      ]
     },
     "metadata": {},
     "output_type": "display_data"
    }
   ],
   "source": [
    "sns.set_palette(\"muted\")\n",
    "sns.displot(df, x=df['salary'], hue=df['churn'], stat=\"density\", common_norm=False, height=6, aspect=1.5)\n",
    "plt.xlim(0, 400000)\n",
    "plt.show();"
   ]
  },
  {
   "cell_type": "code",
   "execution_count": 27,
   "metadata": {
    "scrolled": true
   },
   "outputs": [
    {
     "data": {
      "image/png": "[encoded data removed]",
      "text/plain": [
       "<Figure size 720x360 with 1 Axes>"
      ]
     },
     "metadata": {},
     "output_type": "display_data"
    },
    {
     "data": {
      "image/png": "[encoded data removed]",
      "text/plain": [
       "<Figure size 720x360 with 1 Axes>"
      ]
     },
     "metadata": {},
     "output_type": "display_data"
    },
    {
     "data": {
      "image/png": "[encoded data removed]",
      "text/plain": [
       "<Figure size 720x360 with 1 Axes>"
      ]
     },
     "metadata": {},
     "output_type": "display_data"
    },
    {
     "data": {
      "image/png": "[encoded data removed]",
      "text/plain": [
       "<Figure size 720x360 with 1 Axes>"
      ]
     },
     "metadata": {},
     "output_type": "display_data"
    },
    {
     "data": {
      "image/png": "[encoded data removed]",
      "text/plain": [
       "<Figure size 720x360 with 1 Axes>"
      ]
     },
     "metadata": {},
     "output_type": "display_data"
    }
   ],
   "source": [
    "for column in ['city', 'gender', 'credit_card', 'products', 'equity']:\n",
    "    plt.figure(figsize=(10, 5))\n",
    "    mean_churn = df.groupby(column)['churn'].mean()\n",
    "    plt.bar(mean_churn.index, mean_churn.values, color='steelblue', alpha=0.7)\n",
    "    mean_churn_all = df['churn'].mean()\n",
    "    plt.axhline(mean_churn_all, linestyle='dashed', color='red', label='Средний отток (все данные)')\n",
    "    plt.xlabel(f'{column}')\n",
    "    plt.ylabel('Процент оттока')\n",
    "    plt.title(f'Уровень оттока по {column}')\n",
    "    plt.show();"
   ]
  },
  {
   "cell_type": "markdown",
   "metadata": {},
   "source": [
    "Overall churn percentage across all data: 18.33%.\n",
    "\n",
    "After analyzing all the indicators, we can identify several characteristics associated with churn:\n",
    "\n",
    "- Scores ranging from 830 to 950.\n",
    "- Age groups between 50 and 60, as well as 25-30.\n",
    "- Male customers.\n",
    "- Balances between 100,000 and 120,000, and 140,000-180,000.\n",
    "- Higher churn rates in Yaroslavl.\n",
    "- Customers without a credit card.\n",
    "- Customers with 3, 4, or 5 products (excluding 0, as there is only one customer with churn status).\n",
    "- Equity scores between 3 and 9, especially 6, 7, and 9.\n",
    "- Salaries between 100,000 and 220,000.\n",
    "\n",
    "Less prone to churn are customers with the following characteristics:\n",
    "- Scores between 690 and 820.\n",
    "- Age groups between 36-45 and 60+.\n",
    "- Balances between 140,000 and 180,000.\n",
    "- Salaries ranging from 0 to 90,000.\n",
    "- Customers residing in Rybinsk.\n",
    "- Female customers.\n",
    "- Customers with a credit card.\n",
    "- Customers with 1 product.\n",
    "- Equity scores between 0 and 2."
   ]
  },
  {
   "cell_type": "markdown",
   "metadata": {},
   "source": [
    "### Correlation Matrix"
   ]
  },
  {
   "cell_type": "markdown",
   "metadata": {},
   "source": [
    "Let's explore possible correlations and identify which customers are most prone to churn.\n",
    "\n",
    "To examine the mean and correlations between categorical data and numerical values, let's encode the columns for city and gender. First, we'll duplicate them and encode them:"
   ]
  },
  {
   "cell_type": "code",
   "execution_count": 28,
   "metadata": {},
   "outputs": [],
   "source": [
    "df['city_code'] = df['city']\n",
    "df['city_code'] = df['city_code'].map({'Ярославль':0, 'Рыбинск':1, 'Ростов':2})\n",
    "\n",
    "# Применяем one-hot кодирование с помощью метода pandas.get_dummies()\n",
    "df = pd.get_dummies(df, columns=['city_code'], prefix='', prefix_sep='')\n",
    "df = df.rename(columns={'0': 'Ярославль', '1': 'Рыбинск', '2': 'Ростов'})"
   ]
  },
  {
   "cell_type": "code",
   "execution_count": 29,
   "metadata": {},
   "outputs": [
    {
     "data": {
      "text/html": [
       "<div>\n",
       "<style scoped>\n",
       "    .dataframe tbody tr th:only-of-type {\n",
       "        vertical-align: middle;\n",
       "    }\n",
       "\n",
       "    .dataframe tbody tr th {\n",
       "        vertical-align: top;\n",
       "    }\n",
       "\n",
       "    .dataframe thead th {\n",
       "        text-align: right;\n",
       "    }\n",
       "</style>\n",
       "<table border=\"1\" class=\"dataframe\">\n",
       "  <thead>\n",
       "    <tr style=\"text-align: right;\">\n",
       "      <th></th>\n",
       "      <th>user_id</th>\n",
       "      <th>score</th>\n",
       "      <th>city</th>\n",
       "      <th>gender</th>\n",
       "      <th>age</th>\n",
       "      <th>equity</th>\n",
       "      <th>balance</th>\n",
       "      <th>products</th>\n",
       "      <th>credit_card</th>\n",
       "      <th>last_activity</th>\n",
       "      <th>salary</th>\n",
       "      <th>churn</th>\n",
       "      <th>Ярославль</th>\n",
       "      <th>Рыбинск</th>\n",
       "      <th>Ростов</th>\n",
       "      <th>Ж</th>\n",
       "      <th>М</th>\n",
       "    </tr>\n",
       "  </thead>\n",
       "  <tbody>\n",
       "    <tr>\n",
       "      <th>0</th>\n",
       "      <td>183012</td>\n",
       "      <td>850.0</td>\n",
       "      <td>Рыбинск</td>\n",
       "      <td>Ж</td>\n",
       "      <td>25</td>\n",
       "      <td>1</td>\n",
       "      <td>183012.0</td>\n",
       "      <td>2</td>\n",
       "      <td>0</td>\n",
       "      <td>1</td>\n",
       "      <td>75719.14</td>\n",
       "      <td>1</td>\n",
       "      <td>0</td>\n",
       "      <td>1</td>\n",
       "      <td>0</td>\n",
       "      <td>1</td>\n",
       "      <td>0</td>\n",
       "    </tr>\n",
       "    <tr>\n",
       "      <th>1</th>\n",
       "      <td>146556</td>\n",
       "      <td>861.0</td>\n",
       "      <td>Рыбинск</td>\n",
       "      <td>Ж</td>\n",
       "      <td>37</td>\n",
       "      <td>5</td>\n",
       "      <td>NaN</td>\n",
       "      <td>3</td>\n",
       "      <td>1</td>\n",
       "      <td>0</td>\n",
       "      <td>86621.77</td>\n",
       "      <td>0</td>\n",
       "      <td>0</td>\n",
       "      <td>1</td>\n",
       "      <td>0</td>\n",
       "      <td>1</td>\n",
       "      <td>0</td>\n",
       "    </tr>\n",
       "    <tr>\n",
       "      <th>2</th>\n",
       "      <td>120722</td>\n",
       "      <td>892.0</td>\n",
       "      <td>Рыбинск</td>\n",
       "      <td>Ж</td>\n",
       "      <td>30</td>\n",
       "      <td>0</td>\n",
       "      <td>NaN</td>\n",
       "      <td>1</td>\n",
       "      <td>1</td>\n",
       "      <td>1</td>\n",
       "      <td>107683.34</td>\n",
       "      <td>0</td>\n",
       "      <td>0</td>\n",
       "      <td>1</td>\n",
       "      <td>0</td>\n",
       "      <td>1</td>\n",
       "      <td>0</td>\n",
       "    </tr>\n",
       "    <tr>\n",
       "      <th>3</th>\n",
       "      <td>225363</td>\n",
       "      <td>866.0</td>\n",
       "      <td>Ярославль</td>\n",
       "      <td>Ж</td>\n",
       "      <td>51</td>\n",
       "      <td>5</td>\n",
       "      <td>NaN</td>\n",
       "      <td>2</td>\n",
       "      <td>0</td>\n",
       "      <td>1</td>\n",
       "      <td>174423.53</td>\n",
       "      <td>1</td>\n",
       "      <td>1</td>\n",
       "      <td>0</td>\n",
       "      <td>0</td>\n",
       "      <td>1</td>\n",
       "      <td>0</td>\n",
       "    </tr>\n",
       "    <tr>\n",
       "      <th>4</th>\n",
       "      <td>157978</td>\n",
       "      <td>730.0</td>\n",
       "      <td>Ярославль</td>\n",
       "      <td>М</td>\n",
       "      <td>34</td>\n",
       "      <td>5</td>\n",
       "      <td>157978.0</td>\n",
       "      <td>1</td>\n",
       "      <td>1</td>\n",
       "      <td>0</td>\n",
       "      <td>67353.16</td>\n",
       "      <td>1</td>\n",
       "      <td>1</td>\n",
       "      <td>0</td>\n",
       "      <td>0</td>\n",
       "      <td>0</td>\n",
       "      <td>1</td>\n",
       "    </tr>\n",
       "  </tbody>\n",
       "</table>\n",
       "</div>"
      ],
      "text/plain": [
       "   user_id  score       city gender  age  equity   balance  products  \\\n",
       "0   183012  850.0    Рыбинск      Ж   25       1  183012.0         2   \n",
       "1   146556  861.0    Рыбинск      Ж   37       5       NaN         3   \n",
       "2   120722  892.0    Рыбинск      Ж   30       0       NaN         1   \n",
       "3   225363  866.0  Ярославль      Ж   51       5       NaN         2   \n",
       "4   157978  730.0  Ярославль      М   34       5  157978.0         1   \n",
       "\n",
       "   credit_card  last_activity     salary  churn  Ярославль  Рыбинск  Ростов  \\\n",
       "0            0              1   75719.14      1          0        1       0   \n",
       "1            1              0   86621.77      0          0        1       0   \n",
       "2            1              1  107683.34      0          0        1       0   \n",
       "3            0              1  174423.53      1          1        0       0   \n",
       "4            1              0   67353.16      1          1        0       0   \n",
       "\n",
       "   Ж  М  \n",
       "0  1  0  \n",
       "1  1  0  \n",
       "2  1  0  \n",
       "3  1  0  \n",
       "4  0  1  "
      ]
     },
     "execution_count": 29,
     "metadata": {},
     "output_type": "execute_result"
    }
   ],
   "source": [
    "df['gender_code'] = df['gender']\n",
    "df['gender_code'] = df['gender_code'].map({'М':1, 'Ж':0})\n",
    "\n",
    "# Применяем one-hot кодирование с помощью метода pandas.get_dummies()\n",
    "df = pd.get_dummies(df, columns=['gender_code'], prefix='', prefix_sep='')\n",
    "df = df.rename(columns={'0': 'Ж', '1': 'М'})\n",
    "df.head()"
   ]
  },
  {
   "cell_type": "code",
   "execution_count": 30,
   "metadata": {},
   "outputs": [
    {
     "data": {
      "image/png": "[encoded data removed]",
      "text/plain": [
       "<Figure size 864x864 with 2 Axes>"
      ]
     },
     "metadata": {},
     "output_type": "display_data"
    }
   ],
   "source": [
    "matrix = df.corr()\n",
    "\n",
    "plt.figure(figsize=(12, 12))\n",
    "sns.set(font_scale=1.2)  \n",
    "\n",
    "cmap = sns.diverging_palette(240, 10, as_cmap=True)\n",
    "\n",
    "sns.heatmap(matrix, annot=True, fmt=\".0%\", cmap=cmap, square=True, cbar=True, linewidths=0.5)\n",
    "plt.title('Тепловая карта матрицы корреляций', fontsize=16)\n",
    "\n",
    "\n",
    "plt.xticks(rotation=45, ha='right')  \n",
    "plt.yticks(rotation=0)  \n",
    "\n",
    "plt.tight_layout()\n",
    "plt.show()"
   ]
  },
  {
   "cell_type": "code",
   "execution_count": 31,
   "metadata": {},
   "outputs": [
    {
     "data": {
      "image/png": "[encoded data removed]",
      "text/plain": [
       "<Figure size 432x288 with 2 Axes>"
      ]
     },
     "metadata": {},
     "output_type": "display_data"
    }
   ],
   "source": [
    "sns.heatmap(\n",
    "    matrix.loc[:,['churn']].drop('churn').sort_values('churn'), annot=True, \n",
    "    fmt=\".0%\", cmap='vlag', center=0);"
   ]
  },
  {
   "cell_type": "markdown",
   "metadata": {},
   "source": [
    "There is no strong correlation between the indicators. The highest correlation with churn is observed for the number of products (30%) and the equity score (27%). However, this is not sufficient to conclude a definite dependency. Male customers are slightly more prone to churn than female customers, and Yaroslavl has a higher churn rate compared to other cities, but these dependencies are weak.\n",
    "\n"
   ]
  },
  {
   "cell_type": "markdown",
   "metadata": {},
   "source": [
    "### Customer Segmentation"
   ]
  },
  {
   "cell_type": "markdown",
   "metadata": {},
   "source": [
    "Let's identify the most churn-prone segments.\n",
    "\n",
    "Highly churn-prone segments, albeit small in size:"
   ]
  },
  {
   "cell_type": "code",
   "execution_count": 32,
   "metadata": {},
   "outputs": [
    {
     "name": "stdout",
     "output_type": "stream",
     "text": [
      "Процент отточных клиентов: 50.27%\n",
      "Процент пользователей в filtered_df от общего датафрейма: 7.54%\n",
      "Количество всего пользователей в сегменте: 748\n",
      "Количество отточных пользователей в сегменте: 376\n"
     ]
    }
   ],
   "source": [
    "filtered_df = df.query(\"gender == 'М' and products >= 3 and products <= 5\")\n",
    "\n",
    "total_customers = len(filtered_df)\n",
    "churned_customers = len(filtered_df[filtered_df['churn'] == 1])\n",
    "\n",
    "percentage_churned =  round((churned_customers / total_customers) * 100, 2)\n",
    "\n",
    "print(f\"Процент отточных клиентов: {percentage_churned}%\")\n",
    "\n",
    "percentage_users = round((len(filtered_df) / len(df)) * 100, 2)\n",
    "print(f\"Процент пользователей в filtered_df от общего датафрейма: {percentage_users}%\")\n",
    "print(f\"Количество всего пользователей в сегменте: {total_customers}\")\n",
    "print(f\"Количество отточных пользователей в сегменте: {churned_customers}\")\n"
   ]
  },
  {
   "cell_type": "code",
   "execution_count": 33,
   "metadata": {},
   "outputs": [
    {
     "name": "stdout",
     "output_type": "stream",
     "text": [
      "Процент отточных клиентов: 48.12%\n",
      "Процент пользователей в filtered_df от общего датафрейма: 8.84%\n",
      "Количество всего пользователей в сегменте: 877\n",
      "Количество отточных пользователей в сегменте: 422\n"
     ]
    }
   ],
   "source": [
    "filtered_df = df.query(\"score >= 830 and score <= 950 and products >= 3 and products <= 5\")\n",
    "\n",
    "total_customers = len(filtered_df)\n",
    "churned_customers = len(filtered_df[filtered_df['churn'] == 1])\n",
    "\n",
    "percentage_churned =  round((churned_customers / total_customers) * 100, 2)\n",
    "\n",
    "print(f\"Процент отточных клиентов: {percentage_churned}%\")\n",
    "\n",
    "percentage_users = round((len(filtered_df) / len(df)) * 100, 2)\n",
    "print(f\"Процент пользователей в filtered_df от общего датафрейма: {percentage_users}%\")\n",
    "print(f\"Количество всего пользователей в сегменте: {total_customers}\")\n",
    "print(f\"Количество отточных пользователей в сегменте: {churned_customers}\")\n",
    "\n",
    "\n"
   ]
  },
  {
   "cell_type": "code",
   "execution_count": 34,
   "metadata": {},
   "outputs": [
    {
     "name": "stdout",
     "output_type": "stream",
     "text": [
      "Процент отточных клиентов: 45.84%\n",
      "Процент пользователей в filtered_df от общего датафрейма: 8.11%\n",
      "Количество всего пользователей в сегменте: 805\n",
      "Количество отточных пользователей в сегменте: 369\n"
     ]
    }
   ],
   "source": [
    "filtered_df = df.query(\"salary >= 90000 and salary <= 230000 and products >= 3 and products <= 5\")\n",
    "\n",
    "total_customers = len(filtered_df)\n",
    "churned_customers = len(filtered_df[filtered_df['churn'] == 1])\n",
    "\n",
    "percentage_churned =  round((churned_customers / total_customers) * 100, 2)\n",
    "\n",
    "print(f\"Процент отточных клиентов: {percentage_churned}%\")\n",
    "\n",
    "percentage_users = round((len(filtered_df) / len(df)) * 100, 2)\n",
    "print(f\"Процент пользователей в filtered_df от общего датафрейма: {percentage_users}%\")\n",
    "print(f\"Количество всего пользователей в сегменте: {total_customers}\")\n",
    "print(f\"Количество отточных пользователей в сегменте: {churned_customers}\")\n"
   ]
  },
  {
   "cell_type": "code",
   "execution_count": 35,
   "metadata": {},
   "outputs": [
    {
     "name": "stdout",
     "output_type": "stream",
     "text": [
      "Процент отточных клиентов: 42.82%\n",
      "Процент пользователей в filtered_df от общего датафрейма: 12.28%\n",
      "Количество всего пользователей в сегменте: 1219\n",
      "Количество отточных пользователей в сегменте: 522\n"
     ]
    }
   ],
   "source": [
    "filtered_df = df.query(\"equity >= 3 and equity <= 9 and products >= 3 and products <= 5\")\n",
    "\n",
    "total_customers = len(filtered_df)\n",
    "churned_customers = len(filtered_df[filtered_df['churn'] == 1])\n",
    "\n",
    "percentage_churned =  round((churned_customers / total_customers) * 100, 2)\n",
    "\n",
    "print(f\"Процент отточных клиентов: {percentage_churned}%\")\n",
    "\n",
    "percentage_users = round((len(filtered_df) / len(df)) * 100, 2)\n",
    "print(f\"Процент пользователей в filtered_df от общего датафрейма: {percentage_users}%\")\n",
    "print(f\"Количество всего пользователей в сегменте: {total_customers}\")\n",
    "print(f\"Количество отточных пользователей в сегменте: {churned_customers}\")\n",
    "\n"
   ]
  },
  {
   "cell_type": "markdown",
   "metadata": {},
   "source": [
    "Moderately churn-prone segments:"
   ]
  },
  {
   "cell_type": "code",
   "execution_count": 36,
   "metadata": {},
   "outputs": [
    {
     "name": "stdout",
     "output_type": "stream",
     "text": [
      "Процент отточных клиентов: 23.79%\n",
      "Процент пользователей в filtered_df от общего датафрейма: 30.08%\n",
      "Количество всего пользователей в сегменте: 2985\n",
      "Количество отточных пользователей в сегменте: 710\n"
     ]
    }
   ],
   "source": [
    "filtered_df = df.query(\"gender == 'М' and city == 'Ярославль'\")\n",
    "\n",
    "total_customers = len(filtered_df)\n",
    "churned_customers = len(filtered_df[filtered_df['churn'] == 1])\n",
    "\n",
    "percentage_churned =  round((churned_customers / total_customers) * 100, 2)\n",
    "\n",
    "print(f\"Процент отточных клиентов: {percentage_churned}%\")\n",
    "\n",
    "percentage_users = round((len(filtered_df) / len(df)) * 100, 2)\n",
    "print(f\"Процент пользователей в filtered_df от общего датафрейма: {percentage_users}%\")\n",
    "print(f\"Количество всего пользователей в сегменте: {total_customers}\")\n",
    "print(f\"Количество отточных пользователей в сегменте: {churned_customers}\")\n",
    "\n"
   ]
  },
  {
   "cell_type": "code",
   "execution_count": 37,
   "metadata": {},
   "outputs": [
    {
     "name": "stdout",
     "output_type": "stream",
     "text": [
      "Процент отточных клиентов: 19.74%\n",
      "Процент пользователей в filtered_df от общего датафрейма: 20.68%\n",
      "Количество всего пользователей в сегменте: 2052\n",
      "Количество отточных пользователей в сегменте: 405\n"
     ]
    }
   ],
   "source": [
    "filtered_df = df.query(\"(balance >= 100000 and balance <= 120000) or (balance >= 140000 and balance <= 180000)\")\n",
    "\n",
    "total_customers = len(filtered_df)\n",
    "churned_customers = len(filtered_df[filtered_df['churn'] == 1])\n",
    "\n",
    "percentage_churned =  round((churned_customers / total_customers) * 100, 2)\n",
    "\n",
    "print(f\"Процент отточных клиентов: {percentage_churned}%\")\n",
    "\n",
    "percentage_users = round((len(filtered_df) / len(df)) * 100, 2)\n",
    "print(f\"Процент пользователей в filtered_df от общего датафрейма: {percentage_users}%\")\n",
    "print(f\"Количество всего пользователей в сегменте: {total_customers}\")\n",
    "print(f\"Количество отточных пользователей в сегменте: {churned_customers}\")\n",
    "\n"
   ]
  },
  {
   "cell_type": "markdown",
   "metadata": {},
   "source": [
    "After a comprehensive data analysis, we can identify several highly churn-prone segments (with churn rates exceeding 43% within the segment):\n",
    "- Males with 3 to 5 products in the bank (376 individuals).\n",
    "- All customers with scores ranging from 700 to 950 and with 3 to 5 products in the bank (579 individuals).\n",
    "- Customers with salaries between 90,000 and 230,000 and with 3 to 5 products in the bank (369 individuals).\n",
    "- Customers with property scores between 3 and 9 and with 3 to 5 products in the bank (522 individuals).\n",
    "\n",
    "These are narrow segments but exhibit a high churn rate. Additionally, there are broader segments with churn rates higher than the average:\n",
    "- Males from Yaroslavl (710 individuals).\n",
    "- All customers with balances between 100,000 and 120,000, and 140,000-180,000 (405 individuals)."
   ]
  },
  {
   "cell_type": "markdown",
   "metadata": {},
   "source": [
    "### Conclusion"
   ]
  },
  {
   "cell_type": "markdown",
   "metadata": {},
   "source": [
    "Overall churn rate across all data: 18.33%.\n",
    "\n",
    "After analyzing all the indicators, we have identified several churn-related features:\n",
    "- Scores ranging from 830 to 950.\n",
    "- Age groups of 50-60 and 25-30.\n",
    "- Male customers are more likely to churn.\n",
    "- Balances between 100,000 and 120,000, and 140,000-180,000.\n",
    "- Higher churn rate in Yaroslavl.\n",
    "- Customers without a credit card.\n",
    "- Customers with 3, 4, or 5 products.\n",
    "- Equity scores ranging from 3 to 9, especially 6, 7, and 9.\n",
    "- Salaries between 100,000 and 220,000.\n",
    "\n",
    "More loyal bank customers exhibit the following characteristics:\n",
    "- Scores between 690 and 820.\n",
    "- Age groups of 36-45 and 60+.\n",
    "- Balances between 140,000 and 180,000.\n",
    "- Salaries between 0 and 90,000.\n",
    "- Reside in Rybinsk.\n",
    "- Female customers.\n",
    "- Have a credit card.\n",
    "- Have 1 product with the bank.\n",
    "- Have equity scores between 0 and 2.\n",
    "\n",
    "Based on the correlation matrix, there is no strong dependency between the indicators. The highest correlations with churn are observed for the number of products (30%) and equity scores (27%). However, this is not sufficient to assert a definite relationship. Male customers are more prone to churn than female customers. Additionally, Yaroslavl exhibits a higher tendency for churn compared to other cities, but the dependency is weak.\n",
    "\n",
    "**Segments**\n",
    "\n",
    "After a comprehensive data analysis, several highly churn-prone segments (with churn rates exceeding 43% within the segment) can be identified:\n",
    "- Males with 3 to 5 products (376 individuals).\n",
    "- All customers with scores ranging from 700 to 950 and with 3 to 5 products (579 individuals).\n",
    "- Customers with salaries between 90,000 and 230,000 and with 3 to 5 products (369 individuals).\n",
    "- Customers with equity scores between 3 and 9 and with 3 to 5 products (522 individuals).\n",
    "\n",
    "These are narrow segments but exhibit a high churn rate. Additionally, there are broader segments with churn rates higher than the average:\n",
    "- Males from Yaroslavl (710 individuals).\n",
    "- All customers with balances between 100,000 and 120,000, and 140,000-180,000 (405 individuals)."
   ]
  },
  {
   "cell_type": "markdown",
   "metadata": {},
   "source": [
    "## Testing Statistical Hypotheses"
   ]
  },
  {
   "cell_type": "markdown",
   "metadata": {},
   "source": [
    "1. Hypothesis of income difference between customers who churned and those who stayed.\n",
    "2. Hypothesis of churn rate difference based on the number of products held by customers."
   ]
  },
  {
   "cell_type": "markdown",
   "metadata": {},
   "source": [
    "### The hypothesis of the difference in income between those customers who left and those who stayed"
   ]
  },
  {
   "cell_type": "markdown",
   "metadata": {},
   "source": [
    "First, let's examine the mean, median, standard deviation, and display the histogram once again."
   ]
  },
  {
   "cell_type": "code",
   "execution_count": 38,
   "metadata": {},
   "outputs": [
    {
     "data": {
      "text/html": [
       "<div>\n",
       "<style scoped>\n",
       "    .dataframe tbody tr th:only-of-type {\n",
       "        vertical-align: middle;\n",
       "    }\n",
       "\n",
       "    .dataframe tbody tr th {\n",
       "        vertical-align: top;\n",
       "    }\n",
       "\n",
       "    .dataframe thead th {\n",
       "        text-align: right;\n",
       "    }\n",
       "</style>\n",
       "<table border=\"1\" class=\"dataframe\">\n",
       "  <thead>\n",
       "    <tr style=\"text-align: right;\">\n",
       "      <th></th>\n",
       "      <th>mean</th>\n",
       "      <th>median</th>\n",
       "      <th>std</th>\n",
       "    </tr>\n",
       "    <tr>\n",
       "      <th>churn</th>\n",
       "      <th></th>\n",
       "      <th></th>\n",
       "      <th></th>\n",
       "    </tr>\n",
       "  </thead>\n",
       "  <tbody>\n",
       "    <tr>\n",
       "      <th>0</th>\n",
       "      <td>147788.268353</td>\n",
       "      <td>118247.25</td>\n",
       "      <td>142792.184844</td>\n",
       "    </tr>\n",
       "    <tr>\n",
       "      <th>1</th>\n",
       "      <td>148289.702221</td>\n",
       "      <td>125395.22</td>\n",
       "      <td>122932.162335</td>\n",
       "    </tr>\n",
       "  </tbody>\n",
       "</table>\n",
       "</div>"
      ],
      "text/plain": [
       "                mean     median            std\n",
       "churn                                         \n",
       "0      147788.268353  118247.25  142792.184844\n",
       "1      148289.702221  125395.22  122932.162335"
      ]
     },
     "execution_count": 38,
     "metadata": {},
     "output_type": "execute_result"
    }
   ],
   "source": [
    "df.groupby('churn')['salary'].agg(['mean', 'median', 'std'])"
   ]
  },
  {
   "cell_type": "code",
   "execution_count": 39,
   "metadata": {},
   "outputs": [
    {
     "data": {
      "image/png": "[encoded data removed]",
      "text/plain": [
       "<Figure size 704.02x432 with 1 Axes>"
      ]
     },
     "metadata": {},
     "output_type": "display_data"
    }
   ],
   "source": [
    "sns.set_palette(\"muted\")\n",
    "sns.displot(df, x=df['salary'], hue=df['churn'], stat=\"density\", common_norm=False, height=6, aspect=1.5)\n",
    "plt.show();"
   ]
  },
  {
   "cell_type": "markdown",
   "metadata": {},
   "source": [
    "We will test the hypotheses using the Mann-Whitney test since the samples have very similar distributions and are independent. The hypotheses are formulated as follows:\n",
    " - H0: There is no statistically significant difference in income between the groups.\n",
    " - H1: There is a statistically significant difference in income between the groups."
   ]
  },
  {
   "cell_type": "code",
   "execution_count": 40,
   "metadata": {},
   "outputs": [
    {
     "name": "stdout",
     "output_type": "stream",
     "text": [
      "0.00023403935398296229\n",
      "Отвергаем нулевую гипотезу\n"
     ]
    }
   ],
   "source": [
    "from scipy.stats import mannwhitneyu\n",
    "\n",
    "alpha = 0.05\n",
    "\n",
    "churn_clients = df[df['churn'] == 1]['salary']\n",
    "not_churn_clients = df[df['churn'] == 0]['salary']\n",
    "\n",
    "statistic, p_value = mannwhitneyu(churn_clients, not_churn_clients)\n",
    "\n",
    "print(p_value) \n",
    "\n",
    "if p_value < alpha:\n",
    "    print(\"Отвергаем нулевую гипотезу\")\n",
    "else:\n",
    "    print(\"Не получилось отвергнуть нулевую гипотезу\")\n"
   ]
  },
  {
   "cell_type": "markdown",
   "metadata": {},
   "source": [
    "**Conclusion:**\n",
    "\n",
    "We failed to reject the null hypothesis, indicating that there is no evidence to suggest a statistically significant difference in income between the samples. Therefore, salary does influence a customer's inclination to leave or stay with the bank."
   ]
  },
  {
   "cell_type": "markdown",
   "metadata": {},
   "source": [
    "### Hypothesis of churn rate difference based on the number of products held by customers."
   ]
  },
  {
   "cell_type": "markdown",
   "metadata": {},
   "source": [
    "First, let's examine the mean, median, standard deviation, and display the histogram once again."
   ]
  },
  {
   "cell_type": "code",
   "execution_count": 41,
   "metadata": {},
   "outputs": [
    {
     "data": {
      "text/html": [
       "<div>\n",
       "<style scoped>\n",
       "    .dataframe tbody tr th:only-of-type {\n",
       "        vertical-align: middle;\n",
       "    }\n",
       "\n",
       "    .dataframe tbody tr th {\n",
       "        vertical-align: top;\n",
       "    }\n",
       "\n",
       "    .dataframe thead th {\n",
       "        text-align: right;\n",
       "    }\n",
       "</style>\n",
       "<table border=\"1\" class=\"dataframe\">\n",
       "  <thead>\n",
       "    <tr style=\"text-align: right;\">\n",
       "      <th></th>\n",
       "      <th>mean</th>\n",
       "      <th>median</th>\n",
       "      <th>std</th>\n",
       "    </tr>\n",
       "    <tr>\n",
       "      <th>churn</th>\n",
       "      <th></th>\n",
       "      <th></th>\n",
       "      <th></th>\n",
       "    </tr>\n",
       "  </thead>\n",
       "  <tbody>\n",
       "    <tr>\n",
       "      <th>0</th>\n",
       "      <td>1.758421</td>\n",
       "      <td>2</td>\n",
       "      <td>0.713447</td>\n",
       "    </tr>\n",
       "    <tr>\n",
       "      <th>1</th>\n",
       "      <td>2.376031</td>\n",
       "      <td>2</td>\n",
       "      <td>0.923592</td>\n",
       "    </tr>\n",
       "  </tbody>\n",
       "</table>\n",
       "</div>"
      ],
      "text/plain": [
       "           mean  median       std\n",
       "churn                            \n",
       "0      1.758421       2  0.713447\n",
       "1      2.376031       2  0.923592"
      ]
     },
     "execution_count": 41,
     "metadata": {},
     "output_type": "execute_result"
    }
   ],
   "source": [
    "df.groupby('churn')['products'].agg(['mean', 'median', 'std'])"
   ]
  },
  {
   "cell_type": "code",
   "execution_count": 42,
   "metadata": {},
   "outputs": [
    {
     "data": {
      "image/png": "[encoded data removed]",
      "text/plain": [
       "<Figure size 720x360 with 1 Axes>"
      ]
     },
     "metadata": {},
     "output_type": "display_data"
    }
   ],
   "source": [
    "for column in ['products']:\n",
    "    plt.figure(figsize=(10, 5))\n",
    "    mean_churn = df.groupby(column)['churn'].mean()\n",
    "    plt.bar(mean_churn.index, mean_churn.values, color='steelblue', alpha=0.7)\n",
    "    mean_churn_all = df['churn'].mean()\n",
    "    plt.axhline(mean_churn_all, linestyle='dashed', color='red', label='Средний отток (все данные)')\n",
    "    plt.xlabel(f'{column}')\n",
    "    plt.ylabel('Процент оттока')\n",
    "    plt.title(f'Уровень оттока по {column}')\n",
    "    plt.show();"
   ]
  },
  {
   "cell_type": "markdown",
   "metadata": {},
   "source": [
    "We will apply the Mann-Whitney test since the samples are independent. The hypotheses are formulated as follows:\n",
    " - H0: There is no statistically significant difference in the number of products held by customers between the groups.\n",
    " - H1: There is a statistically significant difference in the number of products held by customers between the groups."
   ]
  },
  {
   "cell_type": "code",
   "execution_count": 43,
   "metadata": {},
   "outputs": [
    {
     "name": "stdout",
     "output_type": "stream",
     "text": [
      "2.9819452011704528e-161\n",
      "Отвергаем нулевую гипотезу\n"
     ]
    }
   ],
   "source": [
    "churn_clients_products = df[df['churn'] == 1]['products']\n",
    "not_churn_clients_products = df[df['churn'] == 0]['products']\n",
    "\n",
    "alpha = 0.05\n",
    "\n",
    "statistic, p_value = mannwhitneyu(churn_clients_products, not_churn_clients_products)\n",
    "\n",
    "print(p_value) \n",
    "\n",
    "if p_value < alpha:\n",
    "    print(\"Отвергаем нулевую гипотезу\")\n",
    "else:\n",
    "    print(\"Не получилось отвергнуть нулевую гипотезу\")"
   ]
  },
  {
   "cell_type": "markdown",
   "metadata": {},
   "source": [
    "Conclusion: We reject the null hypothesis, indicating that the number of products held by a customer does influence churn."
   ]
  },
  {
   "cell_type": "markdown",
   "metadata": {},
   "source": [
    "## Recommendations for the marketing department:"
   ]
  },
  {
   "cell_type": "markdown",
   "metadata": {},
   "source": [
    "\n",
    "Based on the identified segments and their high churn rates, the following recommendations can be proposed to the marketing department of \"Metanprom\" bank:\n",
    "1. Strengthen customer retention:\n",
    "Focus on male customers with 3 to 5 products. Investigate the reasons behind their likelihood to churn and offer personalized services or loyalty programs to retain them. Pay special attention to customers with high scores (830 to 910) and 3 to 5 products. Provide them with individualized offers to strengthen their connection with the bank.\n",
    "\n",
    "3. Optimize the product portfolio:\n",
    "Analyze the products and services offered by the bank and identify which ones may be less appealing to customers in the identified segments. Develop tailored service packages and favorable offers for customers with salaries between 100,000 and 220,000 and equity scores between 3 and 9, who have 3 to 5 products. This can help strengthen their loyalty and increase the likelihood of them staying.\n",
    "\n",
    "4. Enhance the customer experience:\n",
    "Conduct feedback analysis and assess the level of customer satisfaction within these segments. Identify key issues and reasons for dissatisfaction. Work on resolving them and improving the overall customer experience. For males from Yaroslavl and customers with balances between 100,000 and 120,000, and 140,000-180,000, organize special events, offer additional benefits or discounts to attract their attention and strengthen the relationship with the bank.\n",
    "\n",
    "5. Competitor analysis:\n",
    "Study competitors who successfully retain customers in these segments. Learn from their best practices and optimal strategies for customer retention. Analyze their products to identify their strengths and weaknesses.\n",
    "\n",
    "6. Monitor results:\n",
    "Establish a system to track and analyze the results of implemented marketing strategies. Regularly evaluate their effectiveness and analyze changes in customer churn within each segment. Conduct a follow-up analysis."
   ]
  },
  {
   "cell_type": "markdown",
   "metadata": {},
   "source": [
    "## Presentation"
   ]
  },
  {
   "cell_type": "markdown",
   "metadata": {},
   "source": [
    "https://drive.google.com/file/d/1pA8AkOgywYUHSsHyzh8lwcZbiWCgTt_X/view?usp=sharing"
   ]
  },
  {
   "cell_type": "markdown",
   "metadata": {},
   "source": [
    "## Dashboard"
   ]
  },
  {
   "cell_type": "markdown",
   "metadata": {},
   "source": [
    "https://public.tableau.com/app/profile/snezhana.mozheyko/viz/Book1_16836461083130/Dashboard1?publish=yes"
   ]
  }
 ],
 "metadata": {
  "ExecuteTimeLog": [
   {
    "duration": 82,
    "start_time": "2023-05-03T07:45:30.218Z"
   },
   {
    "duration": 1420,
    "start_time": "2023-05-03T07:52:35.253Z"
   },
   {
    "duration": 154,
    "start_time": "2023-05-03T07:52:36.675Z"
   },
   {
    "duration": 49,
    "start_time": "2023-05-03T07:53:14.746Z"
   },
   {
    "duration": 902,
    "start_time": "2023-05-03T07:55:34.773Z"
   },
   {
    "duration": 5,
    "start_time": "2023-05-03T07:58:22.955Z"
   },
   {
    "duration": 20,
    "start_time": "2023-05-03T07:59:06.204Z"
   },
   {
    "duration": 10,
    "start_time": "2023-05-03T08:00:40.276Z"
   },
   {
    "duration": 12,
    "start_time": "2023-05-03T08:01:18.107Z"
   },
   {
    "duration": 17,
    "start_time": "2023-05-03T08:02:24.651Z"
   },
   {
    "duration": 15,
    "start_time": "2023-05-03T08:04:52.904Z"
   },
   {
    "duration": 973,
    "start_time": "2023-05-03T08:05:02.987Z"
   },
   {
    "duration": 4,
    "start_time": "2023-05-03T08:05:04.625Z"
   },
   {
    "duration": 26,
    "start_time": "2023-05-03T08:05:05.503Z"
   },
   {
    "duration": 20,
    "start_time": "2023-05-03T08:05:06.583Z"
   },
   {
    "duration": 10,
    "start_time": "2023-05-03T08:05:11.344Z"
   },
   {
    "duration": 11,
    "start_time": "2023-05-03T08:05:40.264Z"
   },
   {
    "duration": 8,
    "start_time": "2023-05-03T08:09:24.414Z"
   },
   {
    "duration": 14,
    "start_time": "2023-05-03T08:09:25.543Z"
   },
   {
    "duration": 9,
    "start_time": "2023-05-03T08:09:42.610Z"
   },
   {
    "duration": 20,
    "start_time": "2023-05-03T08:09:43.203Z"
   },
   {
    "duration": 11,
    "start_time": "2023-05-03T08:09:44.168Z"
   },
   {
    "duration": 7,
    "start_time": "2023-05-03T08:12:41.107Z"
   },
   {
    "duration": 13,
    "start_time": "2023-05-03T08:14:25.436Z"
   },
   {
    "duration": 5,
    "start_time": "2023-05-03T08:15:52.270Z"
   },
   {
    "duration": 6,
    "start_time": "2023-05-03T08:16:03.237Z"
   },
   {
    "duration": 5,
    "start_time": "2023-05-03T08:16:10.367Z"
   },
   {
    "duration": 15,
    "start_time": "2023-05-03T08:21:40.065Z"
   },
   {
    "duration": 348,
    "start_time": "2023-05-03T08:21:58.675Z"
   },
   {
    "duration": 12,
    "start_time": "2023-05-03T08:22:40.525Z"
   },
   {
    "duration": 12,
    "start_time": "2023-05-03T08:23:33.174Z"
   },
   {
    "duration": 14,
    "start_time": "2023-05-03T08:24:11.532Z"
   },
   {
    "duration": 19,
    "start_time": "2023-05-03T08:24:43.907Z"
   },
   {
    "duration": 6,
    "start_time": "2023-05-03T08:29:16.170Z"
   },
   {
    "duration": 17,
    "start_time": "2023-05-03T08:29:19.155Z"
   },
   {
    "duration": 9,
    "start_time": "2023-05-03T08:29:19.340Z"
   },
   {
    "duration": 14,
    "start_time": "2023-05-03T08:29:19.663Z"
   },
   {
    "duration": 13,
    "start_time": "2023-05-03T08:29:20.026Z"
   },
   {
    "duration": 10,
    "start_time": "2023-05-03T08:29:20.525Z"
   },
   {
    "duration": 4,
    "start_time": "2023-05-03T08:29:21.182Z"
   },
   {
    "duration": 5,
    "start_time": "2023-05-03T08:29:22.039Z"
   },
   {
    "duration": 4,
    "start_time": "2023-05-03T08:29:27.639Z"
   },
   {
    "duration": 1003,
    "start_time": "2023-05-03T08:29:28.050Z"
   },
   {
    "duration": 4,
    "start_time": "2023-05-03T08:29:29.056Z"
   },
   {
    "duration": 18,
    "start_time": "2023-05-03T08:29:29.062Z"
   },
   {
    "duration": 6,
    "start_time": "2023-05-03T08:29:29.746Z"
   },
   {
    "duration": 14,
    "start_time": "2023-05-03T08:29:30.625Z"
   },
   {
    "duration": 12,
    "start_time": "2023-05-03T08:29:34.825Z"
   },
   {
    "duration": 11,
    "start_time": "2023-05-03T08:29:42.230Z"
   },
   {
    "duration": 5,
    "start_time": "2023-05-03T08:29:43.204Z"
   },
   {
    "duration": 7,
    "start_time": "2023-05-03T08:29:44.189Z"
   },
   {
    "duration": 5,
    "start_time": "2023-05-03T08:34:22.408Z"
   },
   {
    "duration": 9,
    "start_time": "2023-05-03T08:34:58.221Z"
   },
   {
    "duration": 11,
    "start_time": "2023-05-03T08:39:55.818Z"
   },
   {
    "duration": 12,
    "start_time": "2023-05-03T08:41:23.784Z"
   },
   {
    "duration": 22,
    "start_time": "2023-05-03T08:41:40.686Z"
   },
   {
    "duration": 10,
    "start_time": "2023-05-03T08:42:01.588Z"
   },
   {
    "duration": 1549,
    "start_time": "2023-05-04T11:12:17.876Z"
   },
   {
    "duration": 0,
    "start_time": "2023-05-04T11:12:19.427Z"
   },
   {
    "duration": 0,
    "start_time": "2023-05-04T11:12:19.429Z"
   },
   {
    "duration": 0,
    "start_time": "2023-05-04T11:12:19.430Z"
   },
   {
    "duration": 0,
    "start_time": "2023-05-04T11:12:19.431Z"
   },
   {
    "duration": 0,
    "start_time": "2023-05-04T11:12:19.433Z"
   },
   {
    "duration": 0,
    "start_time": "2023-05-04T11:12:19.434Z"
   },
   {
    "duration": 0,
    "start_time": "2023-05-04T11:12:19.435Z"
   },
   {
    "duration": 10,
    "start_time": "2023-05-04T11:12:19.547Z"
   },
   {
    "duration": 9,
    "start_time": "2023-05-04T11:12:20.009Z"
   },
   {
    "duration": 1370,
    "start_time": "2023-05-04T11:12:31.263Z"
   },
   {
    "duration": 0,
    "start_time": "2023-05-04T11:12:32.634Z"
   },
   {
    "duration": 0,
    "start_time": "2023-05-04T11:12:32.636Z"
   },
   {
    "duration": 0,
    "start_time": "2023-05-04T11:12:32.638Z"
   },
   {
    "duration": 0,
    "start_time": "2023-05-04T11:12:32.640Z"
   },
   {
    "duration": 0,
    "start_time": "2023-05-04T11:12:32.641Z"
   },
   {
    "duration": 0,
    "start_time": "2023-05-04T11:12:32.642Z"
   },
   {
    "duration": 0,
    "start_time": "2023-05-04T11:12:32.642Z"
   },
   {
    "duration": 0,
    "start_time": "2023-05-04T11:12:32.643Z"
   },
   {
    "duration": 0,
    "start_time": "2023-05-04T11:12:32.644Z"
   },
   {
    "duration": 0,
    "start_time": "2023-05-04T11:12:32.646Z"
   },
   {
    "duration": 0,
    "start_time": "2023-05-04T11:12:32.646Z"
   },
   {
    "duration": 0,
    "start_time": "2023-05-04T11:12:32.648Z"
   },
   {
    "duration": 0,
    "start_time": "2023-05-04T11:12:32.649Z"
   },
   {
    "duration": 3411,
    "start_time": "2023-05-04T11:12:58.010Z"
   },
   {
    "duration": 303,
    "start_time": "2023-05-04T11:13:07.284Z"
   },
   {
    "duration": 1316,
    "start_time": "2023-05-04T11:13:12.780Z"
   },
   {
    "duration": 6,
    "start_time": "2023-05-04T11:13:14.098Z"
   },
   {
    "duration": 21,
    "start_time": "2023-05-04T11:13:14.106Z"
   },
   {
    "duration": 8,
    "start_time": "2023-05-04T11:13:14.907Z"
   },
   {
    "duration": 15,
    "start_time": "2023-05-04T11:13:15.140Z"
   },
   {
    "duration": 13,
    "start_time": "2023-05-04T11:13:15.326Z"
   },
   {
    "duration": 14,
    "start_time": "2023-05-04T11:13:15.528Z"
   },
   {
    "duration": 6,
    "start_time": "2023-05-04T11:13:15.746Z"
   },
   {
    "duration": 7,
    "start_time": "2023-05-04T11:13:16.109Z"
   },
   {
    "duration": 5,
    "start_time": "2023-05-04T11:13:16.286Z"
   },
   {
    "duration": 14,
    "start_time": "2023-05-04T11:13:16.508Z"
   },
   {
    "duration": 18,
    "start_time": "2023-05-04T11:13:16.713Z"
   },
   {
    "duration": 78,
    "start_time": "2023-05-04T11:13:17.083Z"
   },
   {
    "duration": 2450,
    "start_time": "2023-05-04T11:17:27.753Z"
   },
   {
    "duration": 20,
    "start_time": "2023-05-04T11:17:30.206Z"
   },
   {
    "duration": 1707,
    "start_time": "2023-05-04T11:17:30.228Z"
   },
   {
    "duration": 4,
    "start_time": "2023-05-04T11:17:31.938Z"
   },
   {
    "duration": 27,
    "start_time": "2023-05-04T11:17:31.944Z"
   },
   {
    "duration": 18,
    "start_time": "2023-05-04T11:17:31.973Z"
   },
   {
    "duration": 38,
    "start_time": "2023-05-04T11:17:31.993Z"
   },
   {
    "duration": 53,
    "start_time": "2023-05-04T11:17:32.033Z"
   },
   {
    "duration": 19,
    "start_time": "2023-05-04T11:17:32.088Z"
   },
   {
    "duration": 6,
    "start_time": "2023-05-04T11:17:32.110Z"
   },
   {
    "duration": 24,
    "start_time": "2023-05-04T11:17:32.118Z"
   },
   {
    "duration": 24,
    "start_time": "2023-05-04T11:17:32.144Z"
   },
   {
    "duration": 8,
    "start_time": "2023-05-04T11:17:33.336Z"
   },
   {
    "duration": 14,
    "start_time": "2023-05-04T11:17:34.449Z"
   },
   {
    "duration": 74,
    "start_time": "2023-05-04T11:17:35.549Z"
   },
   {
    "duration": 5,
    "start_time": "2023-05-04T11:19:28.529Z"
   },
   {
    "duration": 20,
    "start_time": "2023-05-04T11:19:37.500Z"
   },
   {
    "duration": 37,
    "start_time": "2023-05-04T11:19:58.076Z"
   },
   {
    "duration": 24,
    "start_time": "2023-05-04T11:20:12.899Z"
   },
   {
    "duration": 29,
    "start_time": "2023-05-04T11:24:13.746Z"
   },
   {
    "duration": 1256,
    "start_time": "2023-05-04T11:28:23.623Z"
   },
   {
    "duration": 8,
    "start_time": "2023-05-04T11:28:39.835Z"
   },
   {
    "duration": 15,
    "start_time": "2023-05-04T11:28:40.379Z"
   },
   {
    "duration": 18,
    "start_time": "2023-05-04T11:28:40.777Z"
   },
   {
    "duration": 17,
    "start_time": "2023-05-04T11:28:41.119Z"
   },
   {
    "duration": 6,
    "start_time": "2023-05-04T11:28:41.882Z"
   },
   {
    "duration": 7,
    "start_time": "2023-05-04T11:28:42.519Z"
   },
   {
    "duration": 5,
    "start_time": "2023-05-04T11:28:42.978Z"
   },
   {
    "duration": 14,
    "start_time": "2023-05-04T11:28:43.439Z"
   },
   {
    "duration": 16,
    "start_time": "2023-05-04T11:28:43.981Z"
   },
   {
    "duration": 89,
    "start_time": "2023-05-04T11:28:44.971Z"
   },
   {
    "duration": 16,
    "start_time": "2023-05-04T11:28:47.721Z"
   },
   {
    "duration": 23,
    "start_time": "2023-05-04T11:28:49.174Z"
   },
   {
    "duration": 1488,
    "start_time": "2023-05-04T11:29:02.985Z"
   },
   {
    "duration": 2251,
    "start_time": "2023-05-04T11:29:11.425Z"
   },
   {
    "duration": 4,
    "start_time": "2023-05-04T11:29:13.679Z"
   },
   {
    "duration": 1234,
    "start_time": "2023-05-04T11:29:13.686Z"
   },
   {
    "duration": 4,
    "start_time": "2023-05-04T11:29:14.922Z"
   },
   {
    "duration": 23,
    "start_time": "2023-05-04T11:29:14.928Z"
   },
   {
    "duration": 10,
    "start_time": "2023-05-04T11:29:14.954Z"
   },
   {
    "duration": 35,
    "start_time": "2023-05-04T11:29:14.966Z"
   },
   {
    "duration": 17,
    "start_time": "2023-05-04T11:29:15.003Z"
   },
   {
    "duration": 16,
    "start_time": "2023-05-04T11:29:15.023Z"
   },
   {
    "duration": 6,
    "start_time": "2023-05-04T11:29:15.043Z"
   },
   {
    "duration": 33,
    "start_time": "2023-05-04T11:29:15.052Z"
   },
   {
    "duration": 6,
    "start_time": "2023-05-04T11:29:15.087Z"
   },
   {
    "duration": 12,
    "start_time": "2023-05-04T11:29:15.096Z"
   },
   {
    "duration": 14,
    "start_time": "2023-05-04T11:29:15.110Z"
   },
   {
    "duration": 71,
    "start_time": "2023-05-04T11:29:15.126Z"
   },
   {
    "duration": 0,
    "start_time": "2023-05-04T11:29:15.199Z"
   },
   {
    "duration": 0,
    "start_time": "2023-05-04T11:29:15.201Z"
   },
   {
    "duration": 1209,
    "start_time": "2023-05-04T11:29:20.449Z"
   },
   {
    "duration": 3,
    "start_time": "2023-05-04T12:06:42.723Z"
   },
   {
    "duration": 5786,
    "start_time": "2023-05-04T12:06:42.728Z"
   },
   {
    "duration": 3,
    "start_time": "2023-05-04T12:06:48.515Z"
   },
   {
    "duration": 17,
    "start_time": "2023-05-04T12:06:48.520Z"
   },
   {
    "duration": 7,
    "start_time": "2023-05-04T12:06:48.539Z"
   },
   {
    "duration": 15,
    "start_time": "2023-05-04T12:06:48.549Z"
   },
   {
    "duration": 39,
    "start_time": "2023-05-04T12:06:48.565Z"
   },
   {
    "duration": 10,
    "start_time": "2023-05-04T12:06:48.609Z"
   },
   {
    "duration": 4,
    "start_time": "2023-05-04T12:06:48.621Z"
   },
   {
    "duration": 6,
    "start_time": "2023-05-04T12:06:48.627Z"
   },
   {
    "duration": 5,
    "start_time": "2023-05-04T12:06:48.634Z"
   },
   {
    "duration": 11,
    "start_time": "2023-05-04T12:06:48.640Z"
   },
   {
    "duration": 51,
    "start_time": "2023-05-04T12:06:48.653Z"
   },
   {
    "duration": 89,
    "start_time": "2023-05-04T12:06:48.709Z"
   },
   {
    "duration": 1196,
    "start_time": "2023-05-04T12:07:06.825Z"
   },
   {
    "duration": 2380,
    "start_time": "2023-05-04T12:07:57.802Z"
   },
   {
    "duration": 1563,
    "start_time": "2023-05-04T12:08:00.185Z"
   },
   {
    "duration": 1009,
    "start_time": "2023-05-04T12:08:01.750Z"
   },
   {
    "duration": 3,
    "start_time": "2023-05-04T12:08:02.762Z"
   },
   {
    "duration": 41,
    "start_time": "2023-05-04T12:08:02.766Z"
   },
   {
    "duration": 28,
    "start_time": "2023-05-04T12:08:02.809Z"
   },
   {
    "duration": 23,
    "start_time": "2023-05-04T12:08:02.840Z"
   },
   {
    "duration": 19,
    "start_time": "2023-05-04T12:08:02.865Z"
   },
   {
    "duration": 19,
    "start_time": "2023-05-04T12:08:02.887Z"
   },
   {
    "duration": 5,
    "start_time": "2023-05-04T12:08:02.909Z"
   },
   {
    "duration": 14,
    "start_time": "2023-05-04T12:08:02.915Z"
   },
   {
    "duration": 24,
    "start_time": "2023-05-04T12:08:02.930Z"
   },
   {
    "duration": 17,
    "start_time": "2023-05-04T12:08:02.956Z"
   },
   {
    "duration": 13,
    "start_time": "2023-05-04T12:08:02.976Z"
   },
   {
    "duration": 105,
    "start_time": "2023-05-04T12:08:02.992Z"
   },
   {
    "duration": 0,
    "start_time": "2023-05-04T12:08:03.100Z"
   },
   {
    "duration": 0,
    "start_time": "2023-05-04T12:08:03.102Z"
   },
   {
    "duration": 1,
    "start_time": "2023-05-04T12:08:03.104Z"
   },
   {
    "duration": 16,
    "start_time": "2023-05-04T12:08:19.421Z"
   },
   {
    "duration": 7,
    "start_time": "2023-05-04T12:08:21.592Z"
   },
   {
    "duration": 25,
    "start_time": "2023-05-04T12:08:34.618Z"
   },
   {
    "duration": 23,
    "start_time": "2023-05-04T12:15:38.716Z"
   },
   {
    "duration": 1505,
    "start_time": "2023-05-04T12:15:49.980Z"
   },
   {
    "duration": 2437,
    "start_time": "2023-05-04T12:16:09.324Z"
   },
   {
    "duration": 1606,
    "start_time": "2023-05-04T12:16:11.763Z"
   },
   {
    "duration": 3894,
    "start_time": "2023-05-04T12:16:13.371Z"
   },
   {
    "duration": 4,
    "start_time": "2023-05-04T12:16:17.267Z"
   },
   {
    "duration": 20,
    "start_time": "2023-05-04T12:16:17.273Z"
   },
   {
    "duration": 15,
    "start_time": "2023-05-04T12:16:17.295Z"
   },
   {
    "duration": 19,
    "start_time": "2023-05-04T12:16:17.311Z"
   },
   {
    "duration": 20,
    "start_time": "2023-05-04T12:16:17.332Z"
   },
   {
    "duration": 19,
    "start_time": "2023-05-04T12:16:17.354Z"
   },
   {
    "duration": 22,
    "start_time": "2023-05-04T12:16:17.374Z"
   },
   {
    "duration": 16,
    "start_time": "2023-05-04T12:16:17.399Z"
   },
   {
    "duration": 19,
    "start_time": "2023-05-04T12:16:17.417Z"
   },
   {
    "duration": 47,
    "start_time": "2023-05-04T12:16:17.438Z"
   },
   {
    "duration": 23,
    "start_time": "2023-05-04T12:16:17.490Z"
   },
   {
    "duration": 16,
    "start_time": "2023-05-04T12:16:17.514Z"
   },
   {
    "duration": 25,
    "start_time": "2023-05-04T12:16:17.531Z"
   },
   {
    "duration": 34,
    "start_time": "2023-05-04T12:16:17.558Z"
   },
   {
    "duration": 2275,
    "start_time": "2023-05-04T12:30:38.253Z"
   },
   {
    "duration": 1401,
    "start_time": "2023-05-04T12:30:40.531Z"
   },
   {
    "duration": 928,
    "start_time": "2023-05-04T12:30:41.934Z"
   },
   {
    "duration": 3,
    "start_time": "2023-05-04T12:30:42.865Z"
   },
   {
    "duration": 17,
    "start_time": "2023-05-04T12:30:42.870Z"
   },
   {
    "duration": 8,
    "start_time": "2023-05-04T12:30:42.888Z"
   },
   {
    "duration": 15,
    "start_time": "2023-05-04T12:30:42.897Z"
   },
   {
    "duration": 13,
    "start_time": "2023-05-04T12:30:42.914Z"
   },
   {
    "duration": 11,
    "start_time": "2023-05-04T12:30:42.928Z"
   },
   {
    "duration": 5,
    "start_time": "2023-05-04T12:30:42.941Z"
   },
   {
    "duration": 39,
    "start_time": "2023-05-04T12:30:42.947Z"
   },
   {
    "duration": 16,
    "start_time": "2023-05-04T12:30:42.988Z"
   },
   {
    "duration": 28,
    "start_time": "2023-05-04T12:30:43.006Z"
   },
   {
    "duration": 9,
    "start_time": "2023-05-04T12:30:43.036Z"
   },
   {
    "duration": 26,
    "start_time": "2023-05-04T12:30:43.047Z"
   },
   {
    "duration": 30,
    "start_time": "2023-05-04T12:30:43.075Z"
   },
   {
    "duration": 17,
    "start_time": "2023-05-04T12:30:43.107Z"
   },
   {
    "duration": 2250,
    "start_time": "2023-05-04T12:40:55.174Z"
   },
   {
    "duration": 1410,
    "start_time": "2023-05-04T12:40:57.427Z"
   },
   {
    "duration": 1234,
    "start_time": "2023-05-04T12:40:58.839Z"
   },
   {
    "duration": 3,
    "start_time": "2023-05-04T12:41:00.075Z"
   },
   {
    "duration": 21,
    "start_time": "2023-05-04T12:41:00.080Z"
   },
   {
    "duration": 15,
    "start_time": "2023-05-04T12:41:00.103Z"
   },
   {
    "duration": 48,
    "start_time": "2023-05-04T12:41:00.120Z"
   },
   {
    "duration": 11,
    "start_time": "2023-05-04T12:41:00.170Z"
   },
   {
    "duration": 20,
    "start_time": "2023-05-04T12:41:00.182Z"
   },
   {
    "duration": 8,
    "start_time": "2023-05-04T12:41:00.204Z"
   },
   {
    "duration": 13,
    "start_time": "2023-05-04T12:41:00.215Z"
   },
   {
    "duration": 32,
    "start_time": "2023-05-04T12:41:00.230Z"
   },
   {
    "duration": 40,
    "start_time": "2023-05-04T12:41:00.265Z"
   },
   {
    "duration": 24,
    "start_time": "2023-05-04T12:41:00.307Z"
   },
   {
    "duration": 53,
    "start_time": "2023-05-04T12:41:00.333Z"
   },
   {
    "duration": 33,
    "start_time": "2023-05-04T12:41:00.388Z"
   },
   {
    "duration": 22,
    "start_time": "2023-05-04T12:41:00.423Z"
   },
   {
    "duration": 1588,
    "start_time": "2023-05-04T12:42:27.075Z"
   },
   {
    "duration": 0,
    "start_time": "2023-05-04T12:42:28.664Z"
   },
   {
    "duration": 2306,
    "start_time": "2023-05-04T12:42:32.545Z"
   },
   {
    "duration": 3,
    "start_time": "2023-05-04T12:42:34.854Z"
   },
   {
    "duration": 1291,
    "start_time": "2023-05-04T12:42:34.859Z"
   },
   {
    "duration": 3,
    "start_time": "2023-05-04T12:42:36.152Z"
   },
   {
    "duration": 21,
    "start_time": "2023-05-04T12:42:36.156Z"
   },
   {
    "duration": 15,
    "start_time": "2023-05-04T12:42:36.179Z"
   },
   {
    "duration": 24,
    "start_time": "2023-05-04T12:42:36.196Z"
   },
   {
    "duration": 19,
    "start_time": "2023-05-04T12:42:36.222Z"
   },
   {
    "duration": 10,
    "start_time": "2023-05-04T12:42:36.242Z"
   },
   {
    "duration": 17,
    "start_time": "2023-05-04T12:42:36.254Z"
   },
   {
    "duration": 16,
    "start_time": "2023-05-04T12:42:36.272Z"
   },
   {
    "duration": 25,
    "start_time": "2023-05-04T12:42:36.290Z"
   },
   {
    "duration": 15,
    "start_time": "2023-05-04T12:42:36.317Z"
   },
   {
    "duration": 26,
    "start_time": "2023-05-04T12:42:36.333Z"
   },
   {
    "duration": 13,
    "start_time": "2023-05-04T12:42:36.360Z"
   },
   {
    "duration": 33,
    "start_time": "2023-05-04T12:42:36.374Z"
   },
   {
    "duration": 18,
    "start_time": "2023-05-04T12:42:39.823Z"
   },
   {
    "duration": 2360,
    "start_time": "2023-05-04T12:43:26.282Z"
   },
   {
    "duration": 3,
    "start_time": "2023-05-04T12:43:28.645Z"
   },
   {
    "duration": 1008,
    "start_time": "2023-05-04T12:43:28.650Z"
   },
   {
    "duration": 4,
    "start_time": "2023-05-04T12:43:29.660Z"
   },
   {
    "duration": 14,
    "start_time": "2023-05-04T12:43:29.665Z"
   },
   {
    "duration": 8,
    "start_time": "2023-05-04T12:43:29.680Z"
   },
   {
    "duration": 15,
    "start_time": "2023-05-04T12:43:29.689Z"
   },
   {
    "duration": 13,
    "start_time": "2023-05-04T12:43:29.706Z"
   },
   {
    "duration": 9,
    "start_time": "2023-05-04T12:43:29.721Z"
   },
   {
    "duration": 4,
    "start_time": "2023-05-04T12:43:29.733Z"
   },
   {
    "duration": 5,
    "start_time": "2023-05-04T12:43:29.739Z"
   },
   {
    "duration": 41,
    "start_time": "2023-05-04T12:43:29.746Z"
   },
   {
    "duration": 8,
    "start_time": "2023-05-04T12:43:29.789Z"
   },
   {
    "duration": 11,
    "start_time": "2023-05-04T12:43:29.799Z"
   },
   {
    "duration": 17,
    "start_time": "2023-05-04T12:43:30.458Z"
   },
   {
    "duration": 21,
    "start_time": "2023-05-04T12:43:31.221Z"
   },
   {
    "duration": 18,
    "start_time": "2023-05-04T12:43:32.007Z"
   },
   {
    "duration": 3,
    "start_time": "2023-05-04T12:47:06.227Z"
   },
   {
    "duration": 1941,
    "start_time": "2023-05-04T12:47:08.433Z"
   },
   {
    "duration": 3,
    "start_time": "2023-05-04T12:47:10.377Z"
   },
   {
    "duration": 17,
    "start_time": "2023-05-04T12:47:10.381Z"
   },
   {
    "duration": 6,
    "start_time": "2023-05-04T12:47:10.400Z"
   },
   {
    "duration": 15,
    "start_time": "2023-05-04T12:47:10.407Z"
   },
   {
    "duration": 11,
    "start_time": "2023-05-04T12:47:10.585Z"
   },
   {
    "duration": 10,
    "start_time": "2023-05-04T12:47:11.059Z"
   },
   {
    "duration": 4,
    "start_time": "2023-05-04T12:47:11.473Z"
   },
   {
    "duration": 6,
    "start_time": "2023-05-04T12:47:11.784Z"
   },
   {
    "duration": 5,
    "start_time": "2023-05-04T12:47:11.999Z"
   },
   {
    "duration": 7,
    "start_time": "2023-05-04T12:47:12.238Z"
   },
   {
    "duration": 11,
    "start_time": "2023-05-04T12:47:12.584Z"
   },
   {
    "duration": 15,
    "start_time": "2023-05-04T12:47:13.480Z"
   },
   {
    "duration": 4,
    "start_time": "2023-05-04T12:47:24.128Z"
   },
   {
    "duration": 937,
    "start_time": "2023-05-04T12:47:24.324Z"
   },
   {
    "duration": 4,
    "start_time": "2023-05-04T12:47:25.262Z"
   },
   {
    "duration": 18,
    "start_time": "2023-05-04T12:47:25.268Z"
   },
   {
    "duration": 14,
    "start_time": "2023-05-04T12:47:25.288Z"
   },
   {
    "duration": 21,
    "start_time": "2023-05-04T12:47:25.304Z"
   },
   {
    "duration": 11,
    "start_time": "2023-05-04T12:47:25.431Z"
   },
   {
    "duration": 8,
    "start_time": "2023-05-04T12:47:25.621Z"
   },
   {
    "duration": 4,
    "start_time": "2023-05-04T12:47:26.183Z"
   },
   {
    "duration": 5,
    "start_time": "2023-05-04T12:47:26.525Z"
   },
   {
    "duration": 6,
    "start_time": "2023-05-04T12:47:26.724Z"
   },
   {
    "duration": 10,
    "start_time": "2023-05-04T12:47:26.913Z"
   },
   {
    "duration": 13,
    "start_time": "2023-05-04T12:47:27.085Z"
   },
   {
    "duration": 17,
    "start_time": "2023-05-04T12:47:27.280Z"
   },
   {
    "duration": 20,
    "start_time": "2023-05-04T12:47:27.824Z"
   },
   {
    "duration": 19,
    "start_time": "2023-05-04T12:47:28.081Z"
   },
   {
    "duration": 1654,
    "start_time": "2023-05-04T12:54:49.039Z"
   },
   {
    "duration": 6,
    "start_time": "2023-05-04T12:56:17.916Z"
   },
   {
    "duration": 53,
    "start_time": "2023-05-04T13:00:56.720Z"
   },
   {
    "duration": 7,
    "start_time": "2023-05-04T13:05:48.985Z"
   },
   {
    "duration": 178,
    "start_time": "2023-05-04T13:11:00.341Z"
   },
   {
    "duration": 153,
    "start_time": "2023-05-04T13:11:21.918Z"
   },
   {
    "duration": 929,
    "start_time": "2023-05-04T13:23:43.636Z"
   },
   {
    "duration": 3,
    "start_time": "2023-05-04T13:23:47.498Z"
   },
   {
    "duration": 8,
    "start_time": "2023-05-04T13:26:33.398Z"
   },
   {
    "duration": 7,
    "start_time": "2023-05-04T13:27:01.809Z"
   },
   {
    "duration": 73,
    "start_time": "2023-05-04T13:27:54.355Z"
   },
   {
    "duration": 94,
    "start_time": "2023-05-04T13:28:33.883Z"
   },
   {
    "duration": 91,
    "start_time": "2023-05-04T13:30:01.180Z"
   },
   {
    "duration": 78,
    "start_time": "2023-05-04T13:30:38.596Z"
   },
   {
    "duration": 6,
    "start_time": "2023-05-04T13:30:44.042Z"
   },
   {
    "duration": 7,
    "start_time": "2023-05-04T13:31:28.409Z"
   },
   {
    "duration": 5,
    "start_time": "2023-05-04T13:31:28.811Z"
   },
   {
    "duration": 415,
    "start_time": "2023-05-04T13:34:22.634Z"
   },
   {
    "duration": 87,
    "start_time": "2023-05-04T13:34:39.870Z"
   },
   {
    "duration": 10,
    "start_time": "2023-05-04T13:35:28.921Z"
   },
   {
    "duration": 14,
    "start_time": "2023-05-04T13:36:55.567Z"
   },
   {
    "duration": 14,
    "start_time": "2023-05-04T13:38:28.676Z"
   },
   {
    "duration": 19,
    "start_time": "2023-05-04T13:39:15.402Z"
   },
   {
    "duration": 1231,
    "start_time": "2023-05-04T13:39:39.854Z"
   },
   {
    "duration": 4480,
    "start_time": "2023-05-04T13:39:41.087Z"
   },
   {
    "duration": 3,
    "start_time": "2023-05-04T13:39:45.569Z"
   },
   {
    "duration": 22,
    "start_time": "2023-05-04T13:39:45.574Z"
   },
   {
    "duration": 10,
    "start_time": "2023-05-04T13:39:45.599Z"
   },
   {
    "duration": 17,
    "start_time": "2023-05-04T13:39:45.610Z"
   },
   {
    "duration": 9,
    "start_time": "2023-05-04T13:39:45.629Z"
   },
   {
    "duration": 6,
    "start_time": "2023-05-04T13:39:45.640Z"
   },
   {
    "duration": 15,
    "start_time": "2023-05-04T13:39:45.648Z"
   },
   {
    "duration": 21,
    "start_time": "2023-05-04T13:39:45.665Z"
   },
   {
    "duration": 32,
    "start_time": "2023-05-04T13:39:45.688Z"
   },
   {
    "duration": 22,
    "start_time": "2023-05-04T13:39:45.722Z"
   },
   {
    "duration": 47,
    "start_time": "2023-05-04T13:39:45.747Z"
   },
   {
    "duration": 1578,
    "start_time": "2023-05-04T13:39:45.797Z"
   },
   {
    "duration": 134,
    "start_time": "2023-05-04T13:39:47.377Z"
   },
   {
    "duration": 5,
    "start_time": "2023-05-04T13:39:47.513Z"
   },
   {
    "duration": 185,
    "start_time": "2023-05-04T13:39:47.520Z"
   },
   {
    "duration": 157,
    "start_time": "2023-05-04T13:39:47.706Z"
   },
   {
    "duration": 103,
    "start_time": "2023-05-04T13:39:47.865Z"
   },
   {
    "duration": 3,
    "start_time": "2023-05-04T13:41:52.555Z"
   },
   {
    "duration": 4,
    "start_time": "2023-05-04T13:42:14.883Z"
   },
   {
    "duration": 12,
    "start_time": "2023-05-04T13:42:17.688Z"
   },
   {
    "duration": 7,
    "start_time": "2023-05-04T13:42:20.852Z"
   },
   {
    "duration": 14,
    "start_time": "2023-05-04T13:42:22.186Z"
   },
   {
    "duration": 11,
    "start_time": "2023-05-04T13:42:26.193Z"
   },
   {
    "duration": 6,
    "start_time": "2023-05-04T13:42:27.329Z"
   },
   {
    "duration": 7,
    "start_time": "2023-05-04T13:42:28.066Z"
   },
   {
    "duration": 5,
    "start_time": "2023-05-04T13:42:28.565Z"
   },
   {
    "duration": 11,
    "start_time": "2023-05-04T13:42:28.946Z"
   },
   {
    "duration": 11,
    "start_time": "2023-05-04T13:42:49.536Z"
   },
   {
    "duration": 6,
    "start_time": "2023-05-04T13:42:49.932Z"
   },
   {
    "duration": 6,
    "start_time": "2023-05-04T13:42:50.710Z"
   },
   {
    "duration": 5,
    "start_time": "2023-05-04T13:42:51.285Z"
   },
   {
    "duration": 10,
    "start_time": "2023-05-04T13:42:51.881Z"
   },
   {
    "duration": 11,
    "start_time": "2023-05-04T13:42:55.984Z"
   },
   {
    "duration": 11,
    "start_time": "2023-05-04T13:43:31.740Z"
   },
   {
    "duration": 31,
    "start_time": "2023-05-04T13:43:33.433Z"
   },
   {
    "duration": 2191,
    "start_time": "2023-05-04T13:46:03.377Z"
   },
   {
    "duration": 65,
    "start_time": "2023-05-04T13:46:05.570Z"
   },
   {
    "duration": 177,
    "start_time": "2023-05-04T13:46:05.637Z"
   },
   {
    "duration": 160,
    "start_time": "2023-05-04T13:46:05.816Z"
   },
   {
    "duration": 74,
    "start_time": "2023-05-04T13:46:05.977Z"
   },
   {
    "duration": 6,
    "start_time": "2023-05-04T13:47:07.230Z"
   },
   {
    "duration": 1173,
    "start_time": "2023-05-04T13:47:20.209Z"
   },
   {
    "duration": 1011,
    "start_time": "2023-05-04T13:47:21.385Z"
   },
   {
    "duration": 3,
    "start_time": "2023-05-04T13:47:22.398Z"
   },
   {
    "duration": 20,
    "start_time": "2023-05-04T13:47:22.403Z"
   },
   {
    "duration": 7,
    "start_time": "2023-05-04T13:47:22.426Z"
   },
   {
    "duration": 19,
    "start_time": "2023-05-04T13:47:22.435Z"
   },
   {
    "duration": 10,
    "start_time": "2023-05-04T13:47:22.456Z"
   },
   {
    "duration": 20,
    "start_time": "2023-05-04T13:47:22.468Z"
   },
   {
    "duration": 7,
    "start_time": "2023-05-04T13:47:22.490Z"
   },
   {
    "duration": 5,
    "start_time": "2023-05-04T13:47:22.499Z"
   },
   {
    "duration": 15,
    "start_time": "2023-05-04T13:47:22.506Z"
   },
   {
    "duration": 9,
    "start_time": "2023-05-04T13:47:22.523Z"
   },
   {
    "duration": 35,
    "start_time": "2023-05-04T13:47:22.534Z"
   },
   {
    "duration": 1606,
    "start_time": "2023-05-04T13:47:22.584Z"
   },
   {
    "duration": 143,
    "start_time": "2023-05-04T13:47:24.191Z"
   },
   {
    "duration": 179,
    "start_time": "2023-05-04T13:47:24.335Z"
   },
   {
    "duration": 164,
    "start_time": "2023-05-04T13:47:24.516Z"
   },
   {
    "duration": 5,
    "start_time": "2023-05-04T13:47:24.685Z"
   },
   {
    "duration": 109,
    "start_time": "2023-05-04T13:47:24.692Z"
   },
   {
    "duration": 10,
    "start_time": "2023-05-04T13:48:13.317Z"
   },
   {
    "duration": 9,
    "start_time": "2023-05-04T13:52:55.459Z"
   },
   {
    "duration": 15,
    "start_time": "2023-05-04T13:53:03.636Z"
   },
   {
    "duration": 13,
    "start_time": "2023-05-04T13:53:12.985Z"
   },
   {
    "duration": 14,
    "start_time": "2023-05-04T13:53:29.068Z"
   },
   {
    "duration": 13,
    "start_time": "2023-05-04T13:53:29.517Z"
   },
   {
    "duration": 1171,
    "start_time": "2023-05-04T13:53:38.124Z"
   },
   {
    "duration": 898,
    "start_time": "2023-05-04T13:53:39.297Z"
   },
   {
    "duration": 3,
    "start_time": "2023-05-04T13:53:40.197Z"
   },
   {
    "duration": 17,
    "start_time": "2023-05-04T13:53:40.203Z"
   },
   {
    "duration": 6,
    "start_time": "2023-05-04T13:53:40.222Z"
   },
   {
    "duration": 19,
    "start_time": "2023-05-04T13:53:40.230Z"
   },
   {
    "duration": 14,
    "start_time": "2023-05-04T13:53:40.250Z"
   },
   {
    "duration": 20,
    "start_time": "2023-05-04T13:53:40.266Z"
   },
   {
    "duration": 5,
    "start_time": "2023-05-04T13:53:40.288Z"
   },
   {
    "duration": 5,
    "start_time": "2023-05-04T13:53:40.295Z"
   },
   {
    "duration": 10,
    "start_time": "2023-05-04T13:53:40.301Z"
   },
   {
    "duration": 10,
    "start_time": "2023-05-04T13:53:40.312Z"
   },
   {
    "duration": 61,
    "start_time": "2023-05-04T13:53:40.324Z"
   },
   {
    "duration": 1583,
    "start_time": "2023-05-04T13:53:40.387Z"
   },
   {
    "duration": 154,
    "start_time": "2023-05-04T13:53:41.972Z"
   },
   {
    "duration": 180,
    "start_time": "2023-05-04T13:53:42.128Z"
   },
   {
    "duration": 166,
    "start_time": "2023-05-04T13:53:42.310Z"
   },
   {
    "duration": 14,
    "start_time": "2023-05-04T13:53:42.478Z"
   },
   {
    "duration": 15,
    "start_time": "2023-05-04T13:53:42.493Z"
   },
   {
    "duration": 21,
    "start_time": "2023-05-04T13:53:42.510Z"
   },
   {
    "duration": 13,
    "start_time": "2023-05-04T13:54:03.884Z"
   },
   {
    "duration": 12,
    "start_time": "2023-05-04T13:54:05.046Z"
   },
   {
    "duration": 1272,
    "start_time": "2023-05-04T13:54:13.250Z"
   },
   {
    "duration": 1071,
    "start_time": "2023-05-04T13:54:14.524Z"
   },
   {
    "duration": 3,
    "start_time": "2023-05-04T13:54:15.597Z"
   },
   {
    "duration": 14,
    "start_time": "2023-05-04T13:54:15.603Z"
   },
   {
    "duration": 8,
    "start_time": "2023-05-04T13:54:15.619Z"
   },
   {
    "duration": 15,
    "start_time": "2023-05-04T13:54:15.629Z"
   },
   {
    "duration": 10,
    "start_time": "2023-05-04T13:54:15.646Z"
   },
   {
    "duration": 5,
    "start_time": "2023-05-04T13:54:15.686Z"
   },
   {
    "duration": 6,
    "start_time": "2023-05-04T13:54:15.693Z"
   },
   {
    "duration": 4,
    "start_time": "2023-05-04T13:54:15.702Z"
   },
   {
    "duration": 9,
    "start_time": "2023-05-04T13:54:15.708Z"
   },
   {
    "duration": 10,
    "start_time": "2023-05-04T13:54:15.718Z"
   },
   {
    "duration": 62,
    "start_time": "2023-05-04T13:54:15.729Z"
   },
   {
    "duration": 1660,
    "start_time": "2023-05-04T13:54:15.793Z"
   },
   {
    "duration": 144,
    "start_time": "2023-05-04T13:54:17.454Z"
   },
   {
    "duration": 181,
    "start_time": "2023-05-04T13:54:17.600Z"
   },
   {
    "duration": 157,
    "start_time": "2023-05-04T13:54:17.784Z"
   },
   {
    "duration": 11,
    "start_time": "2023-05-04T13:54:17.942Z"
   },
   {
    "duration": 14,
    "start_time": "2023-05-04T13:54:17.955Z"
   },
   {
    "duration": 13,
    "start_time": "2023-05-04T13:54:17.985Z"
   },
   {
    "duration": 4,
    "start_time": "2023-05-04T13:54:20.284Z"
   },
   {
    "duration": 904,
    "start_time": "2023-05-04T13:54:20.470Z"
   },
   {
    "duration": 3,
    "start_time": "2023-05-04T13:54:21.376Z"
   },
   {
    "duration": 13,
    "start_time": "2023-05-04T13:54:21.380Z"
   },
   {
    "duration": 7,
    "start_time": "2023-05-04T13:54:21.949Z"
   },
   {
    "duration": 19,
    "start_time": "2023-05-04T13:54:22.469Z"
   },
   {
    "duration": 11,
    "start_time": "2023-05-04T13:54:23.648Z"
   },
   {
    "duration": 7,
    "start_time": "2023-05-04T13:54:24.069Z"
   },
   {
    "duration": 6,
    "start_time": "2023-05-04T13:54:24.434Z"
   },
   {
    "duration": 5,
    "start_time": "2023-05-04T13:54:24.982Z"
   },
   {
    "duration": 10,
    "start_time": "2023-05-04T13:54:25.475Z"
   },
   {
    "duration": 10,
    "start_time": "2023-05-04T13:54:26.066Z"
   },
   {
    "duration": 30,
    "start_time": "2023-05-04T13:54:27.273Z"
   },
   {
    "duration": 1561,
    "start_time": "2023-05-04T13:54:28.700Z"
   },
   {
    "duration": 57,
    "start_time": "2023-05-04T13:54:30.263Z"
   },
   {
    "duration": 179,
    "start_time": "2023-05-04T13:54:30.322Z"
   },
   {
    "duration": 276,
    "start_time": "2023-05-04T13:54:31.423Z"
   },
   {
    "duration": 10,
    "start_time": "2023-05-04T13:54:40.344Z"
   },
   {
    "duration": 12,
    "start_time": "2023-05-04T13:54:43.692Z"
   },
   {
    "duration": 227,
    "start_time": "2023-05-04T13:55:13.937Z"
   },
   {
    "duration": 47,
    "start_time": "2023-05-04T13:55:42.791Z"
   },
   {
    "duration": 1162,
    "start_time": "2023-05-04T13:56:42.330Z"
   },
   {
    "duration": 989,
    "start_time": "2023-05-04T13:56:43.494Z"
   },
   {
    "duration": 4,
    "start_time": "2023-05-04T13:56:44.485Z"
   },
   {
    "duration": 16,
    "start_time": "2023-05-04T13:56:44.490Z"
   },
   {
    "duration": 8,
    "start_time": "2023-05-04T13:56:44.509Z"
   },
   {
    "duration": 19,
    "start_time": "2023-05-04T13:56:44.518Z"
   },
   {
    "duration": 9,
    "start_time": "2023-05-04T13:56:44.539Z"
   },
   {
    "duration": 4,
    "start_time": "2023-05-04T13:56:44.550Z"
   },
   {
    "duration": 6,
    "start_time": "2023-05-04T13:56:44.584Z"
   },
   {
    "duration": 10,
    "start_time": "2023-05-04T13:56:44.592Z"
   },
   {
    "duration": 8,
    "start_time": "2023-05-04T13:56:44.604Z"
   },
   {
    "duration": 12,
    "start_time": "2023-05-04T13:56:44.614Z"
   },
   {
    "duration": 28,
    "start_time": "2023-05-04T13:56:44.628Z"
   },
   {
    "duration": 48,
    "start_time": "2023-05-04T13:56:44.685Z"
   },
   {
    "duration": 79,
    "start_time": "2023-05-04T13:56:44.735Z"
   },
   {
    "duration": 0,
    "start_time": "2023-05-04T13:56:44.816Z"
   },
   {
    "duration": 0,
    "start_time": "2023-05-04T13:56:44.817Z"
   },
   {
    "duration": 0,
    "start_time": "2023-05-04T13:56:44.818Z"
   },
   {
    "duration": 0,
    "start_time": "2023-05-04T13:56:44.819Z"
   },
   {
    "duration": 0,
    "start_time": "2023-05-04T13:56:44.820Z"
   },
   {
    "duration": 0,
    "start_time": "2023-05-04T13:56:44.821Z"
   },
   {
    "duration": 191,
    "start_time": "2023-05-04T14:04:39.895Z"
   },
   {
    "duration": 168,
    "start_time": "2023-05-04T14:05:09.962Z"
   },
   {
    "duration": 179,
    "start_time": "2023-05-04T14:06:31.289Z"
   },
   {
    "duration": 157,
    "start_time": "2023-05-04T14:07:31.709Z"
   },
   {
    "duration": 10,
    "start_time": "2023-05-04T14:07:50.953Z"
   },
   {
    "duration": 13,
    "start_time": "2023-05-04T14:08:08.579Z"
   },
   {
    "duration": 162,
    "start_time": "2023-05-04T14:08:30.361Z"
   },
   {
    "duration": 167,
    "start_time": "2023-05-04T14:08:36.157Z"
   },
   {
    "duration": 11,
    "start_time": "2023-05-04T14:08:36.712Z"
   },
   {
    "duration": 17,
    "start_time": "2023-05-04T14:08:36.834Z"
   },
   {
    "duration": 14,
    "start_time": "2023-05-04T14:08:37.310Z"
   },
   {
    "duration": 195,
    "start_time": "2023-05-04T14:08:38.034Z"
   },
   {
    "duration": 33,
    "start_time": "2023-05-04T14:08:58.681Z"
   },
   {
    "duration": 53,
    "start_time": "2023-05-04T14:09:00.075Z"
   },
   {
    "duration": 174,
    "start_time": "2023-05-04T14:09:00.951Z"
   },
   {
    "duration": 237,
    "start_time": "2023-05-04T14:09:01.951Z"
   },
   {
    "duration": 11,
    "start_time": "2023-05-04T14:09:04.550Z"
   },
   {
    "duration": 20,
    "start_time": "2023-05-04T14:09:05.225Z"
   },
   {
    "duration": 1164,
    "start_time": "2023-05-04T14:09:09.840Z"
   },
   {
    "duration": 950,
    "start_time": "2023-05-04T14:09:11.006Z"
   },
   {
    "duration": 3,
    "start_time": "2023-05-04T14:09:11.957Z"
   },
   {
    "duration": 18,
    "start_time": "2023-05-04T14:09:11.962Z"
   },
   {
    "duration": 7,
    "start_time": "2023-05-04T14:09:11.981Z"
   },
   {
    "duration": 14,
    "start_time": "2023-05-04T14:09:11.990Z"
   },
   {
    "duration": 9,
    "start_time": "2023-05-04T14:09:12.006Z"
   },
   {
    "duration": 3,
    "start_time": "2023-05-04T14:09:12.017Z"
   },
   {
    "duration": 6,
    "start_time": "2023-05-04T14:09:12.022Z"
   },
   {
    "duration": 14,
    "start_time": "2023-05-04T14:09:12.030Z"
   },
   {
    "duration": 8,
    "start_time": "2023-05-04T14:09:12.045Z"
   },
   {
    "duration": 36,
    "start_time": "2023-05-04T14:09:12.055Z"
   },
   {
    "duration": 36,
    "start_time": "2023-05-04T14:09:12.092Z"
   },
   {
    "duration": 61,
    "start_time": "2023-05-04T14:09:12.130Z"
   },
   {
    "duration": 217,
    "start_time": "2023-05-04T14:09:12.193Z"
   },
   {
    "duration": 178,
    "start_time": "2023-05-04T14:09:12.412Z"
   },
   {
    "duration": 11,
    "start_time": "2023-05-04T14:09:12.592Z"
   },
   {
    "duration": 22,
    "start_time": "2023-05-04T14:09:12.605Z"
   },
   {
    "duration": 14,
    "start_time": "2023-05-04T14:09:12.628Z"
   },
   {
    "duration": 196,
    "start_time": "2023-05-04T14:09:12.643Z"
   },
   {
    "duration": 19,
    "start_time": "2023-05-04T14:09:43.605Z"
   },
   {
    "duration": 13,
    "start_time": "2023-05-04T14:09:44.362Z"
   },
   {
    "duration": 165,
    "start_time": "2023-05-04T14:09:47.696Z"
   },
   {
    "duration": 1199,
    "start_time": "2023-05-04T14:09:54.115Z"
   },
   {
    "duration": 1945,
    "start_time": "2023-05-04T14:09:55.316Z"
   },
   {
    "duration": 3,
    "start_time": "2023-05-04T14:09:57.263Z"
   },
   {
    "duration": 19,
    "start_time": "2023-05-04T14:09:57.268Z"
   },
   {
    "duration": 8,
    "start_time": "2023-05-04T14:09:57.288Z"
   },
   {
    "duration": 26,
    "start_time": "2023-05-04T14:09:57.297Z"
   },
   {
    "duration": 11,
    "start_time": "2023-05-04T14:09:57.325Z"
   },
   {
    "duration": 5,
    "start_time": "2023-05-04T14:09:57.337Z"
   },
   {
    "duration": 5,
    "start_time": "2023-05-04T14:09:57.344Z"
   },
   {
    "duration": 5,
    "start_time": "2023-05-04T14:09:57.351Z"
   },
   {
    "duration": 10,
    "start_time": "2023-05-04T14:09:57.385Z"
   },
   {
    "duration": 17,
    "start_time": "2023-05-04T14:09:57.396Z"
   },
   {
    "duration": 37,
    "start_time": "2023-05-04T14:09:57.414Z"
   },
   {
    "duration": 72,
    "start_time": "2023-05-04T14:09:57.453Z"
   },
   {
    "duration": 194,
    "start_time": "2023-05-04T14:09:57.526Z"
   },
   {
    "duration": 171,
    "start_time": "2023-05-04T14:09:57.721Z"
   },
   {
    "duration": 9,
    "start_time": "2023-05-04T14:09:57.894Z"
   },
   {
    "duration": 16,
    "start_time": "2023-05-04T14:09:57.905Z"
   },
   {
    "duration": 11,
    "start_time": "2023-05-04T14:09:57.923Z"
   },
   {
    "duration": 195,
    "start_time": "2023-05-04T14:09:57.936Z"
   },
   {
    "duration": 1659,
    "start_time": "2023-05-04T14:11:20.515Z"
   },
   {
    "duration": 6,
    "start_time": "2023-05-04T14:11:40.959Z"
   },
   {
    "duration": 139,
    "start_time": "2023-05-04T14:12:02.987Z"
   },
   {
    "duration": 10,
    "start_time": "2023-05-04T14:12:13.811Z"
   },
   {
    "duration": 22,
    "start_time": "2023-05-04T14:12:24.368Z"
   },
   {
    "duration": 12,
    "start_time": "2023-05-04T14:15:52.581Z"
   },
   {
    "duration": 171,
    "start_time": "2023-05-04T14:16:01.470Z"
   },
   {
    "duration": 1060,
    "start_time": "2023-05-04T14:16:05.938Z"
   },
   {
    "duration": 1174,
    "start_time": "2023-05-04T14:16:07.000Z"
   },
   {
    "duration": 3,
    "start_time": "2023-05-04T14:16:08.175Z"
   },
   {
    "duration": 14,
    "start_time": "2023-05-04T14:16:08.180Z"
   },
   {
    "duration": 8,
    "start_time": "2023-05-04T14:16:08.197Z"
   },
   {
    "duration": 14,
    "start_time": "2023-05-04T14:16:08.207Z"
   },
   {
    "duration": 9,
    "start_time": "2023-05-04T14:16:08.222Z"
   },
   {
    "duration": 4,
    "start_time": "2023-05-04T14:16:08.232Z"
   },
   {
    "duration": 7,
    "start_time": "2023-05-04T14:16:08.238Z"
   },
   {
    "duration": 5,
    "start_time": "2023-05-04T14:16:08.248Z"
   },
   {
    "duration": 41,
    "start_time": "2023-05-04T14:16:08.255Z"
   },
   {
    "duration": 13,
    "start_time": "2023-05-04T14:16:08.298Z"
   },
   {
    "duration": 48,
    "start_time": "2023-05-04T14:16:08.313Z"
   },
   {
    "duration": 50,
    "start_time": "2023-05-04T14:16:08.363Z"
   },
   {
    "duration": 195,
    "start_time": "2023-05-04T14:16:08.414Z"
   },
   {
    "duration": 158,
    "start_time": "2023-05-04T14:16:08.610Z"
   },
   {
    "duration": 17,
    "start_time": "2023-05-04T14:16:08.770Z"
   },
   {
    "duration": 15,
    "start_time": "2023-05-04T14:16:08.789Z"
   },
   {
    "duration": 12,
    "start_time": "2023-05-04T14:16:08.805Z"
   },
   {
    "duration": 182,
    "start_time": "2023-05-04T14:16:08.819Z"
   },
   {
    "duration": 9,
    "start_time": "2023-05-04T14:16:09.003Z"
   },
   {
    "duration": 3,
    "start_time": "2023-05-04T14:17:17.374Z"
   },
   {
    "duration": 1096,
    "start_time": "2023-05-04T14:17:17.929Z"
   },
   {
    "duration": 3,
    "start_time": "2023-05-04T14:17:19.428Z"
   },
   {
    "duration": 12,
    "start_time": "2023-05-04T14:17:20.559Z"
   },
   {
    "duration": 7,
    "start_time": "2023-05-04T14:17:21.533Z"
   },
   {
    "duration": 13,
    "start_time": "2023-05-04T14:17:22.529Z"
   },
   {
    "duration": 20,
    "start_time": "2023-05-04T14:17:24.084Z"
   },
   {
    "duration": 13,
    "start_time": "2023-05-04T14:18:15.740Z"
   },
   {
    "duration": 10,
    "start_time": "2023-05-04T14:18:16.549Z"
   },
   {
    "duration": 5,
    "start_time": "2023-05-04T14:18:16.990Z"
   },
   {
    "duration": 6,
    "start_time": "2023-05-04T14:18:17.634Z"
   },
   {
    "duration": 5,
    "start_time": "2023-05-04T14:18:18.234Z"
   },
   {
    "duration": 8,
    "start_time": "2023-05-04T14:18:18.740Z"
   },
   {
    "duration": 10,
    "start_time": "2023-05-04T14:18:20.791Z"
   },
   {
    "duration": 27,
    "start_time": "2023-05-04T14:18:22.135Z"
   },
   {
    "duration": 45,
    "start_time": "2023-05-04T14:18:23.191Z"
   },
   {
    "duration": 165,
    "start_time": "2023-05-04T14:18:24.285Z"
   },
   {
    "duration": 15,
    "start_time": "2023-05-04T14:19:03.460Z"
   },
   {
    "duration": 12,
    "start_time": "2023-05-04T14:19:04.365Z"
   },
   {
    "duration": 174,
    "start_time": "2023-05-04T14:19:06.116Z"
   },
   {
    "duration": 6,
    "start_time": "2023-05-04T14:19:34.256Z"
   },
   {
    "duration": 1232,
    "start_time": "2023-05-04T14:19:53.514Z"
   },
   {
    "duration": 1188,
    "start_time": "2023-05-04T14:19:54.748Z"
   },
   {
    "duration": 3,
    "start_time": "2023-05-04T14:19:55.937Z"
   },
   {
    "duration": 17,
    "start_time": "2023-05-04T14:19:55.942Z"
   },
   {
    "duration": 7,
    "start_time": "2023-05-04T14:19:55.961Z"
   },
   {
    "duration": 14,
    "start_time": "2023-05-04T14:19:55.969Z"
   },
   {
    "duration": 10,
    "start_time": "2023-05-04T14:19:55.984Z"
   },
   {
    "duration": 4,
    "start_time": "2023-05-04T14:19:55.995Z"
   },
   {
    "duration": 7,
    "start_time": "2023-05-04T14:19:56.000Z"
   },
   {
    "duration": 4,
    "start_time": "2023-05-04T14:19:56.008Z"
   },
   {
    "duration": 8,
    "start_time": "2023-05-04T14:19:56.013Z"
   },
   {
    "duration": 9,
    "start_time": "2023-05-04T14:19:56.023Z"
   },
   {
    "duration": 62,
    "start_time": "2023-05-04T14:19:56.033Z"
   },
   {
    "duration": 48,
    "start_time": "2023-05-04T14:19:56.097Z"
   },
   {
    "duration": 200,
    "start_time": "2023-05-04T14:19:56.147Z"
   },
   {
    "duration": 169,
    "start_time": "2023-05-04T14:19:56.348Z"
   },
   {
    "duration": 9,
    "start_time": "2023-05-04T14:19:56.519Z"
   },
   {
    "duration": 17,
    "start_time": "2023-05-04T14:19:56.529Z"
   },
   {
    "duration": 14,
    "start_time": "2023-05-04T14:19:56.548Z"
   },
   {
    "duration": 216,
    "start_time": "2023-05-04T14:19:56.564Z"
   },
   {
    "duration": 7,
    "start_time": "2023-05-04T14:19:56.784Z"
   },
   {
    "duration": 13,
    "start_time": "2023-05-04T14:20:57.490Z"
   },
   {
    "duration": 1162,
    "start_time": "2023-05-04T14:21:06.254Z"
   },
   {
    "duration": 1034,
    "start_time": "2023-05-04T14:21:07.419Z"
   },
   {
    "duration": 3,
    "start_time": "2023-05-04T14:21:08.456Z"
   },
   {
    "duration": 14,
    "start_time": "2023-05-04T14:21:08.462Z"
   },
   {
    "duration": 9,
    "start_time": "2023-05-04T14:21:08.477Z"
   },
   {
    "duration": 14,
    "start_time": "2023-05-04T14:21:08.488Z"
   },
   {
    "duration": 10,
    "start_time": "2023-05-04T14:21:08.504Z"
   },
   {
    "duration": 17,
    "start_time": "2023-05-04T14:21:08.516Z"
   },
   {
    "duration": 7,
    "start_time": "2023-05-04T14:21:08.535Z"
   },
   {
    "duration": 5,
    "start_time": "2023-05-04T14:21:08.545Z"
   },
   {
    "duration": 11,
    "start_time": "2023-05-04T14:21:08.551Z"
   },
   {
    "duration": 14,
    "start_time": "2023-05-04T14:21:08.587Z"
   },
   {
    "duration": 31,
    "start_time": "2023-05-04T14:21:08.604Z"
   },
   {
    "duration": 74,
    "start_time": "2023-05-04T14:21:08.636Z"
   },
   {
    "duration": 195,
    "start_time": "2023-05-04T14:21:08.712Z"
   },
   {
    "duration": 170,
    "start_time": "2023-05-04T14:21:08.909Z"
   },
   {
    "duration": 9,
    "start_time": "2023-05-04T14:21:09.086Z"
   },
   {
    "duration": 15,
    "start_time": "2023-05-04T14:21:09.097Z"
   },
   {
    "duration": 11,
    "start_time": "2023-05-04T14:21:09.114Z"
   },
   {
    "duration": 192,
    "start_time": "2023-05-04T14:21:09.127Z"
   },
   {
    "duration": 10,
    "start_time": "2023-05-04T14:21:09.321Z"
   },
   {
    "duration": 1137,
    "start_time": "2023-05-04T14:22:25.232Z"
   },
   {
    "duration": 1118,
    "start_time": "2023-05-04T14:22:26.371Z"
   },
   {
    "duration": 4,
    "start_time": "2023-05-04T14:22:27.491Z"
   },
   {
    "duration": 15,
    "start_time": "2023-05-04T14:22:27.497Z"
   },
   {
    "duration": 9,
    "start_time": "2023-05-04T14:22:27.515Z"
   },
   {
    "duration": 17,
    "start_time": "2023-05-04T14:22:27.525Z"
   },
   {
    "duration": 11,
    "start_time": "2023-05-04T14:22:27.543Z"
   },
   {
    "duration": 33,
    "start_time": "2023-05-04T14:22:27.556Z"
   },
   {
    "duration": 8,
    "start_time": "2023-05-04T14:22:27.591Z"
   },
   {
    "duration": 9,
    "start_time": "2023-05-04T14:22:27.601Z"
   },
   {
    "duration": 26,
    "start_time": "2023-05-04T14:22:27.612Z"
   },
   {
    "duration": 23,
    "start_time": "2023-05-04T14:22:27.640Z"
   },
   {
    "duration": 45,
    "start_time": "2023-05-04T14:22:27.665Z"
   },
   {
    "duration": 55,
    "start_time": "2023-05-04T14:22:27.713Z"
   },
   {
    "duration": 217,
    "start_time": "2023-05-04T14:22:27.770Z"
   },
   {
    "duration": 161,
    "start_time": "2023-05-04T14:22:27.989Z"
   },
   {
    "duration": 9,
    "start_time": "2023-05-04T14:22:28.153Z"
   },
   {
    "duration": 31,
    "start_time": "2023-05-04T14:22:28.164Z"
   },
   {
    "duration": 16,
    "start_time": "2023-05-04T14:22:28.197Z"
   },
   {
    "duration": 183,
    "start_time": "2023-05-04T14:22:28.215Z"
   },
   {
    "duration": 12,
    "start_time": "2023-05-04T14:22:28.400Z"
   },
   {
    "duration": 1148,
    "start_time": "2023-05-04T14:47:07.130Z"
   },
   {
    "duration": 1161,
    "start_time": "2023-05-04T14:47:08.280Z"
   },
   {
    "duration": 3,
    "start_time": "2023-05-04T14:47:09.443Z"
   },
   {
    "duration": 14,
    "start_time": "2023-05-04T14:47:09.448Z"
   },
   {
    "duration": 7,
    "start_time": "2023-05-04T14:47:09.464Z"
   },
   {
    "duration": 15,
    "start_time": "2023-05-04T14:47:09.472Z"
   },
   {
    "duration": 10,
    "start_time": "2023-05-04T14:47:09.489Z"
   },
   {
    "duration": 9,
    "start_time": "2023-05-04T14:47:09.500Z"
   },
   {
    "duration": 13,
    "start_time": "2023-05-04T14:47:09.510Z"
   },
   {
    "duration": 6,
    "start_time": "2023-05-04T14:47:09.525Z"
   },
   {
    "duration": 9,
    "start_time": "2023-05-04T14:47:09.532Z"
   },
   {
    "duration": 12,
    "start_time": "2023-05-04T14:47:09.542Z"
   },
   {
    "duration": 53,
    "start_time": "2023-05-04T14:47:09.555Z"
   },
   {
    "duration": 51,
    "start_time": "2023-05-04T14:47:09.610Z"
   },
   {
    "duration": 195,
    "start_time": "2023-05-04T14:47:09.663Z"
   },
   {
    "duration": 172,
    "start_time": "2023-05-04T14:47:09.860Z"
   },
   {
    "duration": 9,
    "start_time": "2023-05-04T14:47:10.034Z"
   },
   {
    "duration": 13,
    "start_time": "2023-05-04T14:47:10.045Z"
   },
   {
    "duration": 33,
    "start_time": "2023-05-04T14:47:10.060Z"
   },
   {
    "duration": 148,
    "start_time": "2023-05-04T14:47:10.095Z"
   },
   {
    "duration": 10,
    "start_time": "2023-05-04T14:47:10.245Z"
   },
   {
    "duration": 1237,
    "start_time": "2023-05-04T17:10:01.472Z"
   },
   {
    "duration": 989,
    "start_time": "2023-05-04T17:10:02.711Z"
   },
   {
    "duration": 4,
    "start_time": "2023-05-04T17:10:03.702Z"
   },
   {
    "duration": 27,
    "start_time": "2023-05-04T17:10:03.707Z"
   },
   {
    "duration": 11,
    "start_time": "2023-05-04T17:10:03.736Z"
   },
   {
    "duration": 14,
    "start_time": "2023-05-04T17:10:03.748Z"
   },
   {
    "duration": 10,
    "start_time": "2023-05-04T17:10:03.763Z"
   },
   {
    "duration": 12,
    "start_time": "2023-05-04T17:10:03.774Z"
   },
   {
    "duration": 19,
    "start_time": "2023-05-04T17:10:03.787Z"
   },
   {
    "duration": 7,
    "start_time": "2023-05-04T17:10:03.807Z"
   },
   {
    "duration": 24,
    "start_time": "2023-05-04T17:10:03.815Z"
   },
   {
    "duration": 9,
    "start_time": "2023-05-04T17:10:03.841Z"
   },
   {
    "duration": 30,
    "start_time": "2023-05-04T17:10:03.851Z"
   },
   {
    "duration": 47,
    "start_time": "2023-05-04T17:10:03.884Z"
   },
   {
    "duration": 262,
    "start_time": "2023-05-04T17:10:03.932Z"
   },
   {
    "duration": 198,
    "start_time": "2023-05-04T17:10:04.196Z"
   },
   {
    "duration": 10,
    "start_time": "2023-05-04T17:10:04.396Z"
   },
   {
    "duration": 14,
    "start_time": "2023-05-04T17:10:04.407Z"
   },
   {
    "duration": 23,
    "start_time": "2023-05-04T17:10:04.423Z"
   },
   {
    "duration": 177,
    "start_time": "2023-05-04T17:10:04.448Z"
   },
   {
    "duration": 12,
    "start_time": "2023-05-04T17:10:04.627Z"
   },
   {
    "duration": 9,
    "start_time": "2023-05-04T17:10:35.306Z"
   },
   {
    "duration": 18,
    "start_time": "2023-05-04T17:10:42.198Z"
   },
   {
    "duration": 12,
    "start_time": "2023-05-04T17:10:43.325Z"
   },
   {
    "duration": 1251,
    "start_time": "2023-05-04T17:10:49.905Z"
   },
   {
    "duration": 1536,
    "start_time": "2023-05-04T17:10:51.158Z"
   },
   {
    "duration": 3,
    "start_time": "2023-05-04T17:10:52.696Z"
   },
   {
    "duration": 42,
    "start_time": "2023-05-04T17:10:52.701Z"
   },
   {
    "duration": 28,
    "start_time": "2023-05-04T17:10:52.745Z"
   },
   {
    "duration": 36,
    "start_time": "2023-05-04T17:10:52.775Z"
   },
   {
    "duration": 24,
    "start_time": "2023-05-04T17:10:52.813Z"
   },
   {
    "duration": 5,
    "start_time": "2023-05-04T17:10:52.839Z"
   },
   {
    "duration": 10,
    "start_time": "2023-05-04T17:10:52.845Z"
   },
   {
    "duration": 11,
    "start_time": "2023-05-04T17:10:52.857Z"
   },
   {
    "duration": 13,
    "start_time": "2023-05-04T17:10:52.869Z"
   },
   {
    "duration": 13,
    "start_time": "2023-05-04T17:10:52.884Z"
   },
   {
    "duration": 32,
    "start_time": "2023-05-04T17:10:52.898Z"
   },
   {
    "duration": 57,
    "start_time": "2023-05-04T17:10:52.932Z"
   },
   {
    "duration": 209,
    "start_time": "2023-05-04T17:10:52.990Z"
   },
   {
    "duration": 172,
    "start_time": "2023-05-04T17:10:53.201Z"
   },
   {
    "duration": 16,
    "start_time": "2023-05-04T17:10:53.375Z"
   },
   {
    "duration": 29,
    "start_time": "2023-05-04T17:10:53.392Z"
   },
   {
    "duration": 12,
    "start_time": "2023-05-04T17:10:53.424Z"
   },
   {
    "duration": 192,
    "start_time": "2023-05-04T17:10:53.437Z"
   },
   {
    "duration": 13,
    "start_time": "2023-05-04T17:10:53.631Z"
   },
   {
    "duration": 1451,
    "start_time": "2023-05-05T11:35:32.986Z"
   },
   {
    "duration": 1495,
    "start_time": "2023-05-05T11:35:34.440Z"
   },
   {
    "duration": 4,
    "start_time": "2023-05-05T11:35:35.937Z"
   },
   {
    "duration": 16,
    "start_time": "2023-05-05T11:35:35.943Z"
   },
   {
    "duration": 8,
    "start_time": "2023-05-05T11:35:35.960Z"
   },
   {
    "duration": 16,
    "start_time": "2023-05-05T11:35:35.969Z"
   },
   {
    "duration": 31,
    "start_time": "2023-05-05T11:35:35.987Z"
   },
   {
    "duration": 5,
    "start_time": "2023-05-05T11:35:36.020Z"
   },
   {
    "duration": 14,
    "start_time": "2023-05-05T11:35:36.026Z"
   },
   {
    "duration": 8,
    "start_time": "2023-05-05T11:35:36.042Z"
   },
   {
    "duration": 26,
    "start_time": "2023-05-05T11:35:36.052Z"
   },
   {
    "duration": 16,
    "start_time": "2023-05-05T11:35:36.080Z"
   },
   {
    "duration": 32,
    "start_time": "2023-05-05T11:35:36.097Z"
   },
   {
    "duration": 49,
    "start_time": "2023-05-05T11:35:36.130Z"
   },
   {
    "duration": 204,
    "start_time": "2023-05-05T11:35:36.180Z"
   },
   {
    "duration": 168,
    "start_time": "2023-05-05T11:35:36.386Z"
   },
   {
    "duration": 11,
    "start_time": "2023-05-05T11:35:36.555Z"
   },
   {
    "duration": 18,
    "start_time": "2023-05-05T11:35:36.567Z"
   },
   {
    "duration": 34,
    "start_time": "2023-05-05T11:35:36.587Z"
   },
   {
    "duration": 15,
    "start_time": "2023-05-05T11:53:29.406Z"
   },
   {
    "duration": 1341,
    "start_time": "2023-05-05T11:55:36.835Z"
   },
   {
    "duration": 1275,
    "start_time": "2023-05-05T11:57:16.812Z"
   },
   {
    "duration": 1427,
    "start_time": "2023-05-05T11:57:23.273Z"
   },
   {
    "duration": 16,
    "start_time": "2023-05-05T12:01:30.757Z"
   },
   {
    "duration": 17,
    "start_time": "2023-05-05T12:03:31.511Z"
   },
   {
    "duration": 156,
    "start_time": "2023-05-05T12:42:21.879Z"
   },
   {
    "duration": 114,
    "start_time": "2023-05-05T12:45:00.385Z"
   },
   {
    "duration": 171,
    "start_time": "2023-05-05T12:45:24.560Z"
   },
   {
    "duration": 131,
    "start_time": "2023-05-05T12:45:44.650Z"
   },
   {
    "duration": 125,
    "start_time": "2023-05-05T12:46:22.927Z"
   },
   {
    "duration": 139,
    "start_time": "2023-05-05T12:49:58.705Z"
   },
   {
    "duration": 140,
    "start_time": "2023-05-05T12:50:07.038Z"
   },
   {
    "duration": 1288,
    "start_time": "2023-05-05T14:31:59.367Z"
   },
   {
    "duration": 1223,
    "start_time": "2023-05-05T14:32:00.657Z"
   },
   {
    "duration": 4,
    "start_time": "2023-05-05T14:32:01.882Z"
   },
   {
    "duration": 56,
    "start_time": "2023-05-05T14:32:01.889Z"
   },
   {
    "duration": 111,
    "start_time": "2023-05-05T14:32:01.947Z"
   },
   {
    "duration": 75,
    "start_time": "2023-05-05T14:32:02.060Z"
   },
   {
    "duration": 161,
    "start_time": "2023-05-05T14:32:02.137Z"
   },
   {
    "duration": 148,
    "start_time": "2023-05-05T14:32:02.299Z"
   },
   {
    "duration": 57,
    "start_time": "2023-05-05T14:32:02.449Z"
   },
   {
    "duration": 54,
    "start_time": "2023-05-05T14:32:02.510Z"
   },
   {
    "duration": 63,
    "start_time": "2023-05-05T14:32:02.566Z"
   },
   {
    "duration": 13,
    "start_time": "2023-05-05T14:32:02.631Z"
   },
   {
    "duration": 69,
    "start_time": "2023-05-05T14:32:02.646Z"
   },
   {
    "duration": 71,
    "start_time": "2023-05-05T14:32:02.717Z"
   },
   {
    "duration": 177,
    "start_time": "2023-05-05T14:32:02.789Z"
   },
   {
    "duration": 148,
    "start_time": "2023-05-05T14:32:02.968Z"
   },
   {
    "duration": 17,
    "start_time": "2023-05-05T14:32:03.119Z"
   },
   {
    "duration": 64,
    "start_time": "2023-05-05T14:32:03.138Z"
   },
   {
    "duration": 36,
    "start_time": "2023-05-05T14:32:03.204Z"
   },
   {
    "duration": 1197,
    "start_time": "2023-05-05T14:32:03.242Z"
   },
   {
    "duration": 273,
    "start_time": "2023-05-05T14:32:04.441Z"
   },
   {
    "duration": 103,
    "start_time": "2023-05-05T14:34:10.437Z"
   },
   {
    "duration": 143,
    "start_time": "2023-05-05T14:34:43.340Z"
   },
   {
    "duration": 421,
    "start_time": "2023-05-05T14:41:38.039Z"
   },
   {
    "duration": 1077,
    "start_time": "2023-05-05T14:42:13.057Z"
   },
   {
    "duration": 143,
    "start_time": "2023-05-05T15:39:07.918Z"
   },
   {
    "duration": 19,
    "start_time": "2023-05-05T15:39:16.129Z"
   },
   {
    "duration": 21,
    "start_time": "2023-05-05T15:39:32.456Z"
   },
   {
    "duration": 63,
    "start_time": "2023-05-05T15:40:42.548Z"
   },
   {
    "duration": 49,
    "start_time": "2023-05-05T15:42:56.511Z"
   },
   {
    "duration": 111,
    "start_time": "2023-05-05T15:47:53.090Z"
   },
   {
    "duration": 962,
    "start_time": "2023-05-05T15:48:22.332Z"
   },
   {
    "duration": 517,
    "start_time": "2023-05-05T15:49:14.839Z"
   },
   {
    "duration": 455,
    "start_time": "2023-05-05T15:55:31.819Z"
   },
   {
    "duration": 539,
    "start_time": "2023-05-05T15:56:06.859Z"
   },
   {
    "duration": 51,
    "start_time": "2023-05-05T15:56:41.400Z"
   },
   {
    "duration": 91,
    "start_time": "2023-05-05T15:56:53.536Z"
   },
   {
    "duration": 551,
    "start_time": "2023-05-05T15:57:36.326Z"
   },
   {
    "duration": 659,
    "start_time": "2023-05-05T15:57:47.230Z"
   },
   {
    "duration": 582,
    "start_time": "2023-05-05T15:57:52.899Z"
   },
   {
    "duration": 600,
    "start_time": "2023-05-05T15:58:12.279Z"
   },
   {
    "duration": 646,
    "start_time": "2023-05-05T15:58:49.970Z"
   },
   {
    "duration": 830,
    "start_time": "2023-05-05T15:59:32.833Z"
   },
   {
    "duration": 649,
    "start_time": "2023-05-05T15:59:57.904Z"
   },
   {
    "duration": 760,
    "start_time": "2023-05-05T16:00:13.650Z"
   },
   {
    "duration": 506,
    "start_time": "2023-05-05T16:00:50.341Z"
   },
   {
    "duration": 1109,
    "start_time": "2023-05-05T16:02:21.003Z"
   },
   {
    "duration": 987,
    "start_time": "2023-05-05T16:02:27.212Z"
   },
   {
    "duration": 1138,
    "start_time": "2023-05-05T16:04:09.555Z"
   },
   {
    "duration": 1089,
    "start_time": "2023-05-05T16:04:59.108Z"
   },
   {
    "duration": 1270,
    "start_time": "2023-05-05T16:05:25.960Z"
   },
   {
    "duration": 277,
    "start_time": "2023-05-05T16:06:25.756Z"
   },
   {
    "duration": 1568,
    "start_time": "2023-05-06T06:37:02.414Z"
   },
   {
    "duration": 1289,
    "start_time": "2023-05-06T06:37:03.985Z"
   },
   {
    "duration": 4,
    "start_time": "2023-05-06T06:37:05.276Z"
   },
   {
    "duration": 87,
    "start_time": "2023-05-06T06:37:05.283Z"
   },
   {
    "duration": 10,
    "start_time": "2023-05-06T06:37:05.374Z"
   },
   {
    "duration": 29,
    "start_time": "2023-05-06T06:37:05.386Z"
   },
   {
    "duration": 27,
    "start_time": "2023-05-06T06:37:05.417Z"
   },
   {
    "duration": 18,
    "start_time": "2023-05-06T06:37:05.446Z"
   },
   {
    "duration": 21,
    "start_time": "2023-05-06T06:37:05.466Z"
   },
   {
    "duration": 26,
    "start_time": "2023-05-06T06:37:05.490Z"
   },
   {
    "duration": 12,
    "start_time": "2023-05-06T06:37:05.519Z"
   },
   {
    "duration": 11,
    "start_time": "2023-05-06T06:37:05.536Z"
   },
   {
    "duration": 31,
    "start_time": "2023-05-06T06:37:05.550Z"
   },
   {
    "duration": 36,
    "start_time": "2023-05-06T06:37:05.584Z"
   },
   {
    "duration": 68,
    "start_time": "2023-05-06T06:37:05.622Z"
   },
   {
    "duration": 237,
    "start_time": "2023-05-06T06:37:05.692Z"
   },
   {
    "duration": 280,
    "start_time": "2023-05-06T06:37:05.932Z"
   },
   {
    "duration": 26,
    "start_time": "2023-05-06T06:37:06.215Z"
   },
   {
    "duration": 26,
    "start_time": "2023-05-06T06:37:06.243Z"
   },
   {
    "duration": 14,
    "start_time": "2023-05-06T06:37:06.271Z"
   },
   {
    "duration": 922,
    "start_time": "2023-05-06T06:37:06.287Z"
   },
   {
    "duration": 1826,
    "start_time": "2023-05-06T06:37:07.212Z"
   },
   {
    "duration": 1650,
    "start_time": "2023-05-06T06:37:09.042Z"
   },
   {
    "duration": 189,
    "start_time": "2023-05-06T06:37:10.695Z"
   },
   {
    "duration": 1669,
    "start_time": "2023-05-06T06:38:01.771Z"
   },
   {
    "duration": 1917,
    "start_time": "2023-05-06T06:38:15.535Z"
   },
   {
    "duration": 1892,
    "start_time": "2023-05-06T06:38:32.089Z"
   },
   {
    "duration": 1826,
    "start_time": "2023-05-06T06:38:49.760Z"
   },
   {
    "duration": 1521,
    "start_time": "2023-05-06T06:40:41.985Z"
   },
   {
    "duration": 523,
    "start_time": "2023-05-06T06:41:31.654Z"
   },
   {
    "duration": 1479,
    "start_time": "2023-05-06T06:41:39.396Z"
   },
   {
    "duration": 61,
    "start_time": "2023-05-06T06:41:58.766Z"
   },
   {
    "duration": 587,
    "start_time": "2023-05-06T06:44:24.468Z"
   },
   {
    "duration": 1590,
    "start_time": "2023-05-06T06:44:53.574Z"
   },
   {
    "duration": 1429,
    "start_time": "2023-05-06T06:48:22.063Z"
   },
   {
    "duration": 1428,
    "start_time": "2023-05-06T06:48:23.494Z"
   },
   {
    "duration": 5,
    "start_time": "2023-05-06T06:48:24.924Z"
   },
   {
    "duration": 90,
    "start_time": "2023-05-06T06:48:24.931Z"
   },
   {
    "duration": 15,
    "start_time": "2023-05-06T06:48:25.023Z"
   },
   {
    "duration": 68,
    "start_time": "2023-05-06T06:48:25.040Z"
   },
   {
    "duration": 28,
    "start_time": "2023-05-06T06:48:25.111Z"
   },
   {
    "duration": 53,
    "start_time": "2023-05-06T06:48:25.142Z"
   },
   {
    "duration": 6,
    "start_time": "2023-05-06T06:48:25.198Z"
   },
   {
    "duration": 14,
    "start_time": "2023-05-06T06:48:25.208Z"
   },
   {
    "duration": 36,
    "start_time": "2023-05-06T06:48:25.224Z"
   },
   {
    "duration": 29,
    "start_time": "2023-05-06T06:48:25.272Z"
   },
   {
    "duration": 17,
    "start_time": "2023-05-06T06:48:25.303Z"
   },
   {
    "duration": 52,
    "start_time": "2023-05-06T06:48:25.322Z"
   },
   {
    "duration": 75,
    "start_time": "2023-05-06T06:48:25.377Z"
   },
   {
    "duration": 230,
    "start_time": "2023-05-06T06:48:25.454Z"
   },
   {
    "duration": 253,
    "start_time": "2023-05-06T06:48:25.686Z"
   },
   {
    "duration": 28,
    "start_time": "2023-05-06T06:48:25.942Z"
   },
   {
    "duration": 24,
    "start_time": "2023-05-06T06:48:25.973Z"
   },
   {
    "duration": 15,
    "start_time": "2023-05-06T06:48:25.999Z"
   },
   {
    "duration": 624,
    "start_time": "2023-05-06T06:48:26.016Z"
   },
   {
    "duration": 1311,
    "start_time": "2023-05-06T06:49:50.635Z"
   },
   {
    "duration": 1324,
    "start_time": "2023-05-06T06:49:51.948Z"
   },
   {
    "duration": 3,
    "start_time": "2023-05-06T06:49:53.275Z"
   },
   {
    "duration": 19,
    "start_time": "2023-05-06T06:49:53.281Z"
   },
   {
    "duration": 9,
    "start_time": "2023-05-06T06:49:53.301Z"
   },
   {
    "duration": 31,
    "start_time": "2023-05-06T06:49:53.312Z"
   },
   {
    "duration": 23,
    "start_time": "2023-05-06T06:49:53.345Z"
   },
   {
    "duration": 27,
    "start_time": "2023-05-06T06:49:53.370Z"
   },
   {
    "duration": 7,
    "start_time": "2023-05-06T06:49:53.399Z"
   },
   {
    "duration": 12,
    "start_time": "2023-05-06T06:49:53.409Z"
   },
   {
    "duration": 6,
    "start_time": "2023-05-06T06:49:53.423Z"
   },
   {
    "duration": 32,
    "start_time": "2023-05-06T06:49:53.445Z"
   },
   {
    "duration": 26,
    "start_time": "2023-05-06T06:49:53.479Z"
   },
   {
    "duration": 45,
    "start_time": "2023-05-06T06:49:53.508Z"
   },
   {
    "duration": 60,
    "start_time": "2023-05-06T06:49:53.555Z"
   },
   {
    "duration": 237,
    "start_time": "2023-05-06T06:49:53.620Z"
   },
   {
    "duration": 194,
    "start_time": "2023-05-06T06:49:53.859Z"
   },
   {
    "duration": 25,
    "start_time": "2023-05-06T06:49:54.054Z"
   },
   {
    "duration": 36,
    "start_time": "2023-05-06T06:49:54.089Z"
   },
   {
    "duration": 41,
    "start_time": "2023-05-06T06:49:54.129Z"
   },
   {
    "duration": 605,
    "start_time": "2023-05-06T06:49:54.173Z"
   },
   {
    "duration": 1495,
    "start_time": "2023-05-06T06:51:26.324Z"
   },
   {
    "duration": 1171,
    "start_time": "2023-05-06T06:51:27.822Z"
   },
   {
    "duration": 6,
    "start_time": "2023-05-06T06:51:28.996Z"
   },
   {
    "duration": 23,
    "start_time": "2023-05-06T06:51:29.005Z"
   },
   {
    "duration": 10,
    "start_time": "2023-05-06T06:51:29.035Z"
   },
   {
    "duration": 41,
    "start_time": "2023-05-06T06:51:29.060Z"
   },
   {
    "duration": 29,
    "start_time": "2023-05-06T06:51:29.103Z"
   },
   {
    "duration": 30,
    "start_time": "2023-05-06T06:51:29.143Z"
   },
   {
    "duration": 24,
    "start_time": "2023-05-06T06:51:29.175Z"
   },
   {
    "duration": 9,
    "start_time": "2023-05-06T06:51:29.202Z"
   },
   {
    "duration": 7,
    "start_time": "2023-05-06T06:51:29.213Z"
   },
   {
    "duration": 21,
    "start_time": "2023-05-06T06:51:29.222Z"
   },
   {
    "duration": 54,
    "start_time": "2023-05-06T06:51:29.244Z"
   },
   {
    "duration": 39,
    "start_time": "2023-05-06T06:51:29.302Z"
   },
   {
    "duration": 63,
    "start_time": "2023-05-06T06:51:29.349Z"
   },
   {
    "duration": 245,
    "start_time": "2023-05-06T06:51:29.415Z"
   },
   {
    "duration": 209,
    "start_time": "2023-05-06T06:51:29.662Z"
   },
   {
    "duration": 12,
    "start_time": "2023-05-06T06:51:29.874Z"
   },
   {
    "duration": 27,
    "start_time": "2023-05-06T06:51:29.888Z"
   },
   {
    "duration": 45,
    "start_time": "2023-05-06T06:51:29.917Z"
   },
   {
    "duration": 631,
    "start_time": "2023-05-06T06:51:29.966Z"
   },
   {
    "duration": 1738,
    "start_time": "2023-05-06T06:51:30.599Z"
   },
   {
    "duration": 1431,
    "start_time": "2023-05-06T06:51:32.339Z"
   },
   {
    "duration": 1748,
    "start_time": "2023-05-06T06:51:33.774Z"
   },
   {
    "duration": 353,
    "start_time": "2023-05-06T06:51:35.524Z"
   },
   {
    "duration": 1040,
    "start_time": "2023-05-06T06:52:04.093Z"
   },
   {
    "duration": 3147,
    "start_time": "2023-05-06T06:53:12.678Z"
   },
   {
    "duration": 1427,
    "start_time": "2023-05-06T06:54:32.465Z"
   },
   {
    "duration": 1161,
    "start_time": "2023-05-06T06:54:33.895Z"
   },
   {
    "duration": 6,
    "start_time": "2023-05-06T06:54:35.057Z"
   },
   {
    "duration": 41,
    "start_time": "2023-05-06T06:54:35.065Z"
   },
   {
    "duration": 21,
    "start_time": "2023-05-06T06:54:35.109Z"
   },
   {
    "duration": 80,
    "start_time": "2023-05-06T06:54:35.132Z"
   },
   {
    "duration": 35,
    "start_time": "2023-05-06T06:54:35.215Z"
   },
   {
    "duration": 32,
    "start_time": "2023-05-06T06:54:35.260Z"
   },
   {
    "duration": 10,
    "start_time": "2023-05-06T06:54:35.294Z"
   },
   {
    "duration": 23,
    "start_time": "2023-05-06T06:54:35.306Z"
   },
   {
    "duration": 66,
    "start_time": "2023-05-06T06:54:35.331Z"
   },
   {
    "duration": 21,
    "start_time": "2023-05-06T06:54:35.399Z"
   },
   {
    "duration": 75,
    "start_time": "2023-05-06T06:54:35.422Z"
   },
   {
    "duration": 77,
    "start_time": "2023-05-06T06:54:35.501Z"
   },
   {
    "duration": 0,
    "start_time": "2023-05-06T06:54:35.580Z"
   },
   {
    "duration": 0,
    "start_time": "2023-05-06T06:54:35.582Z"
   },
   {
    "duration": 0,
    "start_time": "2023-05-06T06:54:35.584Z"
   },
   {
    "duration": 0,
    "start_time": "2023-05-06T06:54:35.585Z"
   },
   {
    "duration": 0,
    "start_time": "2023-05-06T06:54:35.586Z"
   },
   {
    "duration": 0,
    "start_time": "2023-05-06T06:54:35.587Z"
   },
   {
    "duration": 0,
    "start_time": "2023-05-06T06:54:35.589Z"
   },
   {
    "duration": 0,
    "start_time": "2023-05-06T06:54:35.590Z"
   },
   {
    "duration": 0,
    "start_time": "2023-05-06T06:54:35.592Z"
   },
   {
    "duration": 0,
    "start_time": "2023-05-06T06:54:35.594Z"
   },
   {
    "duration": 0,
    "start_time": "2023-05-06T06:54:35.596Z"
   },
   {
    "duration": 0,
    "start_time": "2023-05-06T06:54:35.598Z"
   },
   {
    "duration": 151,
    "start_time": "2023-05-06T06:55:16.424Z"
   },
   {
    "duration": 20,
    "start_time": "2023-05-06T06:55:43.337Z"
   },
   {
    "duration": 47,
    "start_time": "2023-05-06T06:56:48.428Z"
   },
   {
    "duration": 54,
    "start_time": "2023-05-06T06:56:50.513Z"
   },
   {
    "duration": 224,
    "start_time": "2023-05-06T06:56:51.976Z"
   },
   {
    "duration": 196,
    "start_time": "2023-05-06T06:56:53.122Z"
   },
   {
    "duration": 12,
    "start_time": "2023-05-06T06:56:53.902Z"
   },
   {
    "duration": 17,
    "start_time": "2023-05-06T06:56:54.179Z"
   },
   {
    "duration": 15,
    "start_time": "2023-05-06T06:56:54.400Z"
   },
   {
    "duration": 612,
    "start_time": "2023-05-06T06:56:56.389Z"
   },
   {
    "duration": 1677,
    "start_time": "2023-05-06T06:57:01.304Z"
   },
   {
    "duration": 1340,
    "start_time": "2023-05-06T06:57:10.512Z"
   },
   {
    "duration": 4,
    "start_time": "2023-05-06T06:57:55.564Z"
   },
   {
    "duration": 1602,
    "start_time": "2023-05-06T06:57:59.552Z"
   },
   {
    "duration": 862,
    "start_time": "2023-05-06T06:58:34.184Z"
   },
   {
    "duration": 864,
    "start_time": "2023-05-06T06:58:48.346Z"
   },
   {
    "duration": 935,
    "start_time": "2023-05-06T06:58:56.512Z"
   },
   {
    "duration": 381,
    "start_time": "2023-05-06T07:04:05.250Z"
   },
   {
    "duration": 1017,
    "start_time": "2023-05-06T07:04:59.980Z"
   },
   {
    "duration": 808,
    "start_time": "2023-05-06T07:06:30.374Z"
   },
   {
    "duration": 1215,
    "start_time": "2023-05-06T07:06:52.249Z"
   },
   {
    "duration": 1563,
    "start_time": "2023-05-06T07:07:10.632Z"
   },
   {
    "duration": 1282,
    "start_time": "2023-05-06T07:07:23.390Z"
   },
   {
    "duration": 567,
    "start_time": "2023-05-06T07:07:43.463Z"
   },
   {
    "duration": 761,
    "start_time": "2023-05-06T07:09:04.719Z"
   },
   {
    "duration": 1243,
    "start_time": "2023-05-06T07:09:14.981Z"
   },
   {
    "duration": 1207,
    "start_time": "2023-05-06T07:10:22.118Z"
   },
   {
    "duration": 1843,
    "start_time": "2023-05-06T07:11:06.900Z"
   },
   {
    "duration": 251,
    "start_time": "2023-05-06T07:12:20.046Z"
   },
   {
    "duration": 1971,
    "start_time": "2023-05-06T07:12:30.087Z"
   },
   {
    "duration": 1966,
    "start_time": "2023-05-06T07:12:35.823Z"
   },
   {
    "duration": 1869,
    "start_time": "2023-05-06T07:12:50.270Z"
   },
   {
    "duration": 112,
    "start_time": "2023-05-06T07:13:15.354Z"
   },
   {
    "duration": 244,
    "start_time": "2023-05-06T07:13:20.900Z"
   },
   {
    "duration": 1914,
    "start_time": "2023-05-06T07:13:41.855Z"
   },
   {
    "duration": 1895,
    "start_time": "2023-05-06T07:14:01.864Z"
   },
   {
    "duration": 1672,
    "start_time": "2023-05-06T07:14:11.968Z"
   },
   {
    "duration": 1846,
    "start_time": "2023-05-06T07:14:17.914Z"
   },
   {
    "duration": 2118,
    "start_time": "2023-05-06T07:14:54.039Z"
   },
   {
    "duration": 1962,
    "start_time": "2023-05-06T07:15:09.299Z"
   },
   {
    "duration": 238,
    "start_time": "2023-05-06T07:15:58.853Z"
   },
   {
    "duration": 1928,
    "start_time": "2023-05-06T07:16:20.313Z"
   },
   {
    "duration": 2001,
    "start_time": "2023-05-06T07:16:40.568Z"
   },
   {
    "duration": 522,
    "start_time": "2023-05-06T07:19:21.049Z"
   },
   {
    "duration": 2986,
    "start_time": "2023-05-06T07:19:21.977Z"
   },
   {
    "duration": 1887,
    "start_time": "2023-05-06T07:19:24.967Z"
   },
   {
    "duration": 1996,
    "start_time": "2023-05-06T07:26:57.601Z"
   },
   {
    "duration": 2265,
    "start_time": "2023-05-06T07:27:38.858Z"
   },
   {
    "duration": 1505,
    "start_time": "2023-05-06T07:31:50.780Z"
   },
   {
    "duration": 1324,
    "start_time": "2023-05-06T07:31:52.288Z"
   },
   {
    "duration": 4,
    "start_time": "2023-05-06T07:31:53.613Z"
   },
   {
    "duration": 20,
    "start_time": "2023-05-06T07:31:53.619Z"
   },
   {
    "duration": 37,
    "start_time": "2023-05-06T07:31:53.645Z"
   },
   {
    "duration": 24,
    "start_time": "2023-05-06T07:31:53.684Z"
   },
   {
    "duration": 19,
    "start_time": "2023-05-06T07:31:53.709Z"
   },
   {
    "duration": 17,
    "start_time": "2023-05-06T07:31:53.730Z"
   },
   {
    "duration": 50,
    "start_time": "2023-05-06T07:31:53.749Z"
   },
   {
    "duration": 7,
    "start_time": "2023-05-06T07:31:53.801Z"
   },
   {
    "duration": 9,
    "start_time": "2023-05-06T07:31:53.809Z"
   },
   {
    "duration": 26,
    "start_time": "2023-05-06T07:31:53.820Z"
   },
   {
    "duration": 41,
    "start_time": "2023-05-06T07:31:53.849Z"
   },
   {
    "duration": 56,
    "start_time": "2023-05-06T07:31:53.893Z"
   },
   {
    "duration": 261,
    "start_time": "2023-05-06T07:31:53.952Z"
   },
   {
    "duration": 207,
    "start_time": "2023-05-06T07:31:54.216Z"
   },
   {
    "duration": 19,
    "start_time": "2023-05-06T07:31:54.437Z"
   },
   {
    "duration": 30,
    "start_time": "2023-05-06T07:31:54.463Z"
   },
   {
    "duration": 17,
    "start_time": "2023-05-06T07:31:54.495Z"
   },
   {
    "duration": 584,
    "start_time": "2023-05-06T07:31:54.514Z"
   },
   {
    "duration": 1800,
    "start_time": "2023-05-06T07:31:55.101Z"
   },
   {
    "duration": 2005,
    "start_time": "2023-05-06T07:31:56.904Z"
   },
   {
    "duration": 58,
    "start_time": "2023-05-06T07:31:58.911Z"
   },
   {
    "duration": 2091,
    "start_time": "2023-05-06T07:31:58.971Z"
   },
   {
    "duration": 1926,
    "start_time": "2023-05-06T07:32:01.068Z"
   },
   {
    "duration": 210,
    "start_time": "2023-05-06T07:32:02.997Z"
   },
   {
    "duration": 147,
    "start_time": "2023-05-06T07:34:28.851Z"
   },
   {
    "duration": 1925,
    "start_time": "2023-05-06T07:34:51.664Z"
   },
   {
    "duration": 1458,
    "start_time": "2023-05-06T07:34:58.763Z"
   },
   {
    "duration": 1369,
    "start_time": "2023-05-06T07:35:00.223Z"
   },
   {
    "duration": 4,
    "start_time": "2023-05-06T07:35:01.594Z"
   },
   {
    "duration": 99,
    "start_time": "2023-05-06T07:35:01.600Z"
   },
   {
    "duration": 19,
    "start_time": "2023-05-06T07:35:01.703Z"
   },
   {
    "duration": 43,
    "start_time": "2023-05-06T07:35:01.724Z"
   },
   {
    "duration": 61,
    "start_time": "2023-05-06T07:35:01.771Z"
   },
   {
    "duration": 70,
    "start_time": "2023-05-06T07:35:01.834Z"
   },
   {
    "duration": 81,
    "start_time": "2023-05-06T07:35:01.906Z"
   },
   {
    "duration": 32,
    "start_time": "2023-05-06T07:35:01.989Z"
   },
   {
    "duration": 60,
    "start_time": "2023-05-06T07:35:02.023Z"
   },
   {
    "duration": 32,
    "start_time": "2023-05-06T07:35:02.086Z"
   },
   {
    "duration": 73,
    "start_time": "2023-05-06T07:35:02.120Z"
   },
   {
    "duration": 77,
    "start_time": "2023-05-06T07:35:02.196Z"
   },
   {
    "duration": 240,
    "start_time": "2023-05-06T07:35:02.275Z"
   },
   {
    "duration": 204,
    "start_time": "2023-05-06T07:35:02.517Z"
   },
   {
    "duration": 15,
    "start_time": "2023-05-06T07:35:02.723Z"
   },
   {
    "duration": 59,
    "start_time": "2023-05-06T07:35:02.740Z"
   },
   {
    "duration": 22,
    "start_time": "2023-05-06T07:35:02.800Z"
   },
   {
    "duration": 674,
    "start_time": "2023-05-06T07:35:02.824Z"
   },
   {
    "duration": 1687,
    "start_time": "2023-05-06T07:35:03.500Z"
   },
   {
    "duration": 2049,
    "start_time": "2023-05-06T07:35:05.189Z"
   },
   {
    "duration": 3147,
    "start_time": "2023-05-06T07:35:07.246Z"
   },
   {
    "duration": 0,
    "start_time": "2023-05-06T07:35:10.395Z"
   },
   {
    "duration": 0,
    "start_time": "2023-05-06T07:35:10.397Z"
   },
   {
    "duration": 0,
    "start_time": "2023-05-06T07:35:10.399Z"
   },
   {
    "duration": 0,
    "start_time": "2023-05-06T07:35:10.401Z"
   },
   {
    "duration": 602,
    "start_time": "2023-05-06T07:35:45.361Z"
   },
   {
    "duration": 1485,
    "start_time": "2023-05-06T07:36:08.586Z"
   },
   {
    "duration": 1406,
    "start_time": "2023-05-06T07:36:10.074Z"
   },
   {
    "duration": 7,
    "start_time": "2023-05-06T07:36:11.482Z"
   },
   {
    "duration": 26,
    "start_time": "2023-05-06T07:36:11.491Z"
   },
   {
    "duration": 43,
    "start_time": "2023-05-06T07:36:11.519Z"
   },
   {
    "duration": 23,
    "start_time": "2023-05-06T07:36:11.575Z"
   },
   {
    "duration": 25,
    "start_time": "2023-05-06T07:36:11.600Z"
   },
   {
    "duration": 19,
    "start_time": "2023-05-06T07:36:11.627Z"
   },
   {
    "duration": 30,
    "start_time": "2023-05-06T07:36:11.651Z"
   },
   {
    "duration": 8,
    "start_time": "2023-05-06T07:36:11.685Z"
   },
   {
    "duration": 18,
    "start_time": "2023-05-06T07:36:11.695Z"
   },
   {
    "duration": 14,
    "start_time": "2023-05-06T07:36:11.715Z"
   },
   {
    "duration": 17,
    "start_time": "2023-05-06T07:36:11.731Z"
   },
   {
    "duration": 71,
    "start_time": "2023-05-06T07:36:11.750Z"
   },
   {
    "duration": 249,
    "start_time": "2023-05-06T07:36:11.823Z"
   },
   {
    "duration": 210,
    "start_time": "2023-05-06T07:36:12.073Z"
   },
   {
    "duration": 10,
    "start_time": "2023-05-06T07:36:12.285Z"
   },
   {
    "duration": 14,
    "start_time": "2023-05-06T07:36:12.296Z"
   },
   {
    "duration": 57,
    "start_time": "2023-05-06T07:36:12.311Z"
   },
   {
    "duration": 633,
    "start_time": "2023-05-06T07:36:12.370Z"
   },
   {
    "duration": 1844,
    "start_time": "2023-05-06T07:36:13.005Z"
   },
   {
    "duration": 2018,
    "start_time": "2023-05-06T07:36:14.852Z"
   },
   {
    "duration": 619,
    "start_time": "2023-05-06T07:36:16.878Z"
   },
   {
    "duration": 1942,
    "start_time": "2023-05-06T07:36:17.499Z"
   },
   {
    "duration": 0,
    "start_time": "2023-05-06T07:36:19.446Z"
   },
   {
    "duration": 0,
    "start_time": "2023-05-06T07:36:19.448Z"
   },
   {
    "duration": 0,
    "start_time": "2023-05-06T07:36:19.452Z"
   },
   {
    "duration": 1427,
    "start_time": "2023-05-06T07:37:31.634Z"
   },
   {
    "duration": 1047,
    "start_time": "2023-05-06T07:37:33.070Z"
   },
   {
    "duration": 5,
    "start_time": "2023-05-06T07:37:34.119Z"
   },
   {
    "duration": 81,
    "start_time": "2023-05-06T07:37:34.127Z"
   },
   {
    "duration": 66,
    "start_time": "2023-05-06T07:37:34.210Z"
   },
   {
    "duration": 28,
    "start_time": "2023-05-06T07:37:34.278Z"
   },
   {
    "duration": 21,
    "start_time": "2023-05-06T07:37:34.308Z"
   },
   {
    "duration": 41,
    "start_time": "2023-05-06T07:37:34.332Z"
   },
   {
    "duration": 17,
    "start_time": "2023-05-06T07:37:34.375Z"
   },
   {
    "duration": 16,
    "start_time": "2023-05-06T07:37:34.396Z"
   },
   {
    "duration": 60,
    "start_time": "2023-05-06T07:37:34.413Z"
   },
   {
    "duration": 27,
    "start_time": "2023-05-06T07:37:34.475Z"
   },
   {
    "duration": 17,
    "start_time": "2023-05-06T07:37:34.505Z"
   },
   {
    "duration": 121,
    "start_time": "2023-05-06T07:37:34.524Z"
   },
   {
    "duration": 243,
    "start_time": "2023-05-06T07:37:34.649Z"
   },
   {
    "duration": 223,
    "start_time": "2023-05-06T07:37:34.894Z"
   },
   {
    "duration": 23,
    "start_time": "2023-05-06T07:37:35.119Z"
   },
   {
    "duration": 43,
    "start_time": "2023-05-06T07:37:35.144Z"
   },
   {
    "duration": 24,
    "start_time": "2023-05-06T07:37:35.189Z"
   },
   {
    "duration": 597,
    "start_time": "2023-05-06T07:37:35.216Z"
   },
   {
    "duration": 1799,
    "start_time": "2023-05-06T07:37:35.816Z"
   },
   {
    "duration": 2009,
    "start_time": "2023-05-06T07:37:37.617Z"
   },
   {
    "duration": 50,
    "start_time": "2023-05-06T07:37:39.636Z"
   },
   {
    "duration": 64,
    "start_time": "2023-05-06T07:37:39.688Z"
   },
   {
    "duration": 3110,
    "start_time": "2023-05-06T07:37:39.768Z"
   },
   {
    "duration": 2866,
    "start_time": "2023-05-06T07:37:42.881Z"
   },
   {
    "duration": 188,
    "start_time": "2023-05-06T07:37:45.750Z"
   },
   {
    "duration": 65,
    "start_time": "2023-05-06T07:38:22.275Z"
   },
   {
    "duration": 198,
    "start_time": "2023-05-06T07:38:43.081Z"
   },
   {
    "duration": 53,
    "start_time": "2023-05-06T07:38:47.287Z"
   },
   {
    "duration": 64,
    "start_time": "2023-05-06T07:38:57.049Z"
   },
   {
    "duration": 1358,
    "start_time": "2023-05-06T07:39:27.762Z"
   },
   {
    "duration": 1185,
    "start_time": "2023-05-06T07:39:29.122Z"
   },
   {
    "duration": 3,
    "start_time": "2023-05-06T07:39:30.309Z"
   },
   {
    "duration": 96,
    "start_time": "2023-05-06T07:39:30.314Z"
   },
   {
    "duration": 56,
    "start_time": "2023-05-06T07:39:30.413Z"
   },
   {
    "duration": 39,
    "start_time": "2023-05-06T07:39:30.471Z"
   },
   {
    "duration": 76,
    "start_time": "2023-05-06T07:39:30.512Z"
   },
   {
    "duration": 38,
    "start_time": "2023-05-06T07:39:30.591Z"
   },
   {
    "duration": 63,
    "start_time": "2023-05-06T07:39:30.631Z"
   },
   {
    "duration": 89,
    "start_time": "2023-05-06T07:39:30.696Z"
   },
   {
    "duration": 96,
    "start_time": "2023-05-06T07:39:30.787Z"
   },
   {
    "duration": 31,
    "start_time": "2023-05-06T07:39:30.885Z"
   },
   {
    "duration": 72,
    "start_time": "2023-05-06T07:39:30.918Z"
   },
   {
    "duration": 116,
    "start_time": "2023-05-06T07:39:30.994Z"
   },
   {
    "duration": 256,
    "start_time": "2023-05-06T07:39:31.112Z"
   },
   {
    "duration": 224,
    "start_time": "2023-05-06T07:39:31.373Z"
   },
   {
    "duration": 11,
    "start_time": "2023-05-06T07:39:31.599Z"
   },
   {
    "duration": 30,
    "start_time": "2023-05-06T07:39:31.612Z"
   },
   {
    "duration": 41,
    "start_time": "2023-05-06T07:39:31.645Z"
   },
   {
    "duration": 621,
    "start_time": "2023-05-06T07:39:31.688Z"
   },
   {
    "duration": 1687,
    "start_time": "2023-05-06T07:39:32.312Z"
   },
   {
    "duration": 1925,
    "start_time": "2023-05-06T07:39:34.000Z"
   },
   {
    "duration": 62,
    "start_time": "2023-05-06T07:39:35.928Z"
   },
   {
    "duration": 77,
    "start_time": "2023-05-06T07:39:35.992Z"
   },
   {
    "duration": 3019,
    "start_time": "2023-05-06T07:39:36.075Z"
   },
   {
    "duration": 2615,
    "start_time": "2023-05-06T07:39:39.095Z"
   },
   {
    "duration": 192,
    "start_time": "2023-05-06T07:39:41.712Z"
   },
   {
    "duration": 1545,
    "start_time": "2023-05-06T07:40:02.271Z"
   },
   {
    "duration": 1080,
    "start_time": "2023-05-06T07:40:03.819Z"
   },
   {
    "duration": 4,
    "start_time": "2023-05-06T07:40:04.900Z"
   },
   {
    "duration": 36,
    "start_time": "2023-05-06T07:40:04.907Z"
   },
   {
    "duration": 37,
    "start_time": "2023-05-06T07:40:04.945Z"
   },
   {
    "duration": 32,
    "start_time": "2023-05-06T07:40:04.984Z"
   },
   {
    "duration": 26,
    "start_time": "2023-05-06T07:40:05.019Z"
   },
   {
    "duration": 61,
    "start_time": "2023-05-06T07:40:05.047Z"
   },
   {
    "duration": 5,
    "start_time": "2023-05-06T07:40:05.110Z"
   },
   {
    "duration": 7,
    "start_time": "2023-05-06T07:40:05.120Z"
   },
   {
    "duration": 67,
    "start_time": "2023-05-06T07:40:05.130Z"
   },
   {
    "duration": 25,
    "start_time": "2023-05-06T07:40:05.199Z"
   },
   {
    "duration": 54,
    "start_time": "2023-05-06T07:40:05.226Z"
   },
   {
    "duration": 42,
    "start_time": "2023-05-06T07:40:05.282Z"
   },
   {
    "duration": 252,
    "start_time": "2023-05-06T07:40:05.326Z"
   },
   {
    "duration": 208,
    "start_time": "2023-05-06T07:40:05.579Z"
   },
   {
    "duration": 12,
    "start_time": "2023-05-06T07:40:05.789Z"
   },
   {
    "duration": 30,
    "start_time": "2023-05-06T07:40:05.803Z"
   },
   {
    "duration": 19,
    "start_time": "2023-05-06T07:40:05.835Z"
   },
   {
    "duration": 610,
    "start_time": "2023-05-06T07:40:05.856Z"
   },
   {
    "duration": 1775,
    "start_time": "2023-05-06T07:40:06.468Z"
   },
   {
    "duration": 1977,
    "start_time": "2023-05-06T07:40:08.245Z"
   },
   {
    "duration": 53,
    "start_time": "2023-05-06T07:40:10.224Z"
   },
   {
    "duration": 62,
    "start_time": "2023-05-06T07:40:10.280Z"
   },
   {
    "duration": 3138,
    "start_time": "2023-05-06T07:40:10.344Z"
   },
   {
    "duration": 2944,
    "start_time": "2023-05-06T07:40:13.485Z"
   },
   {
    "duration": 183,
    "start_time": "2023-05-06T07:40:16.431Z"
   },
   {
    "duration": 1530,
    "start_time": "2023-05-06T07:40:52.555Z"
   },
   {
    "duration": 1133,
    "start_time": "2023-05-06T07:40:54.088Z"
   },
   {
    "duration": 4,
    "start_time": "2023-05-06T07:40:55.223Z"
   },
   {
    "duration": 56,
    "start_time": "2023-05-06T07:40:55.229Z"
   },
   {
    "duration": 8,
    "start_time": "2023-05-06T07:40:55.287Z"
   },
   {
    "duration": 22,
    "start_time": "2023-05-06T07:40:55.297Z"
   },
   {
    "duration": 26,
    "start_time": "2023-05-06T07:40:55.322Z"
   },
   {
    "duration": 32,
    "start_time": "2023-05-06T07:40:55.350Z"
   },
   {
    "duration": 7,
    "start_time": "2023-05-06T07:40:55.384Z"
   },
   {
    "duration": 17,
    "start_time": "2023-05-06T07:40:55.392Z"
   },
   {
    "duration": 12,
    "start_time": "2023-05-06T07:40:55.411Z"
   },
   {
    "duration": 17,
    "start_time": "2023-05-06T07:40:55.424Z"
   },
   {
    "duration": 46,
    "start_time": "2023-05-06T07:40:55.443Z"
   },
   {
    "duration": 48,
    "start_time": "2023-05-06T07:40:55.493Z"
   },
   {
    "duration": 234,
    "start_time": "2023-05-06T07:40:55.542Z"
   },
   {
    "duration": 222,
    "start_time": "2023-05-06T07:40:55.778Z"
   },
   {
    "duration": 12,
    "start_time": "2023-05-06T07:40:56.003Z"
   },
   {
    "duration": 33,
    "start_time": "2023-05-06T07:40:56.018Z"
   },
   {
    "duration": 58,
    "start_time": "2023-05-06T07:40:56.054Z"
   },
   {
    "duration": 588,
    "start_time": "2023-05-06T07:40:56.114Z"
   },
   {
    "duration": 1882,
    "start_time": "2023-05-06T07:40:56.704Z"
   },
   {
    "duration": 1992,
    "start_time": "2023-05-06T07:40:58.588Z"
   },
   {
    "duration": 36,
    "start_time": "2023-05-06T07:41:00.582Z"
   },
   {
    "duration": 85,
    "start_time": "2023-05-06T07:41:00.620Z"
   },
   {
    "duration": 2970,
    "start_time": "2023-05-06T07:41:00.708Z"
   },
   {
    "duration": 2640,
    "start_time": "2023-05-06T07:41:03.680Z"
   },
   {
    "duration": 201,
    "start_time": "2023-05-06T07:41:06.322Z"
   },
   {
    "duration": 1426,
    "start_time": "2023-05-06T07:42:41.089Z"
   },
   {
    "duration": 1615,
    "start_time": "2023-05-06T07:42:42.517Z"
   },
   {
    "duration": 14,
    "start_time": "2023-05-06T07:42:44.136Z"
   },
   {
    "duration": 48,
    "start_time": "2023-05-06T07:42:44.156Z"
   },
   {
    "duration": 8,
    "start_time": "2023-05-06T07:42:44.206Z"
   },
   {
    "duration": 31,
    "start_time": "2023-05-06T07:42:44.216Z"
   },
   {
    "duration": 54,
    "start_time": "2023-05-06T07:42:44.255Z"
   },
   {
    "duration": 19,
    "start_time": "2023-05-06T07:42:44.312Z"
   },
   {
    "duration": 19,
    "start_time": "2023-05-06T07:42:44.333Z"
   },
   {
    "duration": 35,
    "start_time": "2023-05-06T07:42:44.359Z"
   },
   {
    "duration": 13,
    "start_time": "2023-05-06T07:42:44.397Z"
   },
   {
    "duration": 15,
    "start_time": "2023-05-06T07:42:44.412Z"
   },
   {
    "duration": 22,
    "start_time": "2023-05-06T07:42:44.430Z"
   },
   {
    "duration": 74,
    "start_time": "2023-05-06T07:42:44.455Z"
   },
   {
    "duration": 259,
    "start_time": "2023-05-06T07:42:44.530Z"
   },
   {
    "duration": 212,
    "start_time": "2023-05-06T07:42:44.791Z"
   },
   {
    "duration": 10,
    "start_time": "2023-05-06T07:42:45.005Z"
   },
   {
    "duration": 88,
    "start_time": "2023-05-06T07:42:45.019Z"
   },
   {
    "duration": 18,
    "start_time": "2023-05-06T07:42:45.109Z"
   },
   {
    "duration": 622,
    "start_time": "2023-05-06T07:42:45.129Z"
   },
   {
    "duration": 2043,
    "start_time": "2023-05-06T07:42:45.753Z"
   },
   {
    "duration": 1998,
    "start_time": "2023-05-06T07:42:47.798Z"
   },
   {
    "duration": 44,
    "start_time": "2023-05-06T07:42:49.798Z"
   },
   {
    "duration": 52,
    "start_time": "2023-05-06T07:42:49.845Z"
   },
   {
    "duration": 66,
    "start_time": "2023-05-06T07:42:49.900Z"
   },
   {
    "duration": 4178,
    "start_time": "2023-05-06T07:42:49.968Z"
   },
   {
    "duration": 3753,
    "start_time": "2023-05-06T07:42:54.147Z"
   },
   {
    "duration": 209,
    "start_time": "2023-05-06T07:42:57.903Z"
   },
   {
    "duration": 52,
    "start_time": "2023-05-06T07:43:30.821Z"
   },
   {
    "duration": 1550,
    "start_time": "2023-05-06T07:43:39.162Z"
   },
   {
    "duration": 1384,
    "start_time": "2023-05-06T07:43:40.714Z"
   },
   {
    "duration": 4,
    "start_time": "2023-05-06T07:43:42.101Z"
   },
   {
    "duration": 20,
    "start_time": "2023-05-06T07:43:42.107Z"
   },
   {
    "duration": 20,
    "start_time": "2023-05-06T07:43:42.129Z"
   },
   {
    "duration": 49,
    "start_time": "2023-05-06T07:43:42.151Z"
   },
   {
    "duration": 20,
    "start_time": "2023-05-06T07:43:42.202Z"
   },
   {
    "duration": 24,
    "start_time": "2023-05-06T07:43:42.223Z"
   },
   {
    "duration": 7,
    "start_time": "2023-05-06T07:43:42.249Z"
   },
   {
    "duration": 32,
    "start_time": "2023-05-06T07:43:42.258Z"
   },
   {
    "duration": 10,
    "start_time": "2023-05-06T07:43:42.292Z"
   },
   {
    "duration": 10,
    "start_time": "2023-05-06T07:43:42.304Z"
   },
   {
    "duration": 11,
    "start_time": "2023-05-06T07:43:42.316Z"
   },
   {
    "duration": 67,
    "start_time": "2023-05-06T07:43:42.331Z"
   },
   {
    "duration": 230,
    "start_time": "2023-05-06T07:43:42.400Z"
   },
   {
    "duration": 228,
    "start_time": "2023-05-06T07:43:42.632Z"
   },
   {
    "duration": 12,
    "start_time": "2023-05-06T07:43:42.865Z"
   },
   {
    "duration": 24,
    "start_time": "2023-05-06T07:43:42.879Z"
   },
   {
    "duration": 17,
    "start_time": "2023-05-06T07:43:42.905Z"
   },
   {
    "duration": 607,
    "start_time": "2023-05-06T07:43:42.925Z"
   },
   {
    "duration": 1768,
    "start_time": "2023-05-06T07:43:43.534Z"
   },
   {
    "duration": 2206,
    "start_time": "2023-05-06T07:43:45.304Z"
   },
   {
    "duration": 37,
    "start_time": "2023-05-06T07:43:47.513Z"
   },
   {
    "duration": 54,
    "start_time": "2023-05-06T07:43:47.552Z"
   },
   {
    "duration": 45,
    "start_time": "2023-05-06T07:43:47.608Z"
   },
   {
    "duration": 3230,
    "start_time": "2023-05-06T07:43:47.660Z"
   },
   {
    "duration": 2774,
    "start_time": "2023-05-06T07:43:50.892Z"
   },
   {
    "duration": 191,
    "start_time": "2023-05-06T07:43:53.669Z"
   },
   {
    "duration": 3308,
    "start_time": "2023-05-06T07:44:06.806Z"
   },
   {
    "duration": 1614,
    "start_time": "2023-05-06T07:44:19.011Z"
   },
   {
    "duration": 1385,
    "start_time": "2023-05-06T07:44:20.627Z"
   },
   {
    "duration": 5,
    "start_time": "2023-05-06T07:44:22.014Z"
   },
   {
    "duration": 67,
    "start_time": "2023-05-06T07:44:22.021Z"
   },
   {
    "duration": 20,
    "start_time": "2023-05-06T07:44:22.090Z"
   },
   {
    "duration": 33,
    "start_time": "2023-05-06T07:44:22.112Z"
   },
   {
    "duration": 41,
    "start_time": "2023-05-06T07:44:22.147Z"
   },
   {
    "duration": 18,
    "start_time": "2023-05-06T07:44:22.190Z"
   },
   {
    "duration": 7,
    "start_time": "2023-05-06T07:44:22.211Z"
   },
   {
    "duration": 9,
    "start_time": "2023-05-06T07:44:22.244Z"
   },
   {
    "duration": 42,
    "start_time": "2023-05-06T07:44:22.255Z"
   },
   {
    "duration": 13,
    "start_time": "2023-05-06T07:44:22.299Z"
   },
   {
    "duration": 25,
    "start_time": "2023-05-06T07:44:22.314Z"
   },
   {
    "duration": 93,
    "start_time": "2023-05-06T07:44:22.342Z"
   },
   {
    "duration": 281,
    "start_time": "2023-05-06T07:44:22.438Z"
   },
   {
    "duration": 295,
    "start_time": "2023-05-06T07:44:22.722Z"
   },
   {
    "duration": 34,
    "start_time": "2023-05-06T07:44:23.020Z"
   },
   {
    "duration": 25,
    "start_time": "2023-05-06T07:44:23.057Z"
   },
   {
    "duration": 20,
    "start_time": "2023-05-06T07:44:23.089Z"
   },
   {
    "duration": 661,
    "start_time": "2023-05-06T07:44:23.111Z"
   },
   {
    "duration": 1970,
    "start_time": "2023-05-06T07:44:23.782Z"
   },
   {
    "duration": 2463,
    "start_time": "2023-05-06T07:44:25.762Z"
   },
   {
    "duration": 45,
    "start_time": "2023-05-06T07:44:28.228Z"
   },
   {
    "duration": 54,
    "start_time": "2023-05-06T07:44:28.276Z"
   },
   {
    "duration": 2438,
    "start_time": "2023-05-06T07:44:28.332Z"
   },
   {
    "duration": 1921,
    "start_time": "2023-05-06T07:44:30.773Z"
   },
   {
    "duration": 178,
    "start_time": "2023-05-06T07:44:32.697Z"
   },
   {
    "duration": 31,
    "start_time": "2023-05-06T07:44:40.087Z"
   },
   {
    "duration": 54,
    "start_time": "2023-05-06T07:44:42.004Z"
   },
   {
    "duration": 1400,
    "start_time": "2023-05-06T07:44:52.582Z"
   },
   {
    "duration": 1151,
    "start_time": "2023-05-06T07:44:53.985Z"
   },
   {
    "duration": 9,
    "start_time": "2023-05-06T07:44:55.138Z"
   },
   {
    "duration": 61,
    "start_time": "2023-05-06T07:44:55.151Z"
   },
   {
    "duration": 9,
    "start_time": "2023-05-06T07:44:55.214Z"
   },
   {
    "duration": 32,
    "start_time": "2023-05-06T07:44:55.225Z"
   },
   {
    "duration": 51,
    "start_time": "2023-05-06T07:44:55.259Z"
   },
   {
    "duration": 10,
    "start_time": "2023-05-06T07:44:55.312Z"
   },
   {
    "duration": 5,
    "start_time": "2023-05-06T07:44:55.324Z"
   },
   {
    "duration": 40,
    "start_time": "2023-05-06T07:44:55.330Z"
   },
   {
    "duration": 20,
    "start_time": "2023-05-06T07:44:55.372Z"
   },
   {
    "duration": 22,
    "start_time": "2023-05-06T07:44:55.394Z"
   },
   {
    "duration": 13,
    "start_time": "2023-05-06T07:44:55.418Z"
   },
   {
    "duration": 87,
    "start_time": "2023-05-06T07:44:55.435Z"
   },
   {
    "duration": 248,
    "start_time": "2023-05-06T07:44:55.524Z"
   },
   {
    "duration": 241,
    "start_time": "2023-05-06T07:44:55.775Z"
   },
   {
    "duration": 19,
    "start_time": "2023-05-06T07:44:56.018Z"
   },
   {
    "duration": 54,
    "start_time": "2023-05-06T07:44:56.041Z"
   },
   {
    "duration": 16,
    "start_time": "2023-05-06T07:44:56.097Z"
   },
   {
    "duration": 692,
    "start_time": "2023-05-06T07:44:56.115Z"
   },
   {
    "duration": 1797,
    "start_time": "2023-05-06T07:44:56.810Z"
   },
   {
    "duration": 2070,
    "start_time": "2023-05-06T07:44:58.609Z"
   },
   {
    "duration": 17,
    "start_time": "2023-05-06T07:45:00.685Z"
   },
   {
    "duration": 85,
    "start_time": "2023-05-06T07:45:00.704Z"
   },
   {
    "duration": 2291,
    "start_time": "2023-05-06T07:45:00.791Z"
   },
   {
    "duration": 1857,
    "start_time": "2023-05-06T07:45:03.084Z"
   },
   {
    "duration": 212,
    "start_time": "2023-05-06T07:45:04.944Z"
   },
   {
    "duration": 2750,
    "start_time": "2023-05-06T07:45:22.694Z"
   },
   {
    "duration": 2112,
    "start_time": "2023-05-06T07:51:48.611Z"
   },
   {
    "duration": 2197,
    "start_time": "2023-05-06T07:51:59.918Z"
   },
   {
    "duration": 394,
    "start_time": "2023-05-06T07:54:33.018Z"
   },
   {
    "duration": 406,
    "start_time": "2023-05-06T07:54:47.501Z"
   },
   {
    "duration": 436,
    "start_time": "2023-05-06T07:54:55.126Z"
   },
   {
    "duration": 2204,
    "start_time": "2023-05-06T07:55:12.569Z"
   },
   {
    "duration": 440,
    "start_time": "2023-05-06T07:55:46.565Z"
   },
   {
    "duration": 436,
    "start_time": "2023-05-06T07:56:11.020Z"
   },
   {
    "duration": 848,
    "start_time": "2023-05-06T08:06:28.474Z"
   },
   {
    "duration": 1005,
    "start_time": "2023-05-06T08:06:41.786Z"
   },
   {
    "duration": 2731,
    "start_time": "2023-05-06T08:08:15.550Z"
   },
   {
    "duration": 3840,
    "start_time": "2023-05-06T08:09:19.400Z"
   },
   {
    "duration": 3837,
    "start_time": "2023-05-06T08:10:09.731Z"
   },
   {
    "duration": 6516,
    "start_time": "2023-05-06T08:10:44.970Z"
   },
   {
    "duration": 6597,
    "start_time": "2023-05-06T08:11:22.417Z"
   },
   {
    "duration": 7466,
    "start_time": "2023-05-06T08:12:16.757Z"
   },
   {
    "duration": 752,
    "start_time": "2023-05-06T08:13:50.614Z"
   },
   {
    "duration": 7534,
    "start_time": "2023-05-06T08:14:51.050Z"
   },
   {
    "duration": 7519,
    "start_time": "2023-05-06T08:15:18.181Z"
   },
   {
    "duration": 7613,
    "start_time": "2023-05-06T08:15:29.092Z"
   },
   {
    "duration": 7793,
    "start_time": "2023-05-06T08:15:43.000Z"
   },
   {
    "duration": 7452,
    "start_time": "2023-05-06T08:16:28.864Z"
   },
   {
    "duration": 6717,
    "start_time": "2023-05-06T08:17:03.886Z"
   },
   {
    "duration": 6798,
    "start_time": "2023-05-06T08:17:54.162Z"
   },
   {
    "duration": 8085,
    "start_time": "2023-05-06T08:18:22.698Z"
   },
   {
    "duration": 374,
    "start_time": "2023-05-06T08:20:16.425Z"
   },
   {
    "duration": 8194,
    "start_time": "2023-05-06T08:21:03.995Z"
   },
   {
    "duration": 364,
    "start_time": "2023-05-06T08:21:41.823Z"
   },
   {
    "duration": 7427,
    "start_time": "2023-05-06T08:21:48.573Z"
   },
   {
    "duration": 73,
    "start_time": "2023-05-06T12:10:29.967Z"
   },
   {
    "duration": 1684,
    "start_time": "2023-05-06T12:12:55.040Z"
   },
   {
    "duration": 1681,
    "start_time": "2023-05-06T12:12:56.728Z"
   },
   {
    "duration": 5,
    "start_time": "2023-05-06T12:12:58.411Z"
   },
   {
    "duration": 20,
    "start_time": "2023-05-06T12:12:58.420Z"
   },
   {
    "duration": 9,
    "start_time": "2023-05-06T12:12:58.442Z"
   },
   {
    "duration": 38,
    "start_time": "2023-05-06T12:12:58.454Z"
   },
   {
    "duration": 19,
    "start_time": "2023-05-06T12:12:58.494Z"
   },
   {
    "duration": 13,
    "start_time": "2023-05-06T12:12:58.515Z"
   },
   {
    "duration": 6,
    "start_time": "2023-05-06T12:12:58.542Z"
   },
   {
    "duration": 15,
    "start_time": "2023-05-06T12:12:58.551Z"
   },
   {
    "duration": 10,
    "start_time": "2023-05-06T12:12:58.568Z"
   },
   {
    "duration": 16,
    "start_time": "2023-05-06T12:12:58.581Z"
   },
   {
    "duration": 13,
    "start_time": "2023-05-06T12:12:58.603Z"
   },
   {
    "duration": 32,
    "start_time": "2023-05-06T12:12:58.618Z"
   },
   {
    "duration": 47,
    "start_time": "2023-05-06T12:12:58.652Z"
   },
   {
    "duration": 238,
    "start_time": "2023-05-06T12:12:58.703Z"
   },
   {
    "duration": 200,
    "start_time": "2023-05-06T12:12:58.945Z"
   },
   {
    "duration": 10,
    "start_time": "2023-05-06T12:12:59.147Z"
   },
   {
    "duration": 18,
    "start_time": "2023-05-06T12:12:59.159Z"
   },
   {
    "duration": 20,
    "start_time": "2023-05-06T12:12:59.180Z"
   },
   {
    "duration": 502,
    "start_time": "2023-05-06T12:12:59.204Z"
   },
   {
    "duration": 1669,
    "start_time": "2023-05-06T12:12:59.708Z"
   },
   {
    "duration": 1681,
    "start_time": "2023-05-06T12:13:01.380Z"
   },
   {
    "duration": 7448,
    "start_time": "2023-05-06T12:13:03.063Z"
   },
   {
    "duration": 15,
    "start_time": "2023-05-06T12:13:10.513Z"
   },
   {
    "duration": 27,
    "start_time": "2023-05-06T12:13:10.541Z"
   },
   {
    "duration": 1885,
    "start_time": "2023-05-06T12:13:10.570Z"
   },
   {
    "duration": 357,
    "start_time": "2023-05-06T12:13:12.458Z"
   },
   {
    "duration": 237,
    "start_time": "2023-05-06T13:15:41.670Z"
   },
   {
    "duration": 5,
    "start_time": "2023-05-06T13:16:54.832Z"
   },
   {
    "duration": 127,
    "start_time": "2023-05-06T13:18:13.347Z"
   },
   {
    "duration": 5,
    "start_time": "2023-05-06T13:19:08.441Z"
   },
   {
    "duration": 26,
    "start_time": "2023-05-06T13:19:21.454Z"
   },
   {
    "duration": 5,
    "start_time": "2023-05-06T13:20:15.247Z"
   },
   {
    "duration": 5,
    "start_time": "2023-05-06T13:20:43.886Z"
   },
   {
    "duration": 6997,
    "start_time": "2023-05-06T13:21:12.197Z"
   },
   {
    "duration": 272,
    "start_time": "2023-05-06T13:23:42.348Z"
   },
   {
    "duration": 280,
    "start_time": "2023-05-06T13:23:50.837Z"
   },
   {
    "duration": 246,
    "start_time": "2023-05-06T13:24:08.856Z"
   },
   {
    "duration": 229,
    "start_time": "2023-05-06T13:24:25.274Z"
   },
   {
    "duration": 260,
    "start_time": "2023-05-06T13:24:29.148Z"
   },
   {
    "duration": 382,
    "start_time": "2023-05-06T13:24:39.086Z"
   },
   {
    "duration": 247,
    "start_time": "2023-05-06T13:24:49.636Z"
   },
   {
    "duration": 268,
    "start_time": "2023-05-06T13:24:58.017Z"
   },
   {
    "duration": 202,
    "start_time": "2023-05-06T13:27:41.692Z"
   },
   {
    "duration": 246,
    "start_time": "2023-05-06T13:28:04.064Z"
   },
   {
    "duration": 537,
    "start_time": "2023-05-06T13:28:12.837Z"
   },
   {
    "duration": 254,
    "start_time": "2023-05-06T13:28:21.808Z"
   },
   {
    "duration": 430,
    "start_time": "2023-05-06T13:28:33.038Z"
   },
   {
    "duration": 386,
    "start_time": "2023-05-06T13:28:40.737Z"
   },
   {
    "duration": 296,
    "start_time": "2023-05-06T13:28:47.090Z"
   },
   {
    "duration": 327,
    "start_time": "2023-05-06T13:28:55.306Z"
   },
   {
    "duration": 227,
    "start_time": "2023-05-06T13:29:26.862Z"
   },
   {
    "duration": 332,
    "start_time": "2023-05-06T13:29:46.854Z"
   },
   {
    "duration": 355,
    "start_time": "2023-05-06T13:30:16.769Z"
   },
   {
    "duration": 363,
    "start_time": "2023-05-06T13:30:52.757Z"
   },
   {
    "duration": 485,
    "start_time": "2023-05-06T13:32:00.774Z"
   },
   {
    "duration": 55,
    "start_time": "2023-05-06T13:32:46.435Z"
   },
   {
    "duration": 402,
    "start_time": "2023-05-06T13:32:51.529Z"
   },
   {
    "duration": 285,
    "start_time": "2023-05-06T13:33:04.949Z"
   },
   {
    "duration": 203,
    "start_time": "2023-05-06T13:33:12.186Z"
   },
   {
    "duration": 217,
    "start_time": "2023-05-06T13:33:18.589Z"
   },
   {
    "duration": 280,
    "start_time": "2023-05-06T13:33:24.475Z"
   },
   {
    "duration": 55,
    "start_time": "2023-05-06T13:34:01.149Z"
   },
   {
    "duration": 309,
    "start_time": "2023-05-06T13:34:08.823Z"
   },
   {
    "duration": 3704,
    "start_time": "2023-05-06T13:34:25.953Z"
   },
   {
    "duration": 2842,
    "start_time": "2023-05-06T13:34:44.758Z"
   },
   {
    "duration": 424,
    "start_time": "2023-05-06T13:35:04.932Z"
   },
   {
    "duration": 776,
    "start_time": "2023-05-06T13:36:48.687Z"
   },
   {
    "duration": 844,
    "start_time": "2023-05-06T13:37:15.734Z"
   },
   {
    "duration": 798,
    "start_time": "2023-05-06T13:37:42.496Z"
   },
   {
    "duration": 824,
    "start_time": "2023-05-06T13:38:05.172Z"
   },
   {
    "duration": 78,
    "start_time": "2023-05-06T13:38:14.086Z"
   },
   {
    "duration": 806,
    "start_time": "2023-05-06T13:38:28.155Z"
   },
   {
    "duration": 1541,
    "start_time": "2023-05-06T13:39:07.902Z"
   },
   {
    "duration": 6,
    "start_time": "2023-05-06T13:55:21.952Z"
   },
   {
    "duration": 2811,
    "start_time": "2023-05-06T13:55:22.878Z"
   },
   {
    "duration": 1465,
    "start_time": "2023-05-06T13:55:25.692Z"
   },
   {
    "duration": 44,
    "start_time": "2023-05-06T13:55:43.318Z"
   },
   {
    "duration": 52,
    "start_time": "2023-05-06T13:55:46.637Z"
   },
   {
    "duration": 3723,
    "start_time": "2023-05-06T13:59:59.897Z"
   },
   {
    "duration": 2360,
    "start_time": "2023-05-06T14:05:03.000Z"
   },
   {
    "duration": 1186,
    "start_time": "2023-05-06T14:05:31.141Z"
   },
   {
    "duration": 1361,
    "start_time": "2023-05-06T14:06:39.284Z"
   },
   {
    "duration": 11,
    "start_time": "2023-05-06T15:01:10.760Z"
   },
   {
    "duration": 16,
    "start_time": "2023-05-06T15:01:18.074Z"
   },
   {
    "duration": 17,
    "start_time": "2023-05-06T15:03:19.516Z"
   },
   {
    "duration": 31,
    "start_time": "2023-05-06T15:03:19.772Z"
   },
   {
    "duration": 3025,
    "start_time": "2023-05-06T15:03:19.977Z"
   },
   {
    "duration": 381,
    "start_time": "2023-05-06T15:03:23.005Z"
   },
   {
    "duration": 20,
    "start_time": "2023-05-06T15:03:23.388Z"
   },
   {
    "duration": 16,
    "start_time": "2023-05-06T15:04:59.988Z"
   },
   {
    "duration": 10,
    "start_time": "2023-05-06T15:08:22.472Z"
   },
   {
    "duration": 44,
    "start_time": "2023-05-06T15:10:16.535Z"
   },
   {
    "duration": 15,
    "start_time": "2023-05-06T15:10:56.088Z"
   },
   {
    "duration": 12,
    "start_time": "2023-05-06T15:11:14.511Z"
   },
   {
    "duration": 14,
    "start_time": "2023-05-06T15:11:35.666Z"
   },
   {
    "duration": 14,
    "start_time": "2023-05-06T15:11:46.144Z"
   },
   {
    "duration": 70,
    "start_time": "2023-05-06T15:12:25.915Z"
   },
   {
    "duration": 16,
    "start_time": "2023-05-06T15:13:21.402Z"
   },
   {
    "duration": 411,
    "start_time": "2023-05-06T15:13:44.930Z"
   },
   {
    "duration": 16,
    "start_time": "2023-05-06T15:13:46.769Z"
   },
   {
    "duration": 20,
    "start_time": "2023-05-06T15:13:47.366Z"
   },
   {
    "duration": 11,
    "start_time": "2023-05-06T15:13:48.617Z"
   },
   {
    "duration": 1333,
    "start_time": "2023-05-06T15:14:00.007Z"
   },
   {
    "duration": 1088,
    "start_time": "2023-05-06T15:14:01.342Z"
   },
   {
    "duration": 4,
    "start_time": "2023-05-06T15:14:02.431Z"
   },
   {
    "duration": 75,
    "start_time": "2023-05-06T15:14:02.437Z"
   },
   {
    "duration": 22,
    "start_time": "2023-05-06T15:14:02.514Z"
   },
   {
    "duration": 21,
    "start_time": "2023-05-06T15:14:02.538Z"
   },
   {
    "duration": 44,
    "start_time": "2023-05-06T15:14:02.560Z"
   },
   {
    "duration": 10,
    "start_time": "2023-05-06T15:14:02.606Z"
   },
   {
    "duration": 23,
    "start_time": "2023-05-06T15:14:02.618Z"
   },
   {
    "duration": 29,
    "start_time": "2023-05-06T15:14:02.643Z"
   },
   {
    "duration": 34,
    "start_time": "2023-05-06T15:14:02.673Z"
   },
   {
    "duration": 24,
    "start_time": "2023-05-06T15:14:02.708Z"
   },
   {
    "duration": 23,
    "start_time": "2023-05-06T15:14:02.734Z"
   },
   {
    "duration": 61,
    "start_time": "2023-05-06T15:14:02.759Z"
   },
   {
    "duration": 185,
    "start_time": "2023-05-06T15:14:02.822Z"
   },
   {
    "duration": 172,
    "start_time": "2023-05-06T15:14:03.008Z"
   },
   {
    "duration": 10,
    "start_time": "2023-05-06T15:14:03.182Z"
   },
   {
    "duration": 18,
    "start_time": "2023-05-06T15:14:03.193Z"
   },
   {
    "duration": 28,
    "start_time": "2023-05-06T15:14:03.213Z"
   },
   {
    "duration": 468,
    "start_time": "2023-05-06T15:14:03.243Z"
   },
   {
    "duration": 1427,
    "start_time": "2023-05-06T15:14:03.714Z"
   },
   {
    "duration": 1704,
    "start_time": "2023-05-06T15:14:05.142Z"
   },
   {
    "duration": 4,
    "start_time": "2023-05-06T15:14:06.849Z"
   },
   {
    "duration": 2311,
    "start_time": "2023-05-06T15:14:06.855Z"
   },
   {
    "duration": 1325,
    "start_time": "2023-05-06T15:14:09.168Z"
   },
   {
    "duration": 1448,
    "start_time": "2023-05-06T15:14:10.495Z"
   },
   {
    "duration": 17,
    "start_time": "2023-05-06T15:14:11.946Z"
   },
   {
    "duration": 41,
    "start_time": "2023-05-06T15:14:11.967Z"
   },
   {
    "duration": 1860,
    "start_time": "2023-05-06T15:14:12.011Z"
   },
   {
    "duration": 356,
    "start_time": "2023-05-06T15:14:13.873Z"
   },
   {
    "duration": 128,
    "start_time": "2023-05-06T15:14:14.231Z"
   },
   {
    "duration": 0,
    "start_time": "2023-05-06T15:14:14.360Z"
   },
   {
    "duration": 0,
    "start_time": "2023-05-06T15:14:14.362Z"
   },
   {
    "duration": 0,
    "start_time": "2023-05-06T15:14:14.363Z"
   },
   {
    "duration": 0,
    "start_time": "2023-05-06T15:14:14.364Z"
   },
   {
    "duration": 0,
    "start_time": "2023-05-06T15:14:14.365Z"
   },
   {
    "duration": 16,
    "start_time": "2023-05-06T15:14:34.045Z"
   },
   {
    "duration": 16,
    "start_time": "2023-05-06T15:14:43.645Z"
   },
   {
    "duration": 12,
    "start_time": "2023-05-06T15:14:52.389Z"
   },
   {
    "duration": 13,
    "start_time": "2023-05-06T15:14:53.237Z"
   },
   {
    "duration": 11,
    "start_time": "2023-05-06T15:14:53.519Z"
   },
   {
    "duration": 20,
    "start_time": "2023-05-06T15:16:20.090Z"
   },
   {
    "duration": 10,
    "start_time": "2023-05-06T15:16:40.420Z"
   },
   {
    "duration": 11,
    "start_time": "2023-05-06T15:17:58.214Z"
   },
   {
    "duration": 10,
    "start_time": "2023-05-06T15:20:29.487Z"
   },
   {
    "duration": 13,
    "start_time": "2023-05-06T15:22:24.516Z"
   },
   {
    "duration": 10,
    "start_time": "2023-05-06T15:36:03.011Z"
   },
   {
    "duration": 11,
    "start_time": "2023-05-06T15:36:44.292Z"
   },
   {
    "duration": 11,
    "start_time": "2023-05-06T15:37:08.064Z"
   },
   {
    "duration": 11,
    "start_time": "2023-05-06T15:37:09.060Z"
   },
   {
    "duration": 12,
    "start_time": "2023-05-06T15:37:47.865Z"
   },
   {
    "duration": 11,
    "start_time": "2023-05-06T15:38:04.293Z"
   },
   {
    "duration": 10,
    "start_time": "2023-05-06T15:38:47.123Z"
   },
   {
    "duration": 11,
    "start_time": "2023-05-06T15:39:14.291Z"
   },
   {
    "duration": 28,
    "start_time": "2023-05-06T15:39:29.498Z"
   },
   {
    "duration": 10,
    "start_time": "2023-05-06T15:39:44.231Z"
   },
   {
    "duration": 19,
    "start_time": "2023-05-06T15:44:11.581Z"
   },
   {
    "duration": 14,
    "start_time": "2023-05-06T15:44:26.387Z"
   },
   {
    "duration": 11,
    "start_time": "2023-05-06T15:44:40.138Z"
   },
   {
    "duration": 13,
    "start_time": "2023-05-06T15:44:56.862Z"
   },
   {
    "duration": 15,
    "start_time": "2023-05-06T15:45:03.765Z"
   },
   {
    "duration": 12,
    "start_time": "2023-05-06T15:45:09.056Z"
   },
   {
    "duration": 16,
    "start_time": "2023-05-06T15:45:16.699Z"
   },
   {
    "duration": 14,
    "start_time": "2023-05-06T15:45:22.858Z"
   },
   {
    "duration": 17,
    "start_time": "2023-05-06T15:45:26.686Z"
   },
   {
    "duration": 13,
    "start_time": "2023-05-06T15:45:31.360Z"
   },
   {
    "duration": 16,
    "start_time": "2023-05-06T15:48:07.111Z"
   },
   {
    "duration": 10,
    "start_time": "2023-05-06T15:48:09.142Z"
   },
   {
    "duration": 11,
    "start_time": "2023-05-06T15:48:10.342Z"
   },
   {
    "duration": 13,
    "start_time": "2023-05-06T15:48:11.099Z"
   },
   {
    "duration": 11,
    "start_time": "2023-05-06T15:48:27.972Z"
   },
   {
    "duration": 13,
    "start_time": "2023-05-06T15:48:29.102Z"
   },
   {
    "duration": 13,
    "start_time": "2023-05-06T15:48:36.858Z"
   },
   {
    "duration": 11,
    "start_time": "2023-05-06T15:56:51.364Z"
   },
   {
    "duration": 10,
    "start_time": "2023-05-06T15:56:59.291Z"
   },
   {
    "duration": 10,
    "start_time": "2023-05-06T15:57:48.930Z"
   },
   {
    "duration": 11,
    "start_time": "2023-05-06T15:58:21.426Z"
   },
   {
    "duration": 1328,
    "start_time": "2023-05-07T08:05:56.925Z"
   },
   {
    "duration": 1522,
    "start_time": "2023-05-07T08:05:58.255Z"
   },
   {
    "duration": 4,
    "start_time": "2023-05-07T08:05:59.779Z"
   },
   {
    "duration": 22,
    "start_time": "2023-05-07T08:05:59.784Z"
   },
   {
    "duration": 7,
    "start_time": "2023-05-07T08:05:59.808Z"
   },
   {
    "duration": 16,
    "start_time": "2023-05-07T08:05:59.817Z"
   },
   {
    "duration": 28,
    "start_time": "2023-05-07T08:05:59.835Z"
   },
   {
    "duration": 11,
    "start_time": "2023-05-07T08:05:59.865Z"
   },
   {
    "duration": 5,
    "start_time": "2023-05-07T08:05:59.877Z"
   },
   {
    "duration": 12,
    "start_time": "2023-05-07T08:05:59.885Z"
   },
   {
    "duration": 18,
    "start_time": "2023-05-07T08:05:59.899Z"
   },
   {
    "duration": 13,
    "start_time": "2023-05-07T08:05:59.919Z"
   },
   {
    "duration": 10,
    "start_time": "2023-05-07T08:05:59.934Z"
   },
   {
    "duration": 39,
    "start_time": "2023-05-07T08:05:59.946Z"
   },
   {
    "duration": 209,
    "start_time": "2023-05-07T08:05:59.987Z"
   },
   {
    "duration": 170,
    "start_time": "2023-05-07T08:06:00.198Z"
   },
   {
    "duration": 9,
    "start_time": "2023-05-07T08:06:00.370Z"
   },
   {
    "duration": 33,
    "start_time": "2023-05-07T08:06:00.380Z"
   },
   {
    "duration": 38,
    "start_time": "2023-05-07T08:06:00.415Z"
   },
   {
    "duration": 465,
    "start_time": "2023-05-07T08:06:00.455Z"
   },
   {
    "duration": 1403,
    "start_time": "2023-05-07T08:06:00.922Z"
   },
   {
    "duration": 1504,
    "start_time": "2023-05-07T08:06:02.327Z"
   },
   {
    "duration": 3,
    "start_time": "2023-05-07T08:06:03.833Z"
   },
   {
    "duration": 2181,
    "start_time": "2023-05-07T08:06:03.838Z"
   },
   {
    "duration": 1300,
    "start_time": "2023-05-07T08:06:06.021Z"
   },
   {
    "duration": 1429,
    "start_time": "2023-05-07T08:06:07.323Z"
   },
   {
    "duration": 16,
    "start_time": "2023-05-07T08:06:08.754Z"
   },
   {
    "duration": 23,
    "start_time": "2023-05-07T08:06:08.774Z"
   },
   {
    "duration": 1769,
    "start_time": "2023-05-07T08:06:08.799Z"
   },
   {
    "duration": 356,
    "start_time": "2023-05-07T08:06:10.570Z"
   },
   {
    "duration": 14,
    "start_time": "2023-05-07T08:06:10.928Z"
   },
   {
    "duration": 24,
    "start_time": "2023-05-07T08:06:10.944Z"
   },
   {
    "duration": 11,
    "start_time": "2023-05-07T08:06:10.970Z"
   },
   {
    "duration": 10,
    "start_time": "2023-05-07T08:06:10.982Z"
   },
   {
    "duration": 25,
    "start_time": "2023-05-07T08:06:10.993Z"
   },
   {
    "duration": 8,
    "start_time": "2023-05-07T08:06:11.020Z"
   },
   {
    "duration": 12,
    "start_time": "2023-05-07T08:06:11.030Z"
   },
   {
    "duration": 8,
    "start_time": "2023-05-07T08:06:11.044Z"
   },
   {
    "duration": 2603,
    "start_time": "2023-05-07T08:08:06.183Z"
   },
   {
    "duration": 10,
    "start_time": "2023-05-07T08:27:45.070Z"
   },
   {
    "duration": 13,
    "start_time": "2023-05-07T08:34:16.604Z"
   },
   {
    "duration": 12,
    "start_time": "2023-05-07T08:34:23.058Z"
   },
   {
    "duration": 16,
    "start_time": "2023-05-07T08:54:50.839Z"
   },
   {
    "duration": 249,
    "start_time": "2023-05-07T08:57:42.055Z"
   },
   {
    "duration": 1250,
    "start_time": "2023-05-07T08:58:13.184Z"
   },
   {
    "duration": 23,
    "start_time": "2023-05-07T09:02:01.664Z"
   },
   {
    "duration": 121,
    "start_time": "2023-05-07T09:04:12.243Z"
   },
   {
    "duration": 21,
    "start_time": "2023-05-07T09:04:24.896Z"
   },
   {
    "duration": 22,
    "start_time": "2023-05-07T09:04:33.622Z"
   },
   {
    "duration": 16,
    "start_time": "2023-05-07T09:05:16.986Z"
   },
   {
    "duration": 27,
    "start_time": "2023-05-07T09:05:42.497Z"
   },
   {
    "duration": 17,
    "start_time": "2023-05-07T09:05:48.730Z"
   },
   {
    "duration": 12,
    "start_time": "2023-05-07T09:06:43.030Z"
   },
   {
    "duration": 1190,
    "start_time": "2023-05-07T09:06:43.637Z"
   },
   {
    "duration": 22,
    "start_time": "2023-05-07T09:06:44.967Z"
   },
   {
    "duration": 15,
    "start_time": "2023-05-07T09:12:53.316Z"
   },
   {
    "duration": 13,
    "start_time": "2023-05-07T09:15:07.853Z"
   },
   {
    "duration": 342,
    "start_time": "2023-05-07T09:16:12.376Z"
   },
   {
    "duration": 185,
    "start_time": "2023-05-07T09:17:41.450Z"
   },
   {
    "duration": 11,
    "start_time": "2023-05-07T09:36:30.366Z"
   },
   {
    "duration": 15,
    "start_time": "2023-05-07T09:36:37.763Z"
   },
   {
    "duration": 11,
    "start_time": "2023-05-07T09:36:44.563Z"
   },
   {
    "duration": 14,
    "start_time": "2023-05-07T09:37:23.283Z"
   },
   {
    "duration": 10,
    "start_time": "2023-05-07T09:37:32.861Z"
   },
   {
    "duration": 16,
    "start_time": "2023-05-07T09:37:42.726Z"
   },
   {
    "duration": 1214,
    "start_time": "2023-05-07T09:50:24.061Z"
   },
   {
    "duration": 1108,
    "start_time": "2023-05-09T08:24:29.207Z"
   },
   {
    "duration": 1050,
    "start_time": "2023-05-09T08:24:30.316Z"
   },
   {
    "duration": 3,
    "start_time": "2023-05-09T08:24:31.367Z"
   },
   {
    "duration": 62,
    "start_time": "2023-05-09T08:24:31.372Z"
   },
   {
    "duration": 46,
    "start_time": "2023-05-09T08:24:31.436Z"
   },
   {
    "duration": 35,
    "start_time": "2023-05-09T08:24:31.484Z"
   },
   {
    "duration": 31,
    "start_time": "2023-05-09T08:24:31.521Z"
   },
   {
    "duration": 12,
    "start_time": "2023-05-09T08:24:31.553Z"
   },
   {
    "duration": 18,
    "start_time": "2023-05-09T08:24:31.566Z"
   },
   {
    "duration": 26,
    "start_time": "2023-05-09T08:24:31.587Z"
   },
   {
    "duration": 28,
    "start_time": "2023-05-09T08:24:31.615Z"
   },
   {
    "duration": 26,
    "start_time": "2023-05-09T08:24:31.644Z"
   },
   {
    "duration": 20,
    "start_time": "2023-05-09T08:24:31.671Z"
   },
   {
    "duration": 37,
    "start_time": "2023-05-09T08:24:31.692Z"
   },
   {
    "duration": 171,
    "start_time": "2023-05-09T08:24:31.731Z"
   },
   {
    "duration": 155,
    "start_time": "2023-05-09T08:24:31.903Z"
   },
   {
    "duration": 8,
    "start_time": "2023-05-09T08:24:32.060Z"
   },
   {
    "duration": 26,
    "start_time": "2023-05-09T08:24:32.070Z"
   },
   {
    "duration": 10,
    "start_time": "2023-05-09T08:24:32.098Z"
   },
   {
    "duration": 408,
    "start_time": "2023-05-09T08:24:32.109Z"
   },
   {
    "duration": 1123,
    "start_time": "2023-05-09T08:24:32.519Z"
   },
   {
    "duration": 1388,
    "start_time": "2023-05-09T08:24:33.643Z"
   },
   {
    "duration": 4,
    "start_time": "2023-05-09T08:24:35.032Z"
   },
   {
    "duration": 2124,
    "start_time": "2023-05-09T08:24:35.037Z"
   },
   {
    "duration": 1388,
    "start_time": "2023-05-09T08:24:37.163Z"
   },
   {
    "duration": 1405,
    "start_time": "2023-05-09T08:24:38.553Z"
   },
   {
    "duration": 12,
    "start_time": "2023-05-09T08:24:39.960Z"
   },
   {
    "duration": 37,
    "start_time": "2023-05-09T08:24:39.975Z"
   },
   {
    "duration": 1650,
    "start_time": "2023-05-09T08:24:40.014Z"
   },
   {
    "duration": 365,
    "start_time": "2023-05-09T08:24:41.665Z"
   },
   {
    "duration": 11,
    "start_time": "2023-05-09T08:24:42.032Z"
   },
   {
    "duration": 15,
    "start_time": "2023-05-09T08:24:42.045Z"
   },
   {
    "duration": 10,
    "start_time": "2023-05-09T08:24:42.062Z"
   },
   {
    "duration": 9,
    "start_time": "2023-05-09T08:24:42.094Z"
   },
   {
    "duration": 17,
    "start_time": "2023-05-09T08:24:42.104Z"
   },
   {
    "duration": 11,
    "start_time": "2023-05-09T08:24:42.123Z"
   },
   {
    "duration": 10,
    "start_time": "2023-05-09T08:24:42.136Z"
   },
   {
    "duration": 1298,
    "start_time": "2023-05-09T08:24:42.147Z"
   },
   {
    "duration": 14,
    "start_time": "2023-05-09T08:24:43.447Z"
   },
   {
    "duration": 10,
    "start_time": "2023-05-09T08:24:43.463Z"
   },
   {
    "duration": 311,
    "start_time": "2023-05-09T08:24:43.475Z"
   },
   {
    "duration": 14,
    "start_time": "2023-05-09T08:24:43.795Z"
   },
   {
    "duration": 53,
    "start_time": "2023-05-09T10:41:20.372Z"
   },
   {
    "duration": 1652,
    "start_time": "2023-05-09T10:41:28.411Z"
   },
   {
    "duration": 1401,
    "start_time": "2023-05-09T10:41:30.066Z"
   },
   {
    "duration": 19,
    "start_time": "2023-05-09T10:41:31.469Z"
   },
   {
    "duration": 25,
    "start_time": "2023-05-09T10:41:31.491Z"
   },
   {
    "duration": 54,
    "start_time": "2023-05-09T10:41:31.518Z"
   },
   {
    "duration": 34,
    "start_time": "2023-05-09T10:41:31.574Z"
   },
   {
    "duration": 41,
    "start_time": "2023-05-09T10:41:31.611Z"
   },
   {
    "duration": 54,
    "start_time": "2023-05-09T10:41:31.654Z"
   },
   {
    "duration": 21,
    "start_time": "2023-05-09T10:41:31.710Z"
   },
   {
    "duration": 22,
    "start_time": "2023-05-09T10:41:31.735Z"
   },
   {
    "duration": 35,
    "start_time": "2023-05-09T10:41:31.759Z"
   },
   {
    "duration": 54,
    "start_time": "2023-05-09T10:41:31.796Z"
   },
   {
    "duration": 109,
    "start_time": "2023-05-09T10:41:31.852Z"
   },
   {
    "duration": 36,
    "start_time": "2023-05-09T10:41:31.963Z"
   },
   {
    "duration": 105,
    "start_time": "2023-05-09T10:41:32.001Z"
   },
   {
    "duration": 209,
    "start_time": "2023-05-09T10:41:32.109Z"
   },
   {
    "duration": 195,
    "start_time": "2023-05-09T10:41:32.320Z"
   },
   {
    "duration": 9,
    "start_time": "2023-05-09T10:41:32.517Z"
   },
   {
    "duration": 29,
    "start_time": "2023-05-09T10:41:32.528Z"
   },
   {
    "duration": 16,
    "start_time": "2023-05-09T10:41:32.560Z"
   },
   {
    "duration": 542,
    "start_time": "2023-05-09T10:41:32.578Z"
   },
   {
    "duration": 1657,
    "start_time": "2023-05-09T10:41:33.122Z"
   },
   {
    "duration": 1772,
    "start_time": "2023-05-09T10:41:34.781Z"
   },
   {
    "duration": 4,
    "start_time": "2023-05-09T10:41:36.555Z"
   },
   {
    "duration": 3651,
    "start_time": "2023-05-09T10:41:36.562Z"
   },
   {
    "duration": 1877,
    "start_time": "2023-05-09T10:41:40.215Z"
   },
   {
    "duration": 1783,
    "start_time": "2023-05-09T10:41:42.095Z"
   },
   {
    "duration": 24,
    "start_time": "2023-05-09T10:41:43.883Z"
   },
   {
    "duration": 35,
    "start_time": "2023-05-09T10:41:43.910Z"
   },
   {
    "duration": 2149,
    "start_time": "2023-05-09T10:41:43.948Z"
   },
   {
    "duration": 415,
    "start_time": "2023-05-09T10:41:46.099Z"
   },
   {
    "duration": 12,
    "start_time": "2023-05-09T10:41:46.516Z"
   },
   {
    "duration": 15,
    "start_time": "2023-05-09T10:41:46.531Z"
   },
   {
    "duration": 12,
    "start_time": "2023-05-09T10:41:46.549Z"
   },
   {
    "duration": 22,
    "start_time": "2023-05-09T10:41:46.563Z"
   },
   {
    "duration": 33,
    "start_time": "2023-05-09T10:41:46.587Z"
   },
   {
    "duration": 18,
    "start_time": "2023-05-09T10:41:46.622Z"
   },
   {
    "duration": 21,
    "start_time": "2023-05-09T10:41:46.642Z"
   },
   {
    "duration": 2090,
    "start_time": "2023-05-09T10:41:46.666Z"
   },
   {
    "duration": 78,
    "start_time": "2023-05-09T10:41:48.758Z"
   },
   {
    "duration": 23,
    "start_time": "2023-05-09T10:41:48.838Z"
   },
   {
    "duration": 692,
    "start_time": "2023-05-09T10:41:48.863Z"
   },
   {
    "duration": 69,
    "start_time": "2023-05-09T10:41:49.557Z"
   },
   {
    "duration": 18,
    "start_time": "2023-05-09T10:56:34.759Z"
   },
   {
    "duration": 13,
    "start_time": "2023-05-09T10:56:49.661Z"
   },
   {
    "duration": 18,
    "start_time": "2023-05-09T10:57:41.511Z"
   },
   {
    "duration": 14,
    "start_time": "2023-05-09T10:58:17.016Z"
   },
   {
    "duration": 10,
    "start_time": "2023-05-09T10:58:17.554Z"
   },
   {
    "duration": 13,
    "start_time": "2023-05-09T10:58:18.720Z"
   },
   {
    "duration": 13,
    "start_time": "2023-05-09T10:58:20.827Z"
   },
   {
    "duration": 13,
    "start_time": "2023-05-09T10:58:23.603Z"
   },
   {
    "duration": 16,
    "start_time": "2023-05-09T10:58:24.685Z"
   },
   {
    "duration": 93,
    "start_time": "2023-05-09T11:07:09.542Z"
   },
   {
    "duration": 12,
    "start_time": "2023-05-09T13:30:52.236Z"
   },
   {
    "duration": 15,
    "start_time": "2023-05-09T13:30:58.166Z"
   },
   {
    "duration": 105,
    "start_time": "2023-05-09T13:57:13.165Z"
   },
   {
    "duration": 532,
    "start_time": "2023-05-09T14:01:44.428Z"
   },
   {
    "duration": 207,
    "start_time": "2023-05-09T14:02:16.653Z"
   },
   {
    "duration": 1453,
    "start_time": "2023-05-09T14:02:41.696Z"
   },
   {
    "duration": 1414,
    "start_time": "2023-05-09T14:02:43.151Z"
   },
   {
    "duration": 22,
    "start_time": "2023-05-09T14:02:44.567Z"
   },
   {
    "duration": 4,
    "start_time": "2023-05-09T14:02:44.592Z"
   },
   {
    "duration": 30,
    "start_time": "2023-05-09T14:02:44.597Z"
   },
   {
    "duration": 10,
    "start_time": "2023-05-09T14:02:44.636Z"
   },
   {
    "duration": 21,
    "start_time": "2023-05-09T14:02:44.648Z"
   },
   {
    "duration": 38,
    "start_time": "2023-05-09T14:02:44.674Z"
   },
   {
    "duration": 15,
    "start_time": "2023-05-09T14:02:44.714Z"
   },
   {
    "duration": 8,
    "start_time": "2023-05-09T14:02:44.734Z"
   },
   {
    "duration": 9,
    "start_time": "2023-05-09T14:02:44.743Z"
   },
   {
    "duration": 12,
    "start_time": "2023-05-09T14:02:44.754Z"
   },
   {
    "duration": 43,
    "start_time": "2023-05-09T14:02:44.773Z"
   },
   {
    "duration": 19,
    "start_time": "2023-05-09T14:02:44.818Z"
   },
   {
    "duration": 45,
    "start_time": "2023-05-09T14:02:44.840Z"
   },
   {
    "duration": 284,
    "start_time": "2023-05-09T14:02:44.888Z"
   },
   {
    "duration": 203,
    "start_time": "2023-05-09T14:02:45.175Z"
   },
   {
    "duration": 12,
    "start_time": "2023-05-09T14:02:45.380Z"
   },
   {
    "duration": 20,
    "start_time": "2023-05-09T14:02:45.411Z"
   },
   {
    "duration": 15,
    "start_time": "2023-05-09T14:02:45.433Z"
   },
   {
    "duration": 552,
    "start_time": "2023-05-09T14:02:45.450Z"
   },
   {
    "duration": 1581,
    "start_time": "2023-05-09T14:02:46.015Z"
   },
   {
    "duration": 2163,
    "start_time": "2023-05-09T14:02:47.598Z"
   },
   {
    "duration": 5,
    "start_time": "2023-05-09T14:02:49.765Z"
   },
   {
    "duration": 2835,
    "start_time": "2023-05-09T14:02:49.772Z"
   },
   {
    "duration": 1540,
    "start_time": "2023-05-09T14:02:52.611Z"
   },
   {
    "duration": 1626,
    "start_time": "2023-05-09T14:02:54.155Z"
   },
   {
    "duration": 14,
    "start_time": "2023-05-09T14:02:55.785Z"
   },
   {
    "duration": 51,
    "start_time": "2023-05-09T14:02:55.802Z"
   },
   {
    "duration": 2156,
    "start_time": "2023-05-09T14:02:55.856Z"
   },
   {
    "duration": 437,
    "start_time": "2023-05-09T14:02:58.014Z"
   },
   {
    "duration": 17,
    "start_time": "2023-05-09T14:02:58.453Z"
   },
   {
    "duration": 41,
    "start_time": "2023-05-09T14:02:58.472Z"
   },
   {
    "duration": 18,
    "start_time": "2023-05-09T14:02:58.516Z"
   },
   {
    "duration": 34,
    "start_time": "2023-05-09T14:02:58.537Z"
   },
   {
    "duration": 17,
    "start_time": "2023-05-09T14:02:58.573Z"
   },
   {
    "duration": 33,
    "start_time": "2023-05-09T14:02:58.593Z"
   },
   {
    "duration": 17,
    "start_time": "2023-05-09T14:02:58.628Z"
   },
   {
    "duration": 1764,
    "start_time": "2023-05-09T14:02:58.647Z"
   },
   {
    "duration": 24,
    "start_time": "2023-05-09T14:03:00.414Z"
   },
   {
    "duration": 24,
    "start_time": "2023-05-09T14:03:00.440Z"
   },
   {
    "duration": 373,
    "start_time": "2023-05-09T14:03:00.470Z"
   },
   {
    "duration": 23,
    "start_time": "2023-05-09T14:03:00.846Z"
   },
   {
    "duration": 516,
    "start_time": "2023-05-09T14:03:00.872Z"
   },
   {
    "duration": 265,
    "start_time": "2023-05-09T14:05:26.768Z"
   },
   {
    "duration": 1087,
    "start_time": "2023-05-10T09:58:10.631Z"
   },
   {
    "duration": 1155,
    "start_time": "2023-05-10T09:58:11.720Z"
   },
   {
    "duration": 15,
    "start_time": "2023-05-10T09:58:12.877Z"
   },
   {
    "duration": 7,
    "start_time": "2023-05-10T09:58:12.895Z"
   },
   {
    "duration": 22,
    "start_time": "2023-05-10T09:58:12.903Z"
   },
   {
    "duration": 16,
    "start_time": "2023-05-10T09:58:12.927Z"
   },
   {
    "duration": 14,
    "start_time": "2023-05-10T09:58:12.945Z"
   },
   {
    "duration": 30,
    "start_time": "2023-05-10T09:58:12.961Z"
   },
   {
    "duration": 25,
    "start_time": "2023-05-10T09:58:12.993Z"
   },
   {
    "duration": 6,
    "start_time": "2023-05-10T09:58:13.021Z"
   },
   {
    "duration": 6,
    "start_time": "2023-05-10T09:58:13.028Z"
   },
   {
    "duration": 5,
    "start_time": "2023-05-10T09:58:13.035Z"
   },
   {
    "duration": 30,
    "start_time": "2023-05-10T09:58:13.042Z"
   },
   {
    "duration": 11,
    "start_time": "2023-05-10T09:58:13.074Z"
   },
   {
    "duration": 42,
    "start_time": "2023-05-10T09:58:13.087Z"
   },
   {
    "duration": 217,
    "start_time": "2023-05-10T09:58:13.131Z"
   },
   {
    "duration": 212,
    "start_time": "2023-05-10T09:58:13.350Z"
   },
   {
    "duration": 12,
    "start_time": "2023-05-10T09:58:13.563Z"
   },
   {
    "duration": 14,
    "start_time": "2023-05-10T09:58:13.577Z"
   },
   {
    "duration": 18,
    "start_time": "2023-05-10T09:58:13.592Z"
   },
   {
    "duration": 476,
    "start_time": "2023-05-10T09:58:13.611Z"
   },
   {
    "duration": 1327,
    "start_time": "2023-05-10T09:58:14.088Z"
   },
   {
    "duration": 1786,
    "start_time": "2023-05-10T09:58:15.418Z"
   },
   {
    "duration": 5,
    "start_time": "2023-05-10T09:58:17.206Z"
   },
   {
    "duration": 2244,
    "start_time": "2023-05-10T09:58:17.213Z"
   },
   {
    "duration": 1188,
    "start_time": "2023-05-10T09:58:19.458Z"
   },
   {
    "duration": 1403,
    "start_time": "2023-05-10T09:58:20.647Z"
   },
   {
    "duration": 21,
    "start_time": "2023-05-10T09:58:22.053Z"
   },
   {
    "duration": 28,
    "start_time": "2023-05-10T09:58:22.076Z"
   },
   {
    "duration": 1527,
    "start_time": "2023-05-10T09:58:22.105Z"
   },
   {
    "duration": 325,
    "start_time": "2023-05-10T09:58:23.633Z"
   },
   {
    "duration": 18,
    "start_time": "2023-05-10T09:58:23.959Z"
   },
   {
    "duration": 11,
    "start_time": "2023-05-10T09:58:23.979Z"
   },
   {
    "duration": 11,
    "start_time": "2023-05-10T09:58:23.992Z"
   },
   {
    "duration": 11,
    "start_time": "2023-05-10T09:58:24.005Z"
   },
   {
    "duration": 11,
    "start_time": "2023-05-10T09:58:24.018Z"
   },
   {
    "duration": 52,
    "start_time": "2023-05-10T09:58:24.031Z"
   },
   {
    "duration": 12,
    "start_time": "2023-05-10T09:58:24.085Z"
   },
   {
    "duration": 1089,
    "start_time": "2023-05-10T09:58:24.098Z"
   },
   {
    "duration": 14,
    "start_time": "2023-05-10T09:58:25.188Z"
   },
   {
    "duration": 40,
    "start_time": "2023-05-10T09:58:25.203Z"
   },
   {
    "duration": 282,
    "start_time": "2023-05-10T09:58:25.245Z"
   },
   {
    "duration": 11,
    "start_time": "2023-05-10T09:58:25.529Z"
   }
  ],
  "kernelspec": {
   "display_name": "Python 3 (ipykernel)",
   "language": "python",
   "name": "python3"
  },
  "language_info": {
   "codemirror_mode": {
    "name": "ipython",
    "version": 3
   },
   "file_extension": ".py",
   "mimetype": "text/x-python",
   "name": "python",
   "nbconvert_exporter": "python",
   "pygments_lexer": "ipython3",
   "version": "3.9.13"
  },
  "toc": {
   "base_numbering": 1,
   "nav_menu": {},
   "number_sections": true,
   "sideBar": true,
   "skip_h1_title": true,
   "title_cell": "Table of Contents",
   "title_sidebar": "Contents",
   "toc_cell": false,
   "toc_position": {
    "height": "calc(100% - 180px)",
    "left": "10px",
    "top": "150px",
    "width": "275px"
   },
   "toc_section_display": true,
   "toc_window_display": true
  }
 },
 "nbformat": 4,
 "nbformat_minor": 2
}
